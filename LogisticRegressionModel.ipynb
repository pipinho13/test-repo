{
 "cells": [
  {
   "cell_type": "code",
   "execution_count": 55,
   "metadata": {
    "collapsed": true
   },
   "outputs": [],
   "source": [
    "###Import the numpy and pandas \n",
    "import numpy as np\n",
    "import pandas as pd\n",
    "from pandas import Series, DataFrame\n",
    "\n",
    "import matplotlib as mpl\n",
    "import matplotlib.pyplot as plt\n",
    "import seaborn as sns"
   ]
  },
  {
   "cell_type": "code",
   "execution_count": 56,
   "metadata": {
    "collapsed": true
   },
   "outputs": [],
   "source": [
    "%matplotlib inline"
   ]
  },
  {
   "cell_type": "code",
   "execution_count": 57,
   "metadata": {
    "collapsed": false
   },
   "outputs": [],
   "source": [
    "##read the csv files\n",
    "df=pd.read_csv(\"oct_nov_churned.csv\")"
   ]
  },
  {
   "cell_type": "code",
   "execution_count": 58,
   "metadata": {
    "collapsed": false
   },
   "outputs": [],
   "source": [
    "##Remove the registrationid column\n",
    "df=df.drop(['registrationcontactid'], axis=1)"
   ]
  },
  {
   "cell_type": "markdown",
   "metadata": {
    "collapsed": false
   },
   "source": [
    "# Probability to Churn in the Training Dataset\n",
    "The probability to Churn in the dataset is 1% which is quite low. So even if we do not build any model and as a prediction we assign the **Churned equal to zero to all observations** then the **Accuracy** of our model will be **99%** "
   ]
  },
  {
   "cell_type": "code",
   "execution_count": 59,
   "metadata": {
    "collapsed": false
   },
   "outputs": [
    {
     "name": "stdout",
     "output_type": "stream",
     "text": [
      "1.09 %\n"
     ]
    }
   ],
   "source": [
    "### Probability to Churn\n",
    "print round(df.churned.mean()*100,2), '%'"
   ]
  },
  {
   "cell_type": "markdown",
   "metadata": {},
   "source": [
    "### Goal of the Analysis\n",
    "In this case we do not case so much about the **Accuracy** of the Predictive Model but mainly for the **Sensitivity** and then for the **Specificity**\n",
    "Below you can find the definition of those statistical measures:\n",
    "+ **Sensitivity** (also called the true positive rate, the recall, or probability of detection[1] in some fields) measures the proportion of positives that are correctly identified as such (e.g., the percentage of sick people who are correctly identified as having the condition).\n",
    "+ **Specificity** (also called the true negative rate) measures the proportion of negatives that are correctly identified as such (e.g., the percentage of healthy people who are correctly identified as not having the condition)."
   ]
  },
  {
   "cell_type": "markdown",
   "metadata": {},
   "source": [
    "# Data Cleaning\n",
    "The dataset consists of 58 columns. We will need to clean, remove, transform some of the columns"
   ]
  },
  {
   "cell_type": "markdown",
   "metadata": {},
   "source": [
    "There are some sparse columns with many NaN values and we would like to remove them from our analysis"
   ]
  },
  {
   "cell_type": "code",
   "execution_count": 60,
   "metadata": {
    "collapsed": false
   },
   "outputs": [
    {
     "data": {
      "text/plain": [
       "churned                                       0\n",
       "score                                         0\n",
       "energy_efficiency                             0\n",
       "water_efficiency                              0\n",
       "number_of_311_complains_past_year             0\n",
       "number_of_311_complains_2_years_prior         0\n",
       "number_of_ecb_violations_last_year            0\n",
       "number_of_ecb_violations_2_years_prior        0\n",
       "hmcv_violations_past_year_class_a             0\n",
       "hmcv_violations_past_year_class_b             0\n",
       "hmcv_violations_past_year_class_c             0\n",
       "hmcv_violations_2_years_prior_class_a         0\n",
       "hmcv_violations_2_years_prior_class_b         0\n",
       "hmcv_violations_2_years_prior_class_c         0\n",
       "total_resolve_time                          777\n",
       "total_violations                              0\n",
       "violations_open                               0\n",
       "violations_open_last_year                     0\n",
       "violations_2_years_prior                      0\n",
       "hearing_outcomes                           1006\n",
       "registered                                    0\n",
       "buildingid                                    0\n",
       "housenumber                                   0\n",
       "streetname                                    0\n",
       "boro                                          0\n",
       "zip                                          33\n",
       "communityboard                                0\n",
       "dobbuildingclassid                            1\n",
       "legalstories                                  0\n",
       "legalclassa                                   1\n",
       "legalclassb                                 625\n",
       "recordstatus                                  0\n",
       "contactdescription                            0\n",
       "firstname                                     0\n",
       "lastname                                      0\n",
       "units                                        53\n",
       "number_buildings                              0\n",
       "avg_resolve_time                             41\n",
       "hearing_outcomes-2                           42\n",
       "class_a_per_unit                             53\n",
       "class_b_per_unit                             53\n",
       "class_c_per_unit                             53\n",
       "percent_condo_portfolio                    1107\n",
       "percent_coop_portfolio                     2033\n",
       "percent_genpart_portfolio                  4402\n",
       "percent_llc_portfolio                      7996\n",
       "percent_corp_portfolio                     2623\n",
       "percent_indiv_portfolio                    8716\n",
       "percent_condominium_portfolio             10399\n",
       "percent_joint_portfolio                    8789\n",
       "percent_lp_portfolio                      10194\n",
       "percent_hdfc_portfolio                    10259\n",
       "percent_registered                            0\n",
       "average_energy                                0\n",
       "average_water                                 0\n",
       "management_ranking                            0\n",
       "corporationname                               0\n",
       "dtype: int64"
      ]
     },
     "execution_count": 60,
     "metadata": {},
     "output_type": "execute_result"
    }
   ],
   "source": [
    "## Number of NaN Values per column in the Train Dataset\n",
    "df.isnull().sum()"
   ]
  },
  {
   "cell_type": "code",
   "execution_count": 61,
   "metadata": {
    "collapsed": false
   },
   "outputs": [],
   "source": [
    "AllColumns=list(df.columns)\n",
    "isgreater=DataFrame(df.isnull().sum()>1000)\n",
    "RemoveColumns=list(isgreater.loc[isgreater[0]==True,].index)\n",
    "KeepColumns=list(isgreater.loc[isgreater[0]==False,].index)"
   ]
  },
  {
   "cell_type": "code",
   "execution_count": 62,
   "metadata": {
    "collapsed": false
   },
   "outputs": [],
   "source": [
    "### Keep only the columns with less than 1000 NaN values\n",
    "df=df[KeepColumns]"
   ]
  },
  {
   "cell_type": "code",
   "execution_count": 63,
   "metadata": {
    "collapsed": false
   },
   "outputs": [
    {
     "data": {
      "text/html": [
       "<div>\n",
       "<table border=\"1\" class=\"dataframe\">\n",
       "  <thead>\n",
       "    <tr style=\"text-align: right;\">\n",
       "      <th></th>\n",
       "      <th>churned</th>\n",
       "      <th>score</th>\n",
       "      <th>energy_efficiency</th>\n",
       "      <th>water_efficiency</th>\n",
       "      <th>number_of_311_complains_past_year</th>\n",
       "      <th>number_of_311_complains_2_years_prior</th>\n",
       "      <th>number_of_ecb_violations_last_year</th>\n",
       "      <th>number_of_ecb_violations_2_years_prior</th>\n",
       "      <th>hmcv_violations_past_year_class_a</th>\n",
       "      <th>hmcv_violations_past_year_class_b</th>\n",
       "      <th>...</th>\n",
       "      <th>avg_resolve_time</th>\n",
       "      <th>hearing_outcomes-2</th>\n",
       "      <th>class_a_per_unit</th>\n",
       "      <th>class_b_per_unit</th>\n",
       "      <th>class_c_per_unit</th>\n",
       "      <th>percent_registered</th>\n",
       "      <th>average_energy</th>\n",
       "      <th>average_water</th>\n",
       "      <th>management_ranking</th>\n",
       "      <th>corporationname</th>\n",
       "    </tr>\n",
       "  </thead>\n",
       "  <tbody>\n",
       "    <tr>\n",
       "      <th>0</th>\n",
       "      <td>0</td>\n",
       "      <td>402.64</td>\n",
       "      <td>263.65</td>\n",
       "      <td>134.99</td>\n",
       "      <td>1</td>\n",
       "      <td>2</td>\n",
       "      <td>0</td>\n",
       "      <td>0</td>\n",
       "      <td>0</td>\n",
       "      <td>0</td>\n",
       "      <td>...</td>\n",
       "      <td>44.97479</td>\n",
       "      <td>-0.986111</td>\n",
       "      <td>0.04</td>\n",
       "      <td>0.04</td>\n",
       "      <td>0.0</td>\n",
       "      <td>0.39</td>\n",
       "      <td>263.65</td>\n",
       "      <td>134.99</td>\n",
       "      <td>401.833548</td>\n",
       "      <td>COLBY PROPERTY MANAGEMENT</td>\n",
       "    </tr>\n",
       "    <tr>\n",
       "      <th>1</th>\n",
       "      <td>0</td>\n",
       "      <td>398.64</td>\n",
       "      <td>263.65</td>\n",
       "      <td>134.99</td>\n",
       "      <td>0</td>\n",
       "      <td>0</td>\n",
       "      <td>0</td>\n",
       "      <td>0</td>\n",
       "      <td>0</td>\n",
       "      <td>0</td>\n",
       "      <td>...</td>\n",
       "      <td>44.97479</td>\n",
       "      <td>-0.986111</td>\n",
       "      <td>0.04</td>\n",
       "      <td>0.04</td>\n",
       "      <td>0.0</td>\n",
       "      <td>0.39</td>\n",
       "      <td>263.65</td>\n",
       "      <td>134.99</td>\n",
       "      <td>401.833548</td>\n",
       "      <td>COLBY PROPERTY MANAGEMENT</td>\n",
       "    </tr>\n",
       "    <tr>\n",
       "      <th>2</th>\n",
       "      <td>0</td>\n",
       "      <td>398.64</td>\n",
       "      <td>263.65</td>\n",
       "      <td>134.99</td>\n",
       "      <td>0</td>\n",
       "      <td>0</td>\n",
       "      <td>0</td>\n",
       "      <td>0</td>\n",
       "      <td>0</td>\n",
       "      <td>0</td>\n",
       "      <td>...</td>\n",
       "      <td>44.97479</td>\n",
       "      <td>-0.986111</td>\n",
       "      <td>0.04</td>\n",
       "      <td>0.04</td>\n",
       "      <td>0.0</td>\n",
       "      <td>0.39</td>\n",
       "      <td>263.65</td>\n",
       "      <td>134.99</td>\n",
       "      <td>401.833548</td>\n",
       "      <td>COLBY PROPERTY MANAGEMENT</td>\n",
       "    </tr>\n",
       "    <tr>\n",
       "      <th>3</th>\n",
       "      <td>0</td>\n",
       "      <td>398.64</td>\n",
       "      <td>263.65</td>\n",
       "      <td>134.99</td>\n",
       "      <td>0</td>\n",
       "      <td>0</td>\n",
       "      <td>0</td>\n",
       "      <td>0</td>\n",
       "      <td>0</td>\n",
       "      <td>0</td>\n",
       "      <td>...</td>\n",
       "      <td>44.97479</td>\n",
       "      <td>-0.986111</td>\n",
       "      <td>0.04</td>\n",
       "      <td>0.04</td>\n",
       "      <td>0.0</td>\n",
       "      <td>0.39</td>\n",
       "      <td>263.65</td>\n",
       "      <td>134.99</td>\n",
       "      <td>401.833548</td>\n",
       "      <td>COLBY PROPERTY MANAGEMENT</td>\n",
       "    </tr>\n",
       "    <tr>\n",
       "      <th>4</th>\n",
       "      <td>0</td>\n",
       "      <td>403.64</td>\n",
       "      <td>263.65</td>\n",
       "      <td>134.99</td>\n",
       "      <td>1</td>\n",
       "      <td>3</td>\n",
       "      <td>0</td>\n",
       "      <td>0</td>\n",
       "      <td>0</td>\n",
       "      <td>0</td>\n",
       "      <td>...</td>\n",
       "      <td>44.97479</td>\n",
       "      <td>-0.986111</td>\n",
       "      <td>0.04</td>\n",
       "      <td>0.04</td>\n",
       "      <td>0.0</td>\n",
       "      <td>0.39</td>\n",
       "      <td>263.65</td>\n",
       "      <td>134.99</td>\n",
       "      <td>401.833548</td>\n",
       "      <td>COLBY PROPERTY MANAGEMENT</td>\n",
       "    </tr>\n",
       "  </tbody>\n",
       "</table>\n",
       "<p>5 rows × 46 columns</p>\n",
       "</div>"
      ],
      "text/plain": [
       "   churned   score  energy_efficiency  water_efficiency  \\\n",
       "0        0  402.64             263.65            134.99   \n",
       "1        0  398.64             263.65            134.99   \n",
       "2        0  398.64             263.65            134.99   \n",
       "3        0  398.64             263.65            134.99   \n",
       "4        0  403.64             263.65            134.99   \n",
       "\n",
       "   number_of_311_complains_past_year  number_of_311_complains_2_years_prior  \\\n",
       "0                                  1                                      2   \n",
       "1                                  0                                      0   \n",
       "2                                  0                                      0   \n",
       "3                                  0                                      0   \n",
       "4                                  1                                      3   \n",
       "\n",
       "   number_of_ecb_violations_last_year  number_of_ecb_violations_2_years_prior  \\\n",
       "0                                   0                                       0   \n",
       "1                                   0                                       0   \n",
       "2                                   0                                       0   \n",
       "3                                   0                                       0   \n",
       "4                                   0                                       0   \n",
       "\n",
       "   hmcv_violations_past_year_class_a  hmcv_violations_past_year_class_b  \\\n",
       "0                                  0                                  0   \n",
       "1                                  0                                  0   \n",
       "2                                  0                                  0   \n",
       "3                                  0                                  0   \n",
       "4                                  0                                  0   \n",
       "\n",
       "             ...              avg_resolve_time  hearing_outcomes-2  \\\n",
       "0            ...                      44.97479           -0.986111   \n",
       "1            ...                      44.97479           -0.986111   \n",
       "2            ...                      44.97479           -0.986111   \n",
       "3            ...                      44.97479           -0.986111   \n",
       "4            ...                      44.97479           -0.986111   \n",
       "\n",
       "   class_a_per_unit  class_b_per_unit  class_c_per_unit  percent_registered  \\\n",
       "0              0.04              0.04               0.0                0.39   \n",
       "1              0.04              0.04               0.0                0.39   \n",
       "2              0.04              0.04               0.0                0.39   \n",
       "3              0.04              0.04               0.0                0.39   \n",
       "4              0.04              0.04               0.0                0.39   \n",
       "\n",
       "   average_energy  average_water  management_ranking  \\\n",
       "0          263.65         134.99          401.833548   \n",
       "1          263.65         134.99          401.833548   \n",
       "2          263.65         134.99          401.833548   \n",
       "3          263.65         134.99          401.833548   \n",
       "4          263.65         134.99          401.833548   \n",
       "\n",
       "             corporationname  \n",
       "0  COLBY PROPERTY MANAGEMENT  \n",
       "1  COLBY PROPERTY MANAGEMENT  \n",
       "2  COLBY PROPERTY MANAGEMENT  \n",
       "3  COLBY PROPERTY MANAGEMENT  \n",
       "4  COLBY PROPERTY MANAGEMENT  \n",
       "\n",
       "[5 rows x 46 columns]"
      ]
     },
     "execution_count": 63,
     "metadata": {},
     "output_type": "execute_result"
    }
   ],
   "source": [
    "df.head()"
   ]
  },
  {
   "cell_type": "code",
   "execution_count": 64,
   "metadata": {
    "collapsed": false
   },
   "outputs": [
    {
     "data": {
      "text/plain": [
       "['hearing_outcomes',\n",
       " 'percent_condo_portfolio',\n",
       " 'percent_coop_portfolio',\n",
       " 'percent_genpart_portfolio',\n",
       " 'percent_llc_portfolio',\n",
       " 'percent_corp_portfolio',\n",
       " 'percent_indiv_portfolio',\n",
       " 'percent_condominium_portfolio',\n",
       " 'percent_joint_portfolio',\n",
       " 'percent_lp_portfolio',\n",
       " 'percent_hdfc_portfolio']"
      ]
     },
     "execution_count": 64,
     "metadata": {},
     "output_type": "execute_result"
    }
   ],
   "source": [
    "### The columns that we removed\n",
    "RemoveColumns"
   ]
  },
  {
   "cell_type": "markdown",
   "metadata": {},
   "source": [
    "There are also some columns with almost zero variance and we would like to remove them from our analysis"
   ]
  },
  {
   "cell_type": "code",
   "execution_count": 65,
   "metadata": {
    "collapsed": false
   },
   "outputs": [],
   "source": [
    "##Get the columns with a variance less than 5\n",
    "lowvariance=DataFrame(df.std()<5)\n",
    "##But Keep the column Churned\n",
    "lowvariance=lowvariance[1:]\n",
    "lowvariance\n",
    "RemoveColumns=list(lowvariance.loc[lowvariance[0]==True,].index)\n",
    "KeepColumns=list(lowvariance.loc[lowvariance[0]==False,].index)"
   ]
  },
  {
   "cell_type": "code",
   "execution_count": 66,
   "metadata": {
    "collapsed": false
   },
   "outputs": [],
   "source": [
    "### Keep only the columns with a variance greater than 5\n",
    "df=df.drop(RemoveColumns, axis=1)\n"
   ]
  },
  {
   "cell_type": "code",
   "execution_count": 67,
   "metadata": {
    "collapsed": false
   },
   "outputs": [
    {
     "data": {
      "text/plain": [
       "['number_of_ecb_violations_last_year',\n",
       " 'number_of_ecb_violations_2_years_prior',\n",
       " 'hmcv_violations_past_year_class_a',\n",
       " 'hmcv_violations_past_year_class_b',\n",
       " 'hmcv_violations_past_year_class_c',\n",
       " 'hmcv_violations_2_years_prior_class_a',\n",
       " 'hmcv_violations_2_years_prior_class_b',\n",
       " 'hmcv_violations_2_years_prior_class_c',\n",
       " 'violations_open_last_year',\n",
       " 'violations_2_years_prior',\n",
       " 'communityboard',\n",
       " 'dobbuildingclassid',\n",
       " 'hearing_outcomes-2',\n",
       " 'class_a_per_unit',\n",
       " 'class_b_per_unit',\n",
       " 'class_c_per_unit',\n",
       " 'percent_registered']"
      ]
     },
     "execution_count": 67,
     "metadata": {},
     "output_type": "execute_result"
    }
   ],
   "source": [
    "### The extra columns that we removed\n",
    "RemoveColumns"
   ]
  },
  {
   "cell_type": "markdown",
   "metadata": {},
   "source": [
    "Now we would like to remove some other columns that are not variables which can be used in ML algorithms like the building, housenumber etc"
   ]
  },
  {
   "cell_type": "code",
   "execution_count": 68,
   "metadata": {
    "collapsed": true
   },
   "outputs": [],
   "source": [
    "RemoveColumns=['buildingid', 'housenumber', 'streetname', 'boro', 'zip', 'firstname', 'lastname', 'corporationname']\n",
    "df=df.drop(RemoveColumns, axis=1)\n"
   ]
  },
  {
   "cell_type": "code",
   "execution_count": 69,
   "metadata": {
    "collapsed": false
   },
   "outputs": [
    {
     "data": {
      "text/plain": [
       "churned                                    0\n",
       "score                                      0\n",
       "energy_efficiency                          0\n",
       "water_efficiency                           0\n",
       "number_of_311_complains_past_year          0\n",
       "number_of_311_complains_2_years_prior      0\n",
       "total_resolve_time                       777\n",
       "total_violations                           0\n",
       "violations_open                            0\n",
       "registered                                 0\n",
       "legalstories                               0\n",
       "legalclassa                                1\n",
       "legalclassb                              625\n",
       "recordstatus                               0\n",
       "contactdescription                         0\n",
       "units                                     53\n",
       "number_buildings                           0\n",
       "avg_resolve_time                          41\n",
       "average_energy                             0\n",
       "average_water                              0\n",
       "management_ranking                         0\n",
       "dtype: int64"
      ]
     },
     "execution_count": 69,
     "metadata": {},
     "output_type": "execute_result"
    }
   ],
   "source": [
    "df.isnull().sum()"
   ]
  },
  {
   "cell_type": "markdown",
   "metadata": {},
   "source": [
    "Still there are some columns with NaN values. We need to replace those values. For this scope we will replace them with the mean values"
   ]
  },
  {
   "cell_type": "code",
   "execution_count": 70,
   "metadata": {
    "collapsed": false
   },
   "outputs": [],
   "source": [
    "###Replace the NaN values of the Train and Test Dataset with the Average Values of the Train dataset\n",
    "\n",
    "###For the train dataset\n",
    "df.loc[df.total_resolve_time.isnull(),['total_resolve_time']]=df.total_resolve_time.mean()\n",
    "df.loc[df.legalclassb.isnull(),['legalclassb']]=df.legalclassb.mean()\n",
    "df.loc[df.legalclassa.isnull(),['legalclassa']]=df.legalclassa.mean()\n",
    "df.loc[df.units.isnull(),['units']]=df.units.mean()\n",
    "df.loc[df.avg_resolve_time.isnull(),['avg_resolve_time']]=df.avg_resolve_time.mean()\n"
   ]
  },
  {
   "cell_type": "code",
   "execution_count": 71,
   "metadata": {
    "collapsed": false
   },
   "outputs": [
    {
     "data": {
      "text/plain": [
       "churned                                  0\n",
       "score                                    0\n",
       "energy_efficiency                        0\n",
       "water_efficiency                         0\n",
       "number_of_311_complains_past_year        0\n",
       "number_of_311_complains_2_years_prior    0\n",
       "total_resolve_time                       0\n",
       "total_violations                         0\n",
       "violations_open                          0\n",
       "registered                               0\n",
       "legalstories                             0\n",
       "legalclassa                              0\n",
       "legalclassb                              0\n",
       "recordstatus                             0\n",
       "contactdescription                       0\n",
       "units                                    0\n",
       "number_buildings                         0\n",
       "avg_resolve_time                         0\n",
       "average_energy                           0\n",
       "average_water                            0\n",
       "management_ranking                       0\n",
       "dtype: int64"
      ]
     },
     "execution_count": 71,
     "metadata": {},
     "output_type": "execute_result"
    }
   ],
   "source": [
    "###check if there are any NaN values left\n",
    "df.isnull().sum()"
   ]
  },
  {
   "cell_type": "markdown",
   "metadata": {},
   "source": [
    "# Transform the Categorical Variables into Dummies\n",
    "\n",
    "For the Logistic Regression we need to transform the Categorical Variable into Dummy Variables with 0, 1. Also we have to remove the reference revel from the model "
   ]
  },
  {
   "cell_type": "code",
   "execution_count": 72,
   "metadata": {
    "collapsed": false
   },
   "outputs": [],
   "source": [
    "# Create new DataFrames for the Categorical Variables\n",
    "registered_dummies=pd.get_dummies(df['registered'])\n",
    "recordstatus_dummies=pd.get_dummies(df['recordstatus'])\n",
    "contactdescription_dummies=pd.get_dummies(df['contactdescription'])"
   ]
  },
  {
   "cell_type": "code",
   "execution_count": 73,
   "metadata": {
    "collapsed": false
   },
   "outputs": [
    {
     "data": {
      "text/html": [
       "<div>\n",
       "<table border=\"1\" class=\"dataframe\">\n",
       "  <thead>\n",
       "    <tr style=\"text-align: right;\">\n",
       "      <th></th>\n",
       "      <th>NO</th>\n",
       "      <th>YES</th>\n",
       "    </tr>\n",
       "  </thead>\n",
       "  <tbody>\n",
       "    <tr>\n",
       "      <th>0</th>\n",
       "      <td>0.0</td>\n",
       "      <td>1.0</td>\n",
       "    </tr>\n",
       "    <tr>\n",
       "      <th>1</th>\n",
       "      <td>0.0</td>\n",
       "      <td>1.0</td>\n",
       "    </tr>\n",
       "    <tr>\n",
       "      <th>2</th>\n",
       "      <td>0.0</td>\n",
       "      <td>1.0</td>\n",
       "    </tr>\n",
       "    <tr>\n",
       "      <th>3</th>\n",
       "      <td>0.0</td>\n",
       "      <td>1.0</td>\n",
       "    </tr>\n",
       "    <tr>\n",
       "      <th>4</th>\n",
       "      <td>0.0</td>\n",
       "      <td>1.0</td>\n",
       "    </tr>\n",
       "  </tbody>\n",
       "</table>\n",
       "</div>"
      ],
      "text/plain": [
       "    NO  YES\n",
       "0  0.0  1.0\n",
       "1  0.0  1.0\n",
       "2  0.0  1.0\n",
       "3  0.0  1.0\n",
       "4  0.0  1.0"
      ]
     },
     "execution_count": 73,
     "metadata": {},
     "output_type": "execute_result"
    }
   ],
   "source": [
    "###lets have a look of our new columns\n",
    "registered_dummies.head()"
   ]
  },
  {
   "cell_type": "code",
   "execution_count": 74,
   "metadata": {
    "collapsed": false
   },
   "outputs": [
    {
     "data": {
      "text/html": [
       "<div>\n",
       "<table border=\"1\" class=\"dataframe\">\n",
       "  <thead>\n",
       "    <tr style=\"text-align: right;\">\n",
       "      <th></th>\n",
       "      <th>Active</th>\n",
       "      <th>Inactive</th>\n",
       "    </tr>\n",
       "  </thead>\n",
       "  <tbody>\n",
       "    <tr>\n",
       "      <th>0</th>\n",
       "      <td>1.0</td>\n",
       "      <td>0.0</td>\n",
       "    </tr>\n",
       "    <tr>\n",
       "      <th>1</th>\n",
       "      <td>1.0</td>\n",
       "      <td>0.0</td>\n",
       "    </tr>\n",
       "    <tr>\n",
       "      <th>2</th>\n",
       "      <td>1.0</td>\n",
       "      <td>0.0</td>\n",
       "    </tr>\n",
       "    <tr>\n",
       "      <th>3</th>\n",
       "      <td>1.0</td>\n",
       "      <td>0.0</td>\n",
       "    </tr>\n",
       "    <tr>\n",
       "      <th>4</th>\n",
       "      <td>1.0</td>\n",
       "      <td>0.0</td>\n",
       "    </tr>\n",
       "  </tbody>\n",
       "</table>\n",
       "</div>"
      ],
      "text/plain": [
       "   Active  Inactive\n",
       "0     1.0       0.0\n",
       "1     1.0       0.0\n",
       "2     1.0       0.0\n",
       "3     1.0       0.0\n",
       "4     1.0       0.0"
      ]
     },
     "execution_count": 74,
     "metadata": {},
     "output_type": "execute_result"
    }
   ],
   "source": [
    "recordstatus_dummies.head()"
   ]
  },
  {
   "cell_type": "code",
   "execution_count": 75,
   "metadata": {
    "collapsed": false
   },
   "outputs": [
    {
     "data": {
      "text/html": [
       "<div>\n",
       "<table border=\"1\" class=\"dataframe\">\n",
       "  <thead>\n",
       "    <tr style=\"text-align: right;\">\n",
       "      <th></th>\n",
       "      <th>CO-OP</th>\n",
       "      <th>CONDO</th>\n",
       "    </tr>\n",
       "  </thead>\n",
       "  <tbody>\n",
       "    <tr>\n",
       "      <th>0</th>\n",
       "      <td>0.0</td>\n",
       "      <td>1.0</td>\n",
       "    </tr>\n",
       "    <tr>\n",
       "      <th>1</th>\n",
       "      <td>0.0</td>\n",
       "      <td>1.0</td>\n",
       "    </tr>\n",
       "    <tr>\n",
       "      <th>2</th>\n",
       "      <td>0.0</td>\n",
       "      <td>1.0</td>\n",
       "    </tr>\n",
       "    <tr>\n",
       "      <th>3</th>\n",
       "      <td>0.0</td>\n",
       "      <td>1.0</td>\n",
       "    </tr>\n",
       "    <tr>\n",
       "      <th>4</th>\n",
       "      <td>0.0</td>\n",
       "      <td>1.0</td>\n",
       "    </tr>\n",
       "  </tbody>\n",
       "</table>\n",
       "</div>"
      ],
      "text/plain": [
       "   CO-OP  CONDO\n",
       "0    0.0    1.0\n",
       "1    0.0    1.0\n",
       "2    0.0    1.0\n",
       "3    0.0    1.0\n",
       "4    0.0    1.0"
      ]
     },
     "execution_count": 75,
     "metadata": {},
     "output_type": "execute_result"
    }
   ],
   "source": [
    "contactdescription_dummies.head()"
   ]
  },
  {
   "cell_type": "code",
   "execution_count": 76,
   "metadata": {
    "collapsed": true
   },
   "outputs": [],
   "source": [
    "###Give some meaningful names to the dummy columns\n",
    "registered_dummies.columns=['No_Registered', 'Registered']\n",
    "recordstatus_dummies.columns=['Status_Active', 'Status_Inactive']\n",
    "contactdescription_dummies.columns=['Contract_COOP', 'Contract_CONDO']"
   ]
  },
  {
   "cell_type": "code",
   "execution_count": 77,
   "metadata": {
    "collapsed": true
   },
   "outputs": [],
   "source": [
    "###Remove the columns from the dataset\n",
    "df=df.drop(['registered', 'recordstatus', 'contactdescription' ], axis=1)"
   ]
  },
  {
   "cell_type": "code",
   "execution_count": 78,
   "metadata": {
    "collapsed": false
   },
   "outputs": [],
   "source": [
    "###Add the Dummy Columns\n",
    "df=pd.concat([df,registered_dummies, recordstatus_dummies, contactdescription_dummies], axis=1 )"
   ]
  },
  {
   "cell_type": "code",
   "execution_count": 79,
   "metadata": {
    "collapsed": false
   },
   "outputs": [
    {
     "data": {
      "text/html": [
       "<div>\n",
       "<table border=\"1\" class=\"dataframe\">\n",
       "  <thead>\n",
       "    <tr style=\"text-align: right;\">\n",
       "      <th></th>\n",
       "      <th>churned</th>\n",
       "      <th>score</th>\n",
       "      <th>energy_efficiency</th>\n",
       "      <th>water_efficiency</th>\n",
       "      <th>number_of_311_complains_past_year</th>\n",
       "      <th>number_of_311_complains_2_years_prior</th>\n",
       "      <th>total_resolve_time</th>\n",
       "      <th>total_violations</th>\n",
       "      <th>violations_open</th>\n",
       "      <th>legalstories</th>\n",
       "      <th>...</th>\n",
       "      <th>avg_resolve_time</th>\n",
       "      <th>average_energy</th>\n",
       "      <th>average_water</th>\n",
       "      <th>management_ranking</th>\n",
       "      <th>No_Registered</th>\n",
       "      <th>Registered</th>\n",
       "      <th>Status_Active</th>\n",
       "      <th>Status_Inactive</th>\n",
       "      <th>Contract_COOP</th>\n",
       "      <th>Contract_CONDO</th>\n",
       "    </tr>\n",
       "  </thead>\n",
       "  <tbody>\n",
       "    <tr>\n",
       "      <th>0</th>\n",
       "      <td>0</td>\n",
       "      <td>402.64</td>\n",
       "      <td>263.65</td>\n",
       "      <td>134.99</td>\n",
       "      <td>1</td>\n",
       "      <td>2</td>\n",
       "      <td>4.000000</td>\n",
       "      <td>3</td>\n",
       "      <td>0</td>\n",
       "      <td>2</td>\n",
       "      <td>...</td>\n",
       "      <td>44.97479</td>\n",
       "      <td>263.65</td>\n",
       "      <td>134.99</td>\n",
       "      <td>401.833548</td>\n",
       "      <td>0.0</td>\n",
       "      <td>1.0</td>\n",
       "      <td>1.0</td>\n",
       "      <td>0.0</td>\n",
       "      <td>0.0</td>\n",
       "      <td>1.0</td>\n",
       "    </tr>\n",
       "    <tr>\n",
       "      <th>1</th>\n",
       "      <td>0</td>\n",
       "      <td>398.64</td>\n",
       "      <td>263.65</td>\n",
       "      <td>134.99</td>\n",
       "      <td>0</td>\n",
       "      <td>0</td>\n",
       "      <td>2640.456122</td>\n",
       "      <td>0</td>\n",
       "      <td>0</td>\n",
       "      <td>2</td>\n",
       "      <td>...</td>\n",
       "      <td>44.97479</td>\n",
       "      <td>263.65</td>\n",
       "      <td>134.99</td>\n",
       "      <td>401.833548</td>\n",
       "      <td>0.0</td>\n",
       "      <td>1.0</td>\n",
       "      <td>1.0</td>\n",
       "      <td>0.0</td>\n",
       "      <td>0.0</td>\n",
       "      <td>1.0</td>\n",
       "    </tr>\n",
       "    <tr>\n",
       "      <th>2</th>\n",
       "      <td>0</td>\n",
       "      <td>398.64</td>\n",
       "      <td>263.65</td>\n",
       "      <td>134.99</td>\n",
       "      <td>0</td>\n",
       "      <td>0</td>\n",
       "      <td>2640.456122</td>\n",
       "      <td>0</td>\n",
       "      <td>0</td>\n",
       "      <td>3</td>\n",
       "      <td>...</td>\n",
       "      <td>44.97479</td>\n",
       "      <td>263.65</td>\n",
       "      <td>134.99</td>\n",
       "      <td>401.833548</td>\n",
       "      <td>0.0</td>\n",
       "      <td>1.0</td>\n",
       "      <td>1.0</td>\n",
       "      <td>0.0</td>\n",
       "      <td>0.0</td>\n",
       "      <td>1.0</td>\n",
       "    </tr>\n",
       "    <tr>\n",
       "      <th>3</th>\n",
       "      <td>0</td>\n",
       "      <td>398.64</td>\n",
       "      <td>263.65</td>\n",
       "      <td>134.99</td>\n",
       "      <td>0</td>\n",
       "      <td>0</td>\n",
       "      <td>2640.456122</td>\n",
       "      <td>0</td>\n",
       "      <td>0</td>\n",
       "      <td>3</td>\n",
       "      <td>...</td>\n",
       "      <td>44.97479</td>\n",
       "      <td>263.65</td>\n",
       "      <td>134.99</td>\n",
       "      <td>401.833548</td>\n",
       "      <td>0.0</td>\n",
       "      <td>1.0</td>\n",
       "      <td>1.0</td>\n",
       "      <td>0.0</td>\n",
       "      <td>0.0</td>\n",
       "      <td>1.0</td>\n",
       "    </tr>\n",
       "    <tr>\n",
       "      <th>4</th>\n",
       "      <td>0</td>\n",
       "      <td>403.64</td>\n",
       "      <td>263.65</td>\n",
       "      <td>134.99</td>\n",
       "      <td>1</td>\n",
       "      <td>3</td>\n",
       "      <td>511.000000</td>\n",
       "      <td>4</td>\n",
       "      <td>0</td>\n",
       "      <td>3</td>\n",
       "      <td>...</td>\n",
       "      <td>44.97479</td>\n",
       "      <td>263.65</td>\n",
       "      <td>134.99</td>\n",
       "      <td>401.833548</td>\n",
       "      <td>0.0</td>\n",
       "      <td>1.0</td>\n",
       "      <td>1.0</td>\n",
       "      <td>0.0</td>\n",
       "      <td>0.0</td>\n",
       "      <td>1.0</td>\n",
       "    </tr>\n",
       "  </tbody>\n",
       "</table>\n",
       "<p>5 rows × 24 columns</p>\n",
       "</div>"
      ],
      "text/plain": [
       "   churned   score  energy_efficiency  water_efficiency  \\\n",
       "0        0  402.64             263.65            134.99   \n",
       "1        0  398.64             263.65            134.99   \n",
       "2        0  398.64             263.65            134.99   \n",
       "3        0  398.64             263.65            134.99   \n",
       "4        0  403.64             263.65            134.99   \n",
       "\n",
       "   number_of_311_complains_past_year  number_of_311_complains_2_years_prior  \\\n",
       "0                                  1                                      2   \n",
       "1                                  0                                      0   \n",
       "2                                  0                                      0   \n",
       "3                                  0                                      0   \n",
       "4                                  1                                      3   \n",
       "\n",
       "   total_resolve_time  total_violations  violations_open  legalstories  \\\n",
       "0            4.000000                 3                0             2   \n",
       "1         2640.456122                 0                0             2   \n",
       "2         2640.456122                 0                0             3   \n",
       "3         2640.456122                 0                0             3   \n",
       "4          511.000000                 4                0             3   \n",
       "\n",
       "        ...        avg_resolve_time  average_energy  average_water  \\\n",
       "0       ...                44.97479          263.65         134.99   \n",
       "1       ...                44.97479          263.65         134.99   \n",
       "2       ...                44.97479          263.65         134.99   \n",
       "3       ...                44.97479          263.65         134.99   \n",
       "4       ...                44.97479          263.65         134.99   \n",
       "\n",
       "   management_ranking  No_Registered  Registered  Status_Active  \\\n",
       "0          401.833548            0.0         1.0            1.0   \n",
       "1          401.833548            0.0         1.0            1.0   \n",
       "2          401.833548            0.0         1.0            1.0   \n",
       "3          401.833548            0.0         1.0            1.0   \n",
       "4          401.833548            0.0         1.0            1.0   \n",
       "\n",
       "   Status_Inactive  Contract_COOP  Contract_CONDO  \n",
       "0              0.0            0.0             1.0  \n",
       "1              0.0            0.0             1.0  \n",
       "2              0.0            0.0             1.0  \n",
       "3              0.0            0.0             1.0  \n",
       "4              0.0            0.0             1.0  \n",
       "\n",
       "[5 rows x 24 columns]"
      ]
     },
     "execution_count": 79,
     "metadata": {},
     "output_type": "execute_result"
    }
   ],
   "source": [
    "df.head()"
   ]
  },
  {
   "cell_type": "markdown",
   "metadata": {},
   "source": [
    "### Multicollinearity\n",
    "We will need to remove the reference level of the dummies"
   ]
  },
  {
   "cell_type": "code",
   "execution_count": 80,
   "metadata": {
    "collapsed": false
   },
   "outputs": [
    {
     "data": {
      "text/html": [
       "<div>\n",
       "<table border=\"1\" class=\"dataframe\">\n",
       "  <thead>\n",
       "    <tr style=\"text-align: right;\">\n",
       "      <th></th>\n",
       "      <th>churned</th>\n",
       "      <th>score</th>\n",
       "      <th>energy_efficiency</th>\n",
       "      <th>water_efficiency</th>\n",
       "      <th>number_of_311_complains_past_year</th>\n",
       "      <th>number_of_311_complains_2_years_prior</th>\n",
       "      <th>total_resolve_time</th>\n",
       "      <th>total_violations</th>\n",
       "      <th>violations_open</th>\n",
       "      <th>legalstories</th>\n",
       "      <th>...</th>\n",
       "      <th>legalclassb</th>\n",
       "      <th>units</th>\n",
       "      <th>number_buildings</th>\n",
       "      <th>avg_resolve_time</th>\n",
       "      <th>average_energy</th>\n",
       "      <th>average_water</th>\n",
       "      <th>management_ranking</th>\n",
       "      <th>Registered</th>\n",
       "      <th>Status_Active</th>\n",
       "      <th>Contract_CONDO</th>\n",
       "    </tr>\n",
       "  </thead>\n",
       "  <tbody>\n",
       "    <tr>\n",
       "      <th>0</th>\n",
       "      <td>0</td>\n",
       "      <td>402.64</td>\n",
       "      <td>263.65</td>\n",
       "      <td>134.99</td>\n",
       "      <td>1</td>\n",
       "      <td>2</td>\n",
       "      <td>4.000000</td>\n",
       "      <td>3</td>\n",
       "      <td>0</td>\n",
       "      <td>2</td>\n",
       "      <td>...</td>\n",
       "      <td>0.0</td>\n",
       "      <td>50.0</td>\n",
       "      <td>31</td>\n",
       "      <td>44.97479</td>\n",
       "      <td>263.65</td>\n",
       "      <td>134.99</td>\n",
       "      <td>401.833548</td>\n",
       "      <td>1.0</td>\n",
       "      <td>1.0</td>\n",
       "      <td>1.0</td>\n",
       "    </tr>\n",
       "    <tr>\n",
       "      <th>1</th>\n",
       "      <td>0</td>\n",
       "      <td>398.64</td>\n",
       "      <td>263.65</td>\n",
       "      <td>134.99</td>\n",
       "      <td>0</td>\n",
       "      <td>0</td>\n",
       "      <td>2640.456122</td>\n",
       "      <td>0</td>\n",
       "      <td>0</td>\n",
       "      <td>2</td>\n",
       "      <td>...</td>\n",
       "      <td>0.0</td>\n",
       "      <td>50.0</td>\n",
       "      <td>31</td>\n",
       "      <td>44.97479</td>\n",
       "      <td>263.65</td>\n",
       "      <td>134.99</td>\n",
       "      <td>401.833548</td>\n",
       "      <td>1.0</td>\n",
       "      <td>1.0</td>\n",
       "      <td>1.0</td>\n",
       "    </tr>\n",
       "    <tr>\n",
       "      <th>2</th>\n",
       "      <td>0</td>\n",
       "      <td>398.64</td>\n",
       "      <td>263.65</td>\n",
       "      <td>134.99</td>\n",
       "      <td>0</td>\n",
       "      <td>0</td>\n",
       "      <td>2640.456122</td>\n",
       "      <td>0</td>\n",
       "      <td>0</td>\n",
       "      <td>3</td>\n",
       "      <td>...</td>\n",
       "      <td>0.0</td>\n",
       "      <td>50.0</td>\n",
       "      <td>31</td>\n",
       "      <td>44.97479</td>\n",
       "      <td>263.65</td>\n",
       "      <td>134.99</td>\n",
       "      <td>401.833548</td>\n",
       "      <td>1.0</td>\n",
       "      <td>1.0</td>\n",
       "      <td>1.0</td>\n",
       "    </tr>\n",
       "    <tr>\n",
       "      <th>3</th>\n",
       "      <td>0</td>\n",
       "      <td>398.64</td>\n",
       "      <td>263.65</td>\n",
       "      <td>134.99</td>\n",
       "      <td>0</td>\n",
       "      <td>0</td>\n",
       "      <td>2640.456122</td>\n",
       "      <td>0</td>\n",
       "      <td>0</td>\n",
       "      <td>3</td>\n",
       "      <td>...</td>\n",
       "      <td>0.0</td>\n",
       "      <td>50.0</td>\n",
       "      <td>31</td>\n",
       "      <td>44.97479</td>\n",
       "      <td>263.65</td>\n",
       "      <td>134.99</td>\n",
       "      <td>401.833548</td>\n",
       "      <td>1.0</td>\n",
       "      <td>1.0</td>\n",
       "      <td>1.0</td>\n",
       "    </tr>\n",
       "    <tr>\n",
       "      <th>4</th>\n",
       "      <td>0</td>\n",
       "      <td>403.64</td>\n",
       "      <td>263.65</td>\n",
       "      <td>134.99</td>\n",
       "      <td>1</td>\n",
       "      <td>3</td>\n",
       "      <td>511.000000</td>\n",
       "      <td>4</td>\n",
       "      <td>0</td>\n",
       "      <td>3</td>\n",
       "      <td>...</td>\n",
       "      <td>0.0</td>\n",
       "      <td>50.0</td>\n",
       "      <td>31</td>\n",
       "      <td>44.97479</td>\n",
       "      <td>263.65</td>\n",
       "      <td>134.99</td>\n",
       "      <td>401.833548</td>\n",
       "      <td>1.0</td>\n",
       "      <td>1.0</td>\n",
       "      <td>1.0</td>\n",
       "    </tr>\n",
       "  </tbody>\n",
       "</table>\n",
       "<p>5 rows × 21 columns</p>\n",
       "</div>"
      ],
      "text/plain": [
       "   churned   score  energy_efficiency  water_efficiency  \\\n",
       "0        0  402.64             263.65            134.99   \n",
       "1        0  398.64             263.65            134.99   \n",
       "2        0  398.64             263.65            134.99   \n",
       "3        0  398.64             263.65            134.99   \n",
       "4        0  403.64             263.65            134.99   \n",
       "\n",
       "   number_of_311_complains_past_year  number_of_311_complains_2_years_prior  \\\n",
       "0                                  1                                      2   \n",
       "1                                  0                                      0   \n",
       "2                                  0                                      0   \n",
       "3                                  0                                      0   \n",
       "4                                  1                                      3   \n",
       "\n",
       "   total_resolve_time  total_violations  violations_open  legalstories  \\\n",
       "0            4.000000                 3                0             2   \n",
       "1         2640.456122                 0                0             2   \n",
       "2         2640.456122                 0                0             3   \n",
       "3         2640.456122                 0                0             3   \n",
       "4          511.000000                 4                0             3   \n",
       "\n",
       "        ...        legalclassb  units  number_buildings  avg_resolve_time  \\\n",
       "0       ...                0.0   50.0                31          44.97479   \n",
       "1       ...                0.0   50.0                31          44.97479   \n",
       "2       ...                0.0   50.0                31          44.97479   \n",
       "3       ...                0.0   50.0                31          44.97479   \n",
       "4       ...                0.0   50.0                31          44.97479   \n",
       "\n",
       "   average_energy  average_water  management_ranking  Registered  \\\n",
       "0          263.65         134.99          401.833548         1.0   \n",
       "1          263.65         134.99          401.833548         1.0   \n",
       "2          263.65         134.99          401.833548         1.0   \n",
       "3          263.65         134.99          401.833548         1.0   \n",
       "4          263.65         134.99          401.833548         1.0   \n",
       "\n",
       "   Status_Active  Contract_CONDO  \n",
       "0            1.0             1.0  \n",
       "1            1.0             1.0  \n",
       "2            1.0             1.0  \n",
       "3            1.0             1.0  \n",
       "4            1.0             1.0  \n",
       "\n",
       "[5 rows x 21 columns]"
      ]
     },
     "execution_count": 80,
     "metadata": {},
     "output_type": "execute_result"
    }
   ],
   "source": [
    "df=df.drop(['Status_Inactive', 'No_Registered', 'Contract_COOP' ], axis=1)\n",
    "df.head()"
   ]
  },
  {
   "cell_type": "markdown",
   "metadata": {
    "collapsed": false
   },
   "source": [
    "# Split the Dataset into Train and Test "
   ]
  },
  {
   "cell_type": "code",
   "execution_count": 103,
   "metadata": {
    "collapsed": true
   },
   "outputs": [],
   "source": [
    "from sklearn.linear_model import LogisticRegression\n",
    "from sklearn.cross_validation import train_test_split"
   ]
  },
  {
   "cell_type": "code",
   "execution_count": 104,
   "metadata": {
    "collapsed": false
   },
   "outputs": [],
   "source": [
    "###Create the dataframe of X's where we will need to remove the churned column\n",
    "X=df.drop(['churned'], axis=1)\n",
    "Y=df.churned\n",
    "Y=np.ravel(Y)  ##TRANSFORM TO AN 1D array\n"
   ]
  },
  {
   "cell_type": "code",
   "execution_count": 105,
   "metadata": {
    "collapsed": false
   },
   "outputs": [],
   "source": [
    "#Create a Logistic Regression Class object\n",
    "logreg=LogisticRegression()\n",
    "\n",
    "seed=101\n",
    "#Split the data into Training and Testing sets with a ratio of 80-20\n",
    "X_train, X_test, Y_train, Y_test=train_test_split(X,Y,test_size=0.2, random_state=3)"
   ]
  },
  {
   "cell_type": "code",
   "execution_count": 106,
   "metadata": {
    "collapsed": false
   },
   "outputs": [
    {
     "data": {
      "text/plain": [
       "LogisticRegression(C=1.0, class_weight=None, dual=False, fit_intercept=True,\n",
       "          intercept_scaling=1, max_iter=100, multi_class='ovr', n_jobs=1,\n",
       "          penalty='l2', random_state=None, solver='liblinear', tol=0.0001,\n",
       "          verbose=0, warm_start=False)"
      ]
     },
     "execution_count": 106,
     "metadata": {},
     "output_type": "execute_result"
    }
   ],
   "source": [
    "#Train the model with the training set\n",
    "logreg.fit(X_train, Y_train)"
   ]
  },
  {
   "cell_type": "markdown",
   "metadata": {},
   "source": [
    "#### The Accuracy of the Model is 99.13%"
   ]
  },
  {
   "cell_type": "code",
   "execution_count": 111,
   "metadata": {
    "collapsed": true
   },
   "outputs": [],
   "source": [
    "from sklearn import metrics\n",
    "Y_pred=logreg.predict(X_test)"
   ]
  },
  {
   "cell_type": "code",
   "execution_count": 112,
   "metadata": {
    "collapsed": false
   },
   "outputs": [
    {
     "name": "stdout",
     "output_type": "stream",
     "text": [
      "0.991354466859\n"
     ]
    }
   ],
   "source": [
    "print metrics.accuracy_score(Y_test, Y_pred)"
   ]
  },
  {
   "cell_type": "markdown",
   "metadata": {},
   "source": [
    "### Below are the Coefficients of the Model"
   ]
  },
  {
   "cell_type": "code",
   "execution_count": 113,
   "metadata": {
    "collapsed": false
   },
   "outputs": [],
   "source": [
    "coeff_df=DataFrame(zip(X.columns, np.transpose(logreg.coef_)))"
   ]
  },
  {
   "cell_type": "code",
   "execution_count": 114,
   "metadata": {
    "collapsed": false
   },
   "outputs": [
    {
     "data": {
      "text/html": [
       "<div>\n",
       "<table border=\"1\" class=\"dataframe\">\n",
       "  <thead>\n",
       "    <tr style=\"text-align: right;\">\n",
       "      <th></th>\n",
       "      <th>0</th>\n",
       "      <th>1</th>\n",
       "    </tr>\n",
       "  </thead>\n",
       "  <tbody>\n",
       "    <tr>\n",
       "      <th>0</th>\n",
       "      <td>score</td>\n",
       "      <td>[0.00399404482677]</td>\n",
       "    </tr>\n",
       "    <tr>\n",
       "      <th>1</th>\n",
       "      <td>energy_efficiency</td>\n",
       "      <td>[-0.0104135477997]</td>\n",
       "    </tr>\n",
       "    <tr>\n",
       "      <th>2</th>\n",
       "      <td>water_efficiency</td>\n",
       "      <td>[-0.00578257821997]</td>\n",
       "    </tr>\n",
       "    <tr>\n",
       "      <th>3</th>\n",
       "      <td>number_of_311_complains_past_year</td>\n",
       "      <td>[0.000971440333778]</td>\n",
       "    </tr>\n",
       "    <tr>\n",
       "      <th>4</th>\n",
       "      <td>number_of_311_complains_2_years_prior</td>\n",
       "      <td>[-0.0089268724696]</td>\n",
       "    </tr>\n",
       "    <tr>\n",
       "      <th>5</th>\n",
       "      <td>total_resolve_time</td>\n",
       "      <td>[-1.79846700848e-05]</td>\n",
       "    </tr>\n",
       "    <tr>\n",
       "      <th>6</th>\n",
       "      <td>total_violations</td>\n",
       "      <td>[-0.00120540130923]</td>\n",
       "    </tr>\n",
       "    <tr>\n",
       "      <th>7</th>\n",
       "      <td>violations_open</td>\n",
       "      <td>[0.0016021711796]</td>\n",
       "    </tr>\n",
       "    <tr>\n",
       "      <th>8</th>\n",
       "      <td>legalstories</td>\n",
       "      <td>[-0.0462085104824]</td>\n",
       "    </tr>\n",
       "    <tr>\n",
       "      <th>9</th>\n",
       "      <td>legalclassa</td>\n",
       "      <td>[-0.00401804545934]</td>\n",
       "    </tr>\n",
       "    <tr>\n",
       "      <th>10</th>\n",
       "      <td>legalclassb</td>\n",
       "      <td>[-0.144799840982]</td>\n",
       "    </tr>\n",
       "    <tr>\n",
       "      <th>11</th>\n",
       "      <td>units</td>\n",
       "      <td>[-2.16394496101e-05]</td>\n",
       "    </tr>\n",
       "    <tr>\n",
       "      <th>12</th>\n",
       "      <td>number_buildings</td>\n",
       "      <td>[-0.000742856241344]</td>\n",
       "    </tr>\n",
       "    <tr>\n",
       "      <th>13</th>\n",
       "      <td>avg_resolve_time</td>\n",
       "      <td>[-0.00300984315121]</td>\n",
       "    </tr>\n",
       "    <tr>\n",
       "      <th>14</th>\n",
       "      <td>average_energy</td>\n",
       "      <td>[-0.001855639486]</td>\n",
       "    </tr>\n",
       "    <tr>\n",
       "      <th>15</th>\n",
       "      <td>average_water</td>\n",
       "      <td>[-0.0176360736019]</td>\n",
       "    </tr>\n",
       "    <tr>\n",
       "      <th>16</th>\n",
       "      <td>management_ranking</td>\n",
       "      <td>[0.00372171743754]</td>\n",
       "    </tr>\n",
       "    <tr>\n",
       "      <th>17</th>\n",
       "      <td>Registered</td>\n",
       "      <td>[-1.17431861296]</td>\n",
       "    </tr>\n",
       "    <tr>\n",
       "      <th>18</th>\n",
       "      <td>Status_Active</td>\n",
       "      <td>[-0.135510724271]</td>\n",
       "    </tr>\n",
       "    <tr>\n",
       "      <th>19</th>\n",
       "      <td>Contract_CONDO</td>\n",
       "      <td>[0.0311247422333]</td>\n",
       "    </tr>\n",
       "  </tbody>\n",
       "</table>\n",
       "</div>"
      ],
      "text/plain": [
       "                                        0                     1\n",
       "0                                   score    [0.00399404482677]\n",
       "1                       energy_efficiency    [-0.0104135477997]\n",
       "2                        water_efficiency   [-0.00578257821997]\n",
       "3       number_of_311_complains_past_year   [0.000971440333778]\n",
       "4   number_of_311_complains_2_years_prior    [-0.0089268724696]\n",
       "5                      total_resolve_time  [-1.79846700848e-05]\n",
       "6                        total_violations   [-0.00120540130923]\n",
       "7                         violations_open     [0.0016021711796]\n",
       "8                            legalstories    [-0.0462085104824]\n",
       "9                             legalclassa   [-0.00401804545934]\n",
       "10                            legalclassb     [-0.144799840982]\n",
       "11                                  units  [-2.16394496101e-05]\n",
       "12                       number_buildings  [-0.000742856241344]\n",
       "13                       avg_resolve_time   [-0.00300984315121]\n",
       "14                         average_energy     [-0.001855639486]\n",
       "15                          average_water    [-0.0176360736019]\n",
       "16                     management_ranking    [0.00372171743754]\n",
       "17                             Registered      [-1.17431861296]\n",
       "18                          Status_Active     [-0.135510724271]\n",
       "19                         Contract_CONDO     [0.0311247422333]"
      ]
     },
     "execution_count": 114,
     "metadata": {},
     "output_type": "execute_result"
    }
   ],
   "source": [
    "coeff_df"
   ]
  },
  {
   "cell_type": "markdown",
   "metadata": {},
   "source": [
    "### Comments regarding the model\n",
    "Based on the Accuracy the model is almost perfect. The problem is that it cannot capture the cases where the Churned is 1. As we can see below all the prediction were Churned equal to 0.\n",
    "The maximum probability of somebody to churn based on the model was 38.44%"
   ]
  },
  {
   "cell_type": "code",
   "execution_count": 136,
   "metadata": {
    "collapsed": false
   },
   "outputs": [
    {
     "data": {
      "text/plain": [
       "0"
      ]
     },
     "execution_count": 136,
     "metadata": {},
     "output_type": "execute_result"
    }
   ],
   "source": [
    "sum(Y_pred)"
   ]
  },
  {
   "cell_type": "code",
   "execution_count": 137,
   "metadata": {
    "collapsed": false
   },
   "outputs": [
    {
     "data": {
      "text/plain": [
       "0"
      ]
     },
     "execution_count": 137,
     "metadata": {},
     "output_type": "execute_result"
    }
   ],
   "source": [
    "Y_pred.max()"
   ]
  },
  {
   "cell_type": "code",
   "execution_count": 138,
   "metadata": {
    "collapsed": false
   },
   "outputs": [],
   "source": [
    "prob_matrix=DataFrame(logreg.predict_proba(X_test))"
   ]
  },
  {
   "cell_type": "code",
   "execution_count": 139,
   "metadata": {
    "collapsed": false
   },
   "outputs": [
    {
     "data": {
      "text/plain": [
       "0.38447377411899941"
      ]
     },
     "execution_count": 139,
     "metadata": {},
     "output_type": "execute_result"
    }
   ],
   "source": [
    "prob_matrix[1].max()"
   ]
  },
  {
   "cell_type": "markdown",
   "metadata": {},
   "source": [
    "### Confusion Matrix"
   ]
  },
  {
   "cell_type": "code",
   "execution_count": 143,
   "metadata": {
    "collapsed": false
   },
   "outputs": [],
   "source": [
    "from sklearn.metrics import confusion_matrix\n",
    "\n",
    "cnf_matrix =confusion_matrix(Y_test, Y_pred)\n",
    "np.set_printoptions(precision=2)\n",
    "\n",
    "import itertools\n",
    "def plot_confusion_matrix(cm, classes,\n",
    "                          normalize=False,\n",
    "                          title='Confusion matrix',\n",
    "                          cmap=plt.cm.Blues):\n",
    "    \"\"\"\n",
    "    This function prints and plots the confusion matrix.\n",
    "    Normalization can be applied by setting `normalize=True`.\n",
    "    \"\"\"\n",
    "    plt.imshow(cm, interpolation='nearest', cmap=cmap)\n",
    "    plt.title(title)\n",
    "    plt.colorbar()\n",
    "    tick_marks = np.arange(len(classes))\n",
    "    plt.xticks(tick_marks, classes, rotation=45)\n",
    "    plt.yticks(tick_marks, classes)\n",
    "\n",
    "    if normalize:\n",
    "        cm = cm.astype('float') / cm.sum(axis=1)[:, np.newaxis]\n",
    "        cm=cm.round(2)\n",
    "        print(\"Normalized confusion matrix\")\n",
    "    else:\n",
    "        print('Confusion matrix, without normalization')\n",
    "\n",
    "    print(cm)\n",
    "\n",
    "    thresh = cm.max() / 2.\n",
    "    for i, j in itertools.product(range(cm.shape[0]), range(cm.shape[1])):\n",
    "        plt.text(j, i, cm[i, j],\n",
    "                 horizontalalignment=\"center\",\n",
    "                 color=\"white\" if cm[i, j] > thresh else \"black\")\n",
    "\n",
    "    plt.tight_layout()\n",
    "    plt.ylabel('True label')\n",
    "    plt.xlabel('Predicted label')"
   ]
  },
  {
   "cell_type": "markdown",
   "metadata": {},
   "source": [
    "##### From the Confusion Matrix below we can see that a we were not able to detect the 18 churned cases of the test dataset"
   ]
  },
  {
   "cell_type": "code",
   "execution_count": 145,
   "metadata": {
    "collapsed": false
   },
   "outputs": [
    {
     "name": "stdout",
     "output_type": "stream",
     "text": [
      "Confusion matrix, without normalization\n",
      "[[2064    0]\n",
      " [  18    0]]\n"
     ]
    },
    {
     "data": {
      "image/png": "[encoded data removed]",
      "text/plain": [
       "<matplotlib.figure.Figure at 0xd0fcc88>"
      ]
     },
     "metadata": {},
     "output_type": "display_data"
    }
   ],
   "source": [
    "# Plot non-normalized confusion matrix\n",
    "plt.figure()\n",
    "plot_confusion_matrix(cnf_matrix, classes=['Not Churned', 'Churned'],\n",
    "                      title='Confusion matrix, without normalization')"
   ]
  },
  {
   "cell_type": "markdown",
   "metadata": {},
   "source": [
    "### A Different Approach\n",
    "A different approach could be to classify the users as \"Churned\" using a lower threshold, thus instead of a threashold of 50% we can apply a threshold of **10%** and we will see the resutls"
   ]
  },
  {
   "cell_type": "code",
   "execution_count": 203,
   "metadata": {
    "collapsed": false
   },
   "outputs": [],
   "source": [
    "Y_Prob=DataFrame(logreg.predict_proba(X_test))"
   ]
  },
  {
   "cell_type": "code",
   "execution_count": 204,
   "metadata": {
    "collapsed": false
   },
   "outputs": [],
   "source": [
    "Y_Pred2=Y_Prob[1]>0.1\n",
    "d={True:1, False:0}\n",
    "Y_Pred2=Y_Pred2.map(d)"
   ]
  },
  {
   "cell_type": "code",
   "execution_count": 205,
   "metadata": {
    "collapsed": false
   },
   "outputs": [
    {
     "data": {
      "text/plain": [
       "4L"
      ]
     },
     "execution_count": 205,
     "metadata": {},
     "output_type": "execute_result"
    }
   ],
   "source": [
    "Y_Pred2.sum()"
   ]
  },
  {
   "cell_type": "code",
   "execution_count": 206,
   "metadata": {
    "collapsed": false
   },
   "outputs": [],
   "source": [
    "cnf_matrix =confusion_matrix(Y_test, Y_Pred2)"
   ]
  },
  {
   "cell_type": "code",
   "execution_count": 207,
   "metadata": {
    "collapsed": false
   },
   "outputs": [
    {
     "name": "stdout",
     "output_type": "stream",
     "text": [
      "Confusion matrix, without normalization\n",
      "[[2060    4]\n",
      " [  18    0]]\n"
     ]
    },
    {
     "data": {
      "image/png": "[encoded data removed]",
      "text/plain": [
       "<matplotlib.figure.Figure at 0x10e947f0>"
      ]
     },
     "metadata": {},
     "output_type": "display_data"
    }
   ],
   "source": [
    "plt.figure()\n",
    "plot_confusion_matrix(cnf_matrix, classes=['Not Churned', 'Churned'],\n",
    "                      title='Confusion matrix, without normalization')"
   ]
  },
  {
   "cell_type": "markdown",
   "metadata": {},
   "source": [
    "### Comments\n",
    "We tried to reduce the threshold of 50% to 10% and we predicted 4 churned cases BUT those cases were False Positive prediction. From the dataset that we have it seems that we are not able to increase the **Specificity** of the model "
   ]
  },
  {
   "cell_type": "code",
   "execution_count": 211,
   "metadata": {
    "collapsed": false
   },
   "outputs": [],
   "source": [
    "ProbDF=pd.concat([Y_Prob[1], DataFrame(Y_test)], axis=1)"
   ]
  },
  {
   "cell_type": "code",
   "execution_count": 213,
   "metadata": {
    "collapsed": false
   },
   "outputs": [],
   "source": [
    "ProbDF.columns=['Probability', 'Churned']"
   ]
  },
  {
   "cell_type": "code",
   "execution_count": 221,
   "metadata": {
    "collapsed": false
   },
   "outputs": [
    {
     "data": {
      "text/html": [
       "<div>\n",
       "<table border=\"1\" class=\"dataframe\">\n",
       "  <thead>\n",
       "    <tr style=\"text-align: right;\">\n",
       "      <th></th>\n",
       "      <th>Probability</th>\n",
       "      <th>Churned</th>\n",
       "    </tr>\n",
       "  </thead>\n",
       "  <tbody>\n",
       "    <tr>\n",
       "      <th>1417</th>\n",
       "      <td>0.020528</td>\n",
       "      <td>1</td>\n",
       "    </tr>\n",
       "    <tr>\n",
       "      <th>1701</th>\n",
       "      <td>0.022560</td>\n",
       "      <td>1</td>\n",
       "    </tr>\n",
       "    <tr>\n",
       "      <th>1645</th>\n",
       "      <td>0.018834</td>\n",
       "      <td>1</td>\n",
       "    </tr>\n",
       "    <tr>\n",
       "      <th>1255</th>\n",
       "      <td>0.020084</td>\n",
       "      <td>1</td>\n",
       "    </tr>\n",
       "    <tr>\n",
       "      <th>1065</th>\n",
       "      <td>0.014453</td>\n",
       "      <td>1</td>\n",
       "    </tr>\n",
       "    <tr>\n",
       "      <th>1338</th>\n",
       "      <td>0.013398</td>\n",
       "      <td>1</td>\n",
       "    </tr>\n",
       "    <tr>\n",
       "      <th>1252</th>\n",
       "      <td>0.021222</td>\n",
       "      <td>1</td>\n",
       "    </tr>\n",
       "    <tr>\n",
       "      <th>342</th>\n",
       "      <td>0.014472</td>\n",
       "      <td>1</td>\n",
       "    </tr>\n",
       "    <tr>\n",
       "      <th>1135</th>\n",
       "      <td>0.057529</td>\n",
       "      <td>1</td>\n",
       "    </tr>\n",
       "    <tr>\n",
       "      <th>1862</th>\n",
       "      <td>0.006219</td>\n",
       "      <td>1</td>\n",
       "    </tr>\n",
       "    <tr>\n",
       "      <th>464</th>\n",
       "      <td>0.038625</td>\n",
       "      <td>1</td>\n",
       "    </tr>\n",
       "    <tr>\n",
       "      <th>405</th>\n",
       "      <td>0.018440</td>\n",
       "      <td>1</td>\n",
       "    </tr>\n",
       "    <tr>\n",
       "      <th>10</th>\n",
       "      <td>0.003416</td>\n",
       "      <td>1</td>\n",
       "    </tr>\n",
       "    <tr>\n",
       "      <th>1035</th>\n",
       "      <td>0.006891</td>\n",
       "      <td>1</td>\n",
       "    </tr>\n",
       "    <tr>\n",
       "      <th>663</th>\n",
       "      <td>0.014984</td>\n",
       "      <td>1</td>\n",
       "    </tr>\n",
       "    <tr>\n",
       "      <th>386</th>\n",
       "      <td>0.077652</td>\n",
       "      <td>1</td>\n",
       "    </tr>\n",
       "    <tr>\n",
       "      <th>1428</th>\n",
       "      <td>0.020279</td>\n",
       "      <td>1</td>\n",
       "    </tr>\n",
       "    <tr>\n",
       "      <th>1157</th>\n",
       "      <td>0.019200</td>\n",
       "      <td>1</td>\n",
       "    </tr>\n",
       "    <tr>\n",
       "      <th>1392</th>\n",
       "      <td>0.006125</td>\n",
       "      <td>0</td>\n",
       "    </tr>\n",
       "    <tr>\n",
       "      <th>1388</th>\n",
       "      <td>0.017551</td>\n",
       "      <td>0</td>\n",
       "    </tr>\n",
       "    <tr>\n",
       "      <th>1393</th>\n",
       "      <td>0.037783</td>\n",
       "      <td>0</td>\n",
       "    </tr>\n",
       "    <tr>\n",
       "      <th>1394</th>\n",
       "      <td>0.002190</td>\n",
       "      <td>0</td>\n",
       "    </tr>\n",
       "    <tr>\n",
       "      <th>1391</th>\n",
       "      <td>0.012154</td>\n",
       "      <td>0</td>\n",
       "    </tr>\n",
       "    <tr>\n",
       "      <th>1390</th>\n",
       "      <td>0.021836</td>\n",
       "      <td>0</td>\n",
       "    </tr>\n",
       "    <tr>\n",
       "      <th>1395</th>\n",
       "      <td>0.004972</td>\n",
       "      <td>0</td>\n",
       "    </tr>\n",
       "    <tr>\n",
       "      <th>1389</th>\n",
       "      <td>0.015385</td>\n",
       "      <td>0</td>\n",
       "    </tr>\n",
       "    <tr>\n",
       "      <th>1396</th>\n",
       "      <td>0.001651</td>\n",
       "      <td>0</td>\n",
       "    </tr>\n",
       "    <tr>\n",
       "      <th>0</th>\n",
       "      <td>0.018409</td>\n",
       "      <td>0</td>\n",
       "    </tr>\n",
       "    <tr>\n",
       "      <th>1387</th>\n",
       "      <td>0.001717</td>\n",
       "      <td>0</td>\n",
       "    </tr>\n",
       "    <tr>\n",
       "      <th>1386</th>\n",
       "      <td>0.019702</td>\n",
       "      <td>0</td>\n",
       "    </tr>\n",
       "    <tr>\n",
       "      <th>...</th>\n",
       "      <td>...</td>\n",
       "      <td>...</td>\n",
       "    </tr>\n",
       "    <tr>\n",
       "      <th>703</th>\n",
       "      <td>0.006353</td>\n",
       "      <td>0</td>\n",
       "    </tr>\n",
       "    <tr>\n",
       "      <th>716</th>\n",
       "      <td>0.004384</td>\n",
       "      <td>0</td>\n",
       "    </tr>\n",
       "    <tr>\n",
       "      <th>715</th>\n",
       "      <td>0.001379</td>\n",
       "      <td>0</td>\n",
       "    </tr>\n",
       "    <tr>\n",
       "      <th>714</th>\n",
       "      <td>0.000337</td>\n",
       "      <td>0</td>\n",
       "    </tr>\n",
       "    <tr>\n",
       "      <th>713</th>\n",
       "      <td>0.006375</td>\n",
       "      <td>0</td>\n",
       "    </tr>\n",
       "    <tr>\n",
       "      <th>712</th>\n",
       "      <td>0.005342</td>\n",
       "      <td>0</td>\n",
       "    </tr>\n",
       "    <tr>\n",
       "      <th>711</th>\n",
       "      <td>0.010254</td>\n",
       "      <td>0</td>\n",
       "    </tr>\n",
       "    <tr>\n",
       "      <th>710</th>\n",
       "      <td>0.001137</td>\n",
       "      <td>0</td>\n",
       "    </tr>\n",
       "    <tr>\n",
       "      <th>709</th>\n",
       "      <td>0.034363</td>\n",
       "      <td>0</td>\n",
       "    </tr>\n",
       "    <tr>\n",
       "      <th>708</th>\n",
       "      <td>0.006077</td>\n",
       "      <td>0</td>\n",
       "    </tr>\n",
       "    <tr>\n",
       "      <th>707</th>\n",
       "      <td>0.005055</td>\n",
       "      <td>0</td>\n",
       "    </tr>\n",
       "    <tr>\n",
       "      <th>706</th>\n",
       "      <td>0.003933</td>\n",
       "      <td>0</td>\n",
       "    </tr>\n",
       "    <tr>\n",
       "      <th>705</th>\n",
       "      <td>0.011221</td>\n",
       "      <td>0</td>\n",
       "    </tr>\n",
       "    <tr>\n",
       "      <th>704</th>\n",
       "      <td>0.003713</td>\n",
       "      <td>0</td>\n",
       "    </tr>\n",
       "    <tr>\n",
       "      <th>702</th>\n",
       "      <td>0.007318</td>\n",
       "      <td>0</td>\n",
       "    </tr>\n",
       "    <tr>\n",
       "      <th>688</th>\n",
       "      <td>0.072692</td>\n",
       "      <td>0</td>\n",
       "    </tr>\n",
       "    <tr>\n",
       "      <th>701</th>\n",
       "      <td>0.002283</td>\n",
       "      <td>0</td>\n",
       "    </tr>\n",
       "    <tr>\n",
       "      <th>700</th>\n",
       "      <td>0.018638</td>\n",
       "      <td>0</td>\n",
       "    </tr>\n",
       "    <tr>\n",
       "      <th>699</th>\n",
       "      <td>0.021022</td>\n",
       "      <td>0</td>\n",
       "    </tr>\n",
       "    <tr>\n",
       "      <th>698</th>\n",
       "      <td>0.005238</td>\n",
       "      <td>0</td>\n",
       "    </tr>\n",
       "    <tr>\n",
       "      <th>697</th>\n",
       "      <td>0.006650</td>\n",
       "      <td>0</td>\n",
       "    </tr>\n",
       "    <tr>\n",
       "      <th>696</th>\n",
       "      <td>0.041824</td>\n",
       "      <td>0</td>\n",
       "    </tr>\n",
       "    <tr>\n",
       "      <th>695</th>\n",
       "      <td>0.000961</td>\n",
       "      <td>0</td>\n",
       "    </tr>\n",
       "    <tr>\n",
       "      <th>694</th>\n",
       "      <td>0.018952</td>\n",
       "      <td>0</td>\n",
       "    </tr>\n",
       "    <tr>\n",
       "      <th>693</th>\n",
       "      <td>0.023237</td>\n",
       "      <td>0</td>\n",
       "    </tr>\n",
       "    <tr>\n",
       "      <th>692</th>\n",
       "      <td>0.001342</td>\n",
       "      <td>0</td>\n",
       "    </tr>\n",
       "    <tr>\n",
       "      <th>691</th>\n",
       "      <td>0.005550</td>\n",
       "      <td>0</td>\n",
       "    </tr>\n",
       "    <tr>\n",
       "      <th>690</th>\n",
       "      <td>0.006628</td>\n",
       "      <td>0</td>\n",
       "    </tr>\n",
       "    <tr>\n",
       "      <th>689</th>\n",
       "      <td>0.009992</td>\n",
       "      <td>0</td>\n",
       "    </tr>\n",
       "    <tr>\n",
       "      <th>2081</th>\n",
       "      <td>0.005545</td>\n",
       "      <td>0</td>\n",
       "    </tr>\n",
       "  </tbody>\n",
       "</table>\n",
       "<p>2082 rows × 2 columns</p>\n",
       "</div>"
      ],
      "text/plain": [
       "      Probability  Churned\n",
       "1417     0.020528        1\n",
       "1701     0.022560        1\n",
       "1645     0.018834        1\n",
       "1255     0.020084        1\n",
       "1065     0.014453        1\n",
       "1338     0.013398        1\n",
       "1252     0.021222        1\n",
       "342      0.014472        1\n",
       "1135     0.057529        1\n",
       "1862     0.006219        1\n",
       "464      0.038625        1\n",
       "405      0.018440        1\n",
       "10       0.003416        1\n",
       "1035     0.006891        1\n",
       "663      0.014984        1\n",
       "386      0.077652        1\n",
       "1428     0.020279        1\n",
       "1157     0.019200        1\n",
       "1392     0.006125        0\n",
       "1388     0.017551        0\n",
       "1393     0.037783        0\n",
       "1394     0.002190        0\n",
       "1391     0.012154        0\n",
       "1390     0.021836        0\n",
       "1395     0.004972        0\n",
       "1389     0.015385        0\n",
       "1396     0.001651        0\n",
       "0        0.018409        0\n",
       "1387     0.001717        0\n",
       "1386     0.019702        0\n",
       "...           ...      ...\n",
       "703      0.006353        0\n",
       "716      0.004384        0\n",
       "715      0.001379        0\n",
       "714      0.000337        0\n",
       "713      0.006375        0\n",
       "712      0.005342        0\n",
       "711      0.010254        0\n",
       "710      0.001137        0\n",
       "709      0.034363        0\n",
       "708      0.006077        0\n",
       "707      0.005055        0\n",
       "706      0.003933        0\n",
       "705      0.011221        0\n",
       "704      0.003713        0\n",
       "702      0.007318        0\n",
       "688      0.072692        0\n",
       "701      0.002283        0\n",
       "700      0.018638        0\n",
       "699      0.021022        0\n",
       "698      0.005238        0\n",
       "697      0.006650        0\n",
       "696      0.041824        0\n",
       "695      0.000961        0\n",
       "694      0.018952        0\n",
       "693      0.023237        0\n",
       "692      0.001342        0\n",
       "691      0.005550        0\n",
       "690      0.006628        0\n",
       "689      0.009992        0\n",
       "2081     0.005545        0\n",
       "\n",
       "[2082 rows x 2 columns]"
      ]
     },
     "execution_count": 221,
     "metadata": {},
     "output_type": "execute_result"
    }
   ],
   "source": [
    "ProbDF.sort_values('Churned', ascending=False)"
   ]
  },
  {
   "cell_type": "code",
   "execution_count": 222,
   "metadata": {
    "collapsed": false
   },
   "outputs": [
    {
     "data": {
      "text/html": [
       "<div>\n",
       "<table border=\"1\" class=\"dataframe\">\n",
       "  <thead>\n",
       "    <tr style=\"text-align: right;\">\n",
       "      <th></th>\n",
       "      <th>Probability</th>\n",
       "      <th>Churned</th>\n",
       "    </tr>\n",
       "  </thead>\n",
       "  <tbody>\n",
       "    <tr>\n",
       "      <th>10</th>\n",
       "      <td>0.003416</td>\n",
       "      <td>1</td>\n",
       "    </tr>\n",
       "    <tr>\n",
       "      <th>342</th>\n",
       "      <td>0.014472</td>\n",
       "      <td>1</td>\n",
       "    </tr>\n",
       "    <tr>\n",
       "      <th>386</th>\n",
       "      <td>0.077652</td>\n",
       "      <td>1</td>\n",
       "    </tr>\n",
       "    <tr>\n",
       "      <th>405</th>\n",
       "      <td>0.018440</td>\n",
       "      <td>1</td>\n",
       "    </tr>\n",
       "    <tr>\n",
       "      <th>464</th>\n",
       "      <td>0.038625</td>\n",
       "      <td>1</td>\n",
       "    </tr>\n",
       "    <tr>\n",
       "      <th>663</th>\n",
       "      <td>0.014984</td>\n",
       "      <td>1</td>\n",
       "    </tr>\n",
       "    <tr>\n",
       "      <th>1035</th>\n",
       "      <td>0.006891</td>\n",
       "      <td>1</td>\n",
       "    </tr>\n",
       "    <tr>\n",
       "      <th>1065</th>\n",
       "      <td>0.014453</td>\n",
       "      <td>1</td>\n",
       "    </tr>\n",
       "    <tr>\n",
       "      <th>1135</th>\n",
       "      <td>0.057529</td>\n",
       "      <td>1</td>\n",
       "    </tr>\n",
       "    <tr>\n",
       "      <th>1157</th>\n",
       "      <td>0.019200</td>\n",
       "      <td>1</td>\n",
       "    </tr>\n",
       "    <tr>\n",
       "      <th>1252</th>\n",
       "      <td>0.021222</td>\n",
       "      <td>1</td>\n",
       "    </tr>\n",
       "    <tr>\n",
       "      <th>1255</th>\n",
       "      <td>0.020084</td>\n",
       "      <td>1</td>\n",
       "    </tr>\n",
       "    <tr>\n",
       "      <th>1338</th>\n",
       "      <td>0.013398</td>\n",
       "      <td>1</td>\n",
       "    </tr>\n",
       "    <tr>\n",
       "      <th>1417</th>\n",
       "      <td>0.020528</td>\n",
       "      <td>1</td>\n",
       "    </tr>\n",
       "    <tr>\n",
       "      <th>1428</th>\n",
       "      <td>0.020279</td>\n",
       "      <td>1</td>\n",
       "    </tr>\n",
       "    <tr>\n",
       "      <th>1645</th>\n",
       "      <td>0.018834</td>\n",
       "      <td>1</td>\n",
       "    </tr>\n",
       "    <tr>\n",
       "      <th>1701</th>\n",
       "      <td>0.022560</td>\n",
       "      <td>1</td>\n",
       "    </tr>\n",
       "    <tr>\n",
       "      <th>1862</th>\n",
       "      <td>0.006219</td>\n",
       "      <td>1</td>\n",
       "    </tr>\n",
       "  </tbody>\n",
       "</table>\n",
       "</div>"
      ],
      "text/plain": [
       "      Probability  Churned\n",
       "10       0.003416        1\n",
       "342      0.014472        1\n",
       "386      0.077652        1\n",
       "405      0.018440        1\n",
       "464      0.038625        1\n",
       "663      0.014984        1\n",
       "1035     0.006891        1\n",
       "1065     0.014453        1\n",
       "1135     0.057529        1\n",
       "1157     0.019200        1\n",
       "1252     0.021222        1\n",
       "1255     0.020084        1\n",
       "1338     0.013398        1\n",
       "1417     0.020528        1\n",
       "1428     0.020279        1\n",
       "1645     0.018834        1\n",
       "1701     0.022560        1\n",
       "1862     0.006219        1"
      ]
     },
     "execution_count": 222,
     "metadata": {},
     "output_type": "execute_result"
    }
   ],
   "source": [
    "ProbDF.loc[ProbDF.Churned==1,]"
   ]
  },
  {
   "cell_type": "code",
   "execution_count": 226,
   "metadata": {
    "collapsed": false
   },
   "outputs": [
    {
     "data": {
      "text/plain": [
       "Probability    0.02271\n",
       "dtype: float64"
      ]
     },
     "execution_count": 226,
     "metadata": {},
     "output_type": "execute_result"
    }
   ],
   "source": [
    "ProbDF.loc[ProbDF.Churned==1, ['Probability']].mean()"
   ]
  },
  {
   "cell_type": "code",
   "execution_count": 227,
   "metadata": {
    "collapsed": false
   },
   "outputs": [
    {
     "data": {
      "text/plain": [
       "Probability    0.012133\n",
       "dtype: float64"
      ]
     },
     "execution_count": 227,
     "metadata": {},
     "output_type": "execute_result"
    }
   ],
   "source": [
    "ProbDF.loc[ProbDF.Churned!=1, ['Probability']].mean()"
   ]
  },
  {
   "cell_type": "code",
   "execution_count": null,
   "metadata": {
    "collapsed": true
   },
   "outputs": [],
   "source": []
  }
 ],
 "metadata": {
  "anaconda-cloud": {},
  "kernelspec": {
   "display_name": "Python [Root]",
   "language": "python",
   "name": "Python [Root]"
  },
  "language_info": {
   "codemirror_mode": {
    "name": "ipython",
    "version": 2
   },
   "file_extension": ".py",
   "mimetype": "text/x-python",
   "name": "python",
   "nbconvert_exporter": "python",
   "pygments_lexer": "ipython2",
   "version": "2.7.12"
  }
 },
 "nbformat": 4,
 "nbformat_minor": 0
}
