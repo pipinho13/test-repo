{
 "cells": [
  {
   "cell_type": "code",
   "execution_count": 113,
   "metadata": {
    "collapsed": true
   },
   "outputs": [],
   "source": [
    "###Import the numpy and pandas \n",
    "import numpy as np\n",
    "import pandas as pd\n",
    "from pandas import Series, DataFrame\n",
    "\n",
    "from sklearn.linear_model import LogisticRegression\n",
    "from sklearn.cross_validation import train_test_split\n",
    "from sklearn.metrics import confusion_matrix\n",
    "\n",
    "import matplotlib as mpl\n",
    "import matplotlib.pyplot as plt\n",
    "##import seaborn as sns"
   ]
  },
  {
   "cell_type": "code",
   "execution_count": 35,
   "metadata": {
    "collapsed": true
   },
   "outputs": [],
   "source": [
    "%matplotlib inline"
   ]
  },
  {
   "cell_type": "code",
   "execution_count": 47,
   "metadata": {
    "collapsed": false
   },
   "outputs": [],
   "source": [
    "### Assuming that we have the train and the test dataset in the working directory\n",
    "train_set=pd.read_csv(\"train_set.csv\")\n",
    "test_set=pd.read_csv(\"test_set.csv\")"
   ]
  },
  {
   "cell_type": "code",
   "execution_count": 48,
   "metadata": {
    "collapsed": false
   },
   "outputs": [],
   "source": [
    "### Function which cleans the train and test dataset\n",
    "def dataset_cleaning(df):\n",
    "    RemoveColumns=['registrationcontactid','buildingid', 'housenumber', 'streetname', 'boro', 'zip', 'firstname', 'lastname', 'corporationname']\n",
    "\n",
    "    df=df.drop(RemoveColumns, axis=1)\n",
    "    ### Replace the NaN to Zero\n",
    "    df=df.fillna(0)\n",
    "\n",
    "    ### Create new DataFrames for the Categorical Variables\n",
    "    registered_dummies=pd.get_dummies(df['registered'])\n",
    "    recordstatus_dummies=pd.get_dummies(df['recordstatus'])\n",
    "    contactdescription_dummies=pd.get_dummies(df['contactdescription'])\n",
    "\n",
    "    ### Give some meaningful names to the dummy columns\n",
    "    registered_dummies.columns=['No_Registered', 'Registered']\n",
    "    recordstatus_dummies.columns=['Status_Active', 'Status_Inactive']\n",
    "    contactdescription_dummies.columns=['Contract_COOP', 'Contract_CONDO']\n",
    "\n",
    "    ### Remove the columns from the dataset\n",
    "    df=df.drop(['registered', 'recordstatus', 'contactdescription' ], axis=1)\n",
    "\n",
    "    ### Add the Dummy Columns\n",
    "    df=pd.concat([df,registered_dummies, recordstatus_dummies, contactdescription_dummies], axis=1 )\n",
    "    ### Remove the Reference Level\n",
    "    df=df.drop(['Status_Inactive', 'No_Registered', 'Contract_COOP' ], axis=1)\n",
    "    return df\n",
    "    "
   ]
  },
  {
   "cell_type": "code",
   "execution_count": 117,
   "metadata": {
    "collapsed": true
   },
   "outputs": [],
   "source": [
    "### Load the train and test datasets and returning the clean Train and Test Datase using the function dataset_cleaning\n",
    "train=dataset_cleaning(train_set)\n",
    "test=dataset_cleaning(test_set)"
   ]
  },
  {
   "cell_type": "code",
   "execution_count": 136,
   "metadata": {
    "collapsed": false
   },
   "outputs": [
    {
     "data": {
      "text/plain": [
       "LogisticRegression(C=1.0, class_weight=None, dual=False, fit_intercept=True,\n",
       "          intercept_scaling=1, max_iter=100, multi_class='ovr', n_jobs=1,\n",
       "          penalty='l2', random_state=None, solver='liblinear', tol=0.0001,\n",
       "          verbose=0, warm_start=False)"
      ]
     },
     "execution_count": 136,
     "metadata": {},
     "output_type": "execute_result"
    }
   ],
   "source": [
    "#Create a Logistic Regression Class object\n",
    "logreg=LogisticRegression()\n",
    "\n",
    "### Run the Logistic Regression Model\n",
    "X_train=train.drop(['churned'], axis=1)\n",
    "Y_train=train.churned\n",
    "Y_train=np.ravel(Y_train)  ##TRANSFORM TO AN 1D array\n",
    "X_test=test.drop(['churned'], axis=1)\n",
    "\n",
    "\n",
    "#Train the model with the training set\n",
    "logreg.fit(X_train, Y_train)"
   ]
  },
  {
   "cell_type": "code",
   "execution_count": 138,
   "metadata": {
    "collapsed": true
   },
   "outputs": [],
   "source": [
    "### Create as an Output the following columns Actual, Predicted and Probability for every row in the dataset\n",
    "### The predicted is defined as \"1\" if the probability is higher than the top 5%\n",
    "### Finally it returns the output in a csv file\n",
    "Y_pred=logreg.predict(X_test)\n",
    "Y_probs=DataFrame(logreg.predict_proba(X_test))[1]\n",
    "Threshold=Y_probs.quantile(0.95)\n",
    "output=DataFrame({'Predicted':Y_pred, 'Probability':Y_probs, 'Actual': test.churned})\n",
    "output.loc[output.Probability>Threshold, 'Predicted']=1"
   ]
  },
  {
   "cell_type": "code",
   "execution_count": 123,
   "metadata": {
    "collapsed": false
   },
   "outputs": [],
   "source": [
    "output.to_csv(\"output.csv\", sep=\";\")"
   ]
  },
  {
   "cell_type": "code",
   "execution_count": 139,
   "metadata": {
    "collapsed": false
   },
   "outputs": [
    {
     "data": {
      "text/html": [
       "<div>\n",
       "<table border=\"1\" class=\"dataframe\">\n",
       "  <thead>\n",
       "    <tr style=\"text-align: right;\">\n",
       "      <th></th>\n",
       "      <th>Predicted 0</th>\n",
       "      <th>Predicted 1</th>\n",
       "    </tr>\n",
       "  </thead>\n",
       "  <tbody>\n",
       "    <tr>\n",
       "      <th>Actual 0</th>\n",
       "      <td>2145</td>\n",
       "      <td>239</td>\n",
       "    </tr>\n",
       "    <tr>\n",
       "      <th>Actual 1</th>\n",
       "      <td>21</td>\n",
       "      <td>2</td>\n",
       "    </tr>\n",
       "  </tbody>\n",
       "</table>\n",
       "</div>"
      ],
      "text/plain": [
       "          Predicted 0  Predicted 1\n",
       "Actual 0         2145          239\n",
       "Actual 1           21            2"
      ]
     },
     "execution_count": 139,
     "metadata": {},
     "output_type": "execute_result"
    }
   ],
   "source": [
    "###And the Confusion Matrix\n",
    "cnf_matrix =DataFrame(confusion_matrix(output.Actual, output.Predicted))\n",
    "cnf_matrix.columns=[\"Predicted 0\", \"Predicted 1\"]\n",
    "cnf_matrix.index=[\"Actual 0\", \"Actual 1\"]\n",
    "cnf_matrix"
   ]
  }
 ],
 "metadata": {
  "anaconda-cloud": {},
  "kernelspec": {
   "display_name": "Python [Root]",
   "language": "python",
   "name": "Python [Root]"
  },
  "language_info": {
   "codemirror_mode": {
    "name": "ipython",
    "version": 2
   },
   "file_extension": ".py",
   "mimetype": "text/x-python",
   "name": "python",
   "nbconvert_exporter": "python",
   "pygments_lexer": "ipython2",
   "version": "2.7.12"
  }
 },
 "nbformat": 4,
 "nbformat_minor": 0
}
