{
 "cells": [
  {
   "cell_type": "markdown",
   "metadata": {},
   "source": [
    "Load pandas and numpy first. Then load the datasets.\n"
   ]
  },
  {
   "cell_type": "code",
   "execution_count": 1,
   "metadata": {
    "collapsed": false
   },
   "outputs": [],
   "source": [
    "import pandas as pd\n",
    "import numpy as np\n",
    "\n",
    "pd.set_option('display.float_format', lambda x: '%.3f' % x)\n",
    "\n",
    "responded_table = pd.read_csv('C:/Users/.../Responded_Table.csv')\n",
    "sent_table= pd.read_csv('C:/Users/../Sent_Table.csv')\n",
    "ub = pd.read_csv('C:/Users/../UB.csv')\n"
   ]
  },
  {
   "cell_type": "markdown",
   "metadata": {},
   "source": [
    "Q1.Provide the Average, Median, Q1, Q3, Min, Max and the Mode of Age variable"
   ]
  },
  {
   "cell_type": "code",
   "execution_count": 35,
   "metadata": {
    "collapsed": false
   },
   "outputs": [
    {
     "data": {
      "text/plain": [
       "count   500000.000\n",
       "mean        31.619\n",
       "std          6.708\n",
       "min         18.000\n",
       "25%         27.000\n",
       "50%         31.000\n",
       "75%         36.000\n",
       "max         63.000\n",
       "Name: Age, dtype: float64"
      ]
     },
     "execution_count": 35,
     "metadata": {},
     "output_type": "execute_result"
    }
   ],
   "source": [
    "ub['Age'].describe()"
   ]
  },
  {
   "cell_type": "code",
   "execution_count": null,
   "metadata": {
    "collapsed": true
   },
   "outputs": [],
   "source": [
    "ub['Age'].value_counts()"
   ]
  },
  {
   "cell_type": "markdown",
   "metadata": {},
   "source": [
    "so the average is 31.62 (approximately) the median is 31, the minimun value is 18, the maximum is 63. Q1 is 27 and Q3 is 36.The most common Age value (mode) is 31."
   ]
  },
  {
   "cell_type": "markdown",
   "metadata": {},
   "source": [
    "Q2: Provide a Histogram of the Tenure variable. What can you say about the distribution? "
   ]
  },
  {
   "cell_type": "code",
   "execution_count": 16,
   "metadata": {
    "collapsed": false
   },
   "outputs": [
    {
     "data": {
      "image/png": "[encoded data removed]",
      "text/plain": [
       "<matplotlib.figure.Figure at 0x1d934b4c5c0>"
      ]
     },
     "metadata": {},
     "output_type": "display_data"
    },
    {
     "data": {
      "image/png": "[encoded data removed]",
      "text/plain": [
       "<matplotlib.figure.Figure at 0x1d930f2b8d0>"
      ]
     },
     "metadata": {},
     "output_type": "display_data"
    }
   ],
   "source": [
    "%matplotlib inline\n",
    "import matplotlib.pyplot as plt\n",
    "import seaborn as sns\n",
    "plt.hist(ub.Tenure)\n",
    "plt.show()\n",
    "sns.distplot(ub.Tenure)\n",
    "plt.show()"
   ]
  },
  {
   "cell_type": "markdown",
   "metadata": {},
   "source": [
    "The histogram shows us that, this is not a normal distribution. The 'Tenure' variable follows a bimodal distribution as different local peaks are observed. The distplot gives a different view of that statement."
   ]
  },
  {
   "cell_type": "markdown",
   "metadata": {},
   "source": [
    "Q3: Provide a 95% Confidence Interval of the Tenure. Can we claim that the average Tenure of the Userbase is 17 months?"
   ]
  },
  {
   "cell_type": "markdown",
   "metadata": {},
   "source": [
    "Since the Tenure variable doesn't follow a normal distribution we have to check if the mean value is a good indicator for us to calculate the Confidence Interval. Let's take a look to the mean, the median and the std."
   ]
  },
  {
   "cell_type": "code",
   "execution_count": 3,
   "metadata": {
    "collapsed": false
   },
   "outputs": [
    {
     "data": {
      "text/plain": [
       "count   500000.000\n",
       "mean        16.193\n",
       "std          6.468\n",
       "min          0.000\n",
       "25%         11.000\n",
       "50%         14.000\n",
       "75%         22.000\n",
       "max         38.000\n",
       "Name: Tenure, dtype: float64"
      ]
     },
     "execution_count": 3,
     "metadata": {},
     "output_type": "execute_result"
    }
   ],
   "source": [
    "ub['Tenure'].describe()"
   ]
  },
  {
   "cell_type": "markdown",
   "metadata": {},
   "source": [
    "Notice that mean differs from the median. Also, we should check the mode value."
   ]
  },
  {
   "cell_type": "code",
   "execution_count": 14,
   "metadata": {
    "collapsed": false
   },
   "outputs": [
    {
     "data": {
      "text/plain": [
       "12    42842\n",
       "13    40663\n",
       "11    40607\n",
       "10    34599\n",
       "14    34484\n",
       "15    26770\n",
       "9     26321\n",
       "24    23104\n",
       "23    22000\n",
       "25    21884\n",
       "22    18712\n",
       "26    18413\n",
       "16    18367\n",
       "8     18130\n",
       "21    14576\n",
       "27    14249\n",
       "17    12524\n",
       "20    11031\n",
       "7     10860\n",
       "28     9451\n",
       "18     9128\n",
       "19     8762\n",
       "6      5918\n",
       "29     5838\n",
       "30     3248\n",
       "5      2886\n",
       "31     1558\n",
       "4      1231\n",
       "32      670\n",
       "3       493\n",
       "33      289\n",
       "2       178\n",
       "34       95\n",
       "1        71\n",
       "0        17\n",
       "35       16\n",
       "36       14\n",
       "38        1\n",
       "Name: Tenure, dtype: int64"
      ]
     },
     "execution_count": 14,
     "metadata": {},
     "output_type": "execute_result"
    }
   ],
   "source": [
    "ub['Tenure'].value_counts()"
   ]
  },
  {
   "cell_type": "markdown",
   "metadata": {},
   "source": [
    "See that most common value is 12 months. Furthermore, the median is also very common (in the top 5 values). On the other hand, mean's frequency is relatively low. We expect a confidence interval with the median to be more accurate in our case."
   ]
  },
  {
   "cell_type": "code",
   "execution_count": 4,
   "metadata": {
    "collapsed": false
   },
   "outputs": [
    {
     "name": "stdout",
     "output_type": "stream",
     "text": [
      "(12.040036015459947, 15.959963984540053)\n"
     ]
    }
   ],
   "source": [
    "from scipy import stats\n",
    "conf_int = stats.norm.interval(0.95,loc = ub['Tenure'].median())\n",
    "print(conf_int)"
   ]
  },
  {
   "cell_type": "markdown",
   "metadata": {},
   "source": [
    "Q4. Calculate the Average Age and the Proportion of Customers per Gender and Type. "
   ]
  },
  {
   "cell_type": "code",
   "execution_count": 5,
   "metadata": {
    "collapsed": false
   },
   "outputs": [
    {
     "name": "stdout",
     "output_type": "stream",
     "text": [
      "  Gender Type  Average Age  Proportion of customers(%)\n",
      "0      F    B       37.970                       6.963\n",
      "1      F    C       30.032                      28.031\n",
      "2      M    B       37.984                      12.976\n",
      "3      M    C       30.036                      52.030\n"
     ]
    }
   ],
   "source": [
    "#Q4\n",
    "groupped =  ub[['Age','Type','Gender']].groupby(['Gender','Type'],as_index=False).mean()\n",
    "group_cust =  ub[['Customer_ID','Type','Gender']].groupby(['Gender','Type'],as_index=False).count()\n",
    "group_cust ['Proportion of customers(%)'] = (group_cust['Customer_ID']/len(ub))*100\n",
    "group_cust = group_cust.drop('Customer_ID', axis =1)\n",
    "groupped = pd.merge(groupped,group_cust,on=['Type', 'Gender'], how='left')\n",
    "groupped = groupped.rename(columns ={'Age':'Average Age'})\n",
    "print(groupped)\n"
   ]
  },
  {
   "cell_type": "markdown",
   "metadata": {},
   "source": [
    "The groupped dataframe provides a table with the following columns:  Gender,Type, Average Age, Proportion of Customers. As we can see more than the half of our customers are men consumers and their average age is about 30years old."
   ]
  },
  {
   "cell_type": "markdown",
   "metadata": {},
   "source": [
    "Q5: Calculate the Number of Customers per Email Domain. "
   ]
  },
  {
   "cell_type": "code",
   "execution_count": 6,
   "metadata": {
    "collapsed": false
   },
   "outputs": [
    {
     "name": "stdout",
     "output_type": "stream",
     "text": [
      "  Email_Domain  Number of Customers\n",
      "0      aol.com                49975\n",
      "1  comcast.net                34820\n",
      "2    gmail.com               150266\n",
      "3  hotmail.com               125482\n",
      "4      msn.com                74626\n",
      "5    yahoo.com                64831\n"
     ]
    }
   ],
   "source": [
    "#Q5\n",
    "ub['Email_Domain']= ub['Email_Address'].apply(lambda x: x.split('@')[1])\n",
    "group_Domain = ub[['Email_Domain','Customer_ID']].groupby(['Email_Domain'], as_index=False).count()\n",
    "group_Domain = group_Domain.rename(columns ={'Customer_ID':'Number of Customers'})\n",
    "print (group_Domain)"
   ]
  },
  {
   "cell_type": "markdown",
   "metadata": {},
   "source": [
    "the group_Domain dataframe provides a table  with  two columns: Email Domain, Number of Customers"
   ]
  },
  {
   "cell_type": "markdown",
   "metadata": {},
   "source": [
    "Q6:Calculate the Average Number of Subject Lines Sent per Weekday"
   ]
  },
  {
   "cell_type": "code",
   "execution_count": 7,
   "metadata": {
    "collapsed": false
   },
   "outputs": [
    {
     "name": "stdout",
     "output_type": "stream",
     "text": [
      "     Weekday  Average Number of Emails Sent\n",
      "0     Friday                          1.999\n",
      "1     Monday                          2.000\n",
      "2   Saturday                          1.999\n",
      "3     Sunday                          1.999\n",
      "4   Thursday                          2.001\n",
      "5    Tuesday                          1.999\n",
      "6  Wednesday                          1.997\n"
     ]
    }
   ],
   "source": [
    "from datetime import date\n",
    "import calendar\n",
    "my_date=date.today()\n",
    "calendar.day_name[my_date.weekday()]\n",
    "\n",
    "sent_table['Sent_Date'] = pd.to_datetime(sent_table['Sent_Date'])\n",
    "sent_table['Weekday'] =sent_table['Sent_Date'].dt.weekday_name\n",
    "\n",
    "group_weekday = sent_table[['SubjectLine_ID','Weekday']].groupby(['Weekday'], as_index=False).mean()\n",
    "group_weekday = group_weekday.rename(columns ={'SubjectLine_ID':'Average Number of Emails Sent'})\n",
    "\n",
    "print(group_weekday)"
   ]
  },
  {
   "cell_type": "markdown",
   "metadata": {},
   "source": [
    "The group_weekday dataframe contains two columns. Weekdays and Average Number of Emails Sent."
   ]
  },
  {
   "cell_type": "markdown",
   "metadata": {},
   "source": [
    "Q7: Calculate the Average Open Rate by SubjectLine_ID considering as valid responses ONLY those Emails which were Opened at the Sent Date. What can you say about the performance of the messages? "
   ]
  },
  {
   "cell_type": "code",
   "execution_count": 8,
   "metadata": {
    "collapsed": false,
    "scrolled": true
   },
   "outputs": [
    {
     "name": "stdout",
     "output_type": "stream",
     "text": [
      "   SubjectLine_ID  Average Open Rate (%)\n",
      "0               1                  7.996\n",
      "1               2                  7.925\n",
      "2               3                  7.072\n"
     ]
    },
    {
     "data": {
      "text/html": [
       "<div>\n",
       "<table border=\"1\" class=\"dataframe\">\n",
       "  <thead>\n",
       "    <tr style=\"text-align: right;\">\n",
       "      <th></th>\n",
       "      <th>Sent_Date</th>\n",
       "      <th>Customer_ID</th>\n",
       "      <th>SubjectLine_ID</th>\n",
       "      <th>Weekday</th>\n",
       "      <th>Responded_Date</th>\n",
       "      <th>Valid_Response</th>\n",
       "    </tr>\n",
       "  </thead>\n",
       "  <tbody>\n",
       "    <tr>\n",
       "      <th>0</th>\n",
       "      <td>2016-01-28</td>\n",
       "      <td>1413</td>\n",
       "      <td>2</td>\n",
       "      <td>Thursday</td>\n",
       "      <td>2016-01-31</td>\n",
       "      <td>0</td>\n",
       "    </tr>\n",
       "    <tr>\n",
       "      <th>1</th>\n",
       "      <td>2016-01-03</td>\n",
       "      <td>1413</td>\n",
       "      <td>2</td>\n",
       "      <td>Sunday</td>\n",
       "      <td>2016-01-31</td>\n",
       "      <td>0</td>\n",
       "    </tr>\n",
       "    <tr>\n",
       "      <th>2</th>\n",
       "      <td>2016-02-03</td>\n",
       "      <td>192123</td>\n",
       "      <td>3</td>\n",
       "      <td>Wednesday</td>\n",
       "      <td>2016-02-04</td>\n",
       "      <td>0</td>\n",
       "    </tr>\n",
       "    <tr>\n",
       "      <th>3</th>\n",
       "      <td>2016-03-22</td>\n",
       "      <td>192123</td>\n",
       "      <td>3</td>\n",
       "      <td>Tuesday</td>\n",
       "      <td>2016-02-04</td>\n",
       "      <td>0</td>\n",
       "    </tr>\n",
       "    <tr>\n",
       "      <th>4</th>\n",
       "      <td>2016-02-07</td>\n",
       "      <td>399506</td>\n",
       "      <td>2</td>\n",
       "      <td>Sunday</td>\n",
       "      <td>2016-03-24</td>\n",
       "      <td>0</td>\n",
       "    </tr>\n",
       "  </tbody>\n",
       "</table>\n",
       "</div>"
      ],
      "text/plain": [
       "   Sent_Date  Customer_ID  SubjectLine_ID    Weekday Responded_Date  \\\n",
       "0 2016-01-28         1413               2   Thursday     2016-01-31   \n",
       "1 2016-01-03         1413               2     Sunday     2016-01-31   \n",
       "2 2016-02-03       192123               3  Wednesday     2016-02-04   \n",
       "3 2016-03-22       192123               3    Tuesday     2016-02-04   \n",
       "4 2016-02-07       399506               2     Sunday     2016-03-24   \n",
       "\n",
       "   Valid_Response  \n",
       "0               0  \n",
       "1               0  \n",
       "2               0  \n",
       "3               0  \n",
       "4               0  "
      ]
     },
     "execution_count": 8,
     "metadata": {},
     "output_type": "execute_result"
    }
   ],
   "source": [
    "#Transform the 'Responded_Date'column into datetime format\n",
    "responded_table['Responded_Date'] = pd.to_datetime(responded_table['Responded_Date'])\n",
    "#Inner join sent_table and responded_table on SubjectLine_ID and Customer_ID\n",
    "merged_df = pd.merge(sent_table, responded_table, on=['SubjectLine_ID', 'Customer_ID'], how='inner')\n",
    "\n",
    "##Create a validation variable (1 when the response is valid and 0 when it's not)\n",
    "merged_df['Valid_Response'] = np.where((merged_df['Responded_Date'] == merged_df['Sent_Date']),1,0)\n",
    "\n",
    "grouped_open_rate = merged_df[['SubjectLine_ID','Valid_Response']].groupby(['SubjectLine_ID'],as_index = False).sum()\n",
    "\n",
    "grouped_open_rate['Average Open Rate (%)'] = (grouped_open_rate['Valid_Response']/len(merged_df))*100\n",
    "grouped_open_rate = grouped_open_rate.drop('Valid_Response', axis=1)\n",
    "print(grouped_open_rate)"
   ]
  },
  {
   "cell_type": "markdown",
   "metadata": {},
   "source": [
    "The best performing e-mail is SubjectLine_ID 1 which is responded about 8%. In general, all three e-mails are responded around 7-8%. We cannot say that there is a great difference on our e-mail performance for depending on the e-mail type."
   ]
  },
  {
   "cell_type": "markdown",
   "metadata": {},
   "source": [
    "Q8:Calculate the Average Open Rate by Type considering as valid responses ONLY those Subject Lines which were Opened at the Sent Date"
   ]
  },
  {
   "cell_type": "code",
   "execution_count": 9,
   "metadata": {
    "collapsed": false
   },
   "outputs": [
    {
     "data": {
      "text/html": [
       "<div>\n",
       "<table border=\"1\" class=\"dataframe\">\n",
       "  <thead>\n",
       "    <tr style=\"text-align: right;\">\n",
       "      <th></th>\n",
       "      <th>Sent_Date</th>\n",
       "      <th>Customer_ID</th>\n",
       "      <th>SubjectLine_ID</th>\n",
       "      <th>Weekday</th>\n",
       "      <th>Responded_Date</th>\n",
       "      <th>Valid_Response</th>\n",
       "      <th>Gender</th>\n",
       "      <th>Type</th>\n",
       "      <th>Email_Address</th>\n",
       "      <th>Age</th>\n",
       "      <th>Tenure</th>\n",
       "      <th>Email_Domain</th>\n",
       "    </tr>\n",
       "  </thead>\n",
       "  <tbody>\n",
       "    <tr>\n",
       "      <th>0</th>\n",
       "      <td>2016-01-28</td>\n",
       "      <td>1413</td>\n",
       "      <td>2</td>\n",
       "      <td>Thursday</td>\n",
       "      <td>2016-01-31</td>\n",
       "      <td>0</td>\n",
       "      <td>M</td>\n",
       "      <td>B</td>\n",
       "      <td>Jaj2NuUJneD@gmail.com</td>\n",
       "      <td>44</td>\n",
       "      <td>12</td>\n",
       "      <td>gmail.com</td>\n",
       "    </tr>\n",
       "    <tr>\n",
       "      <th>1</th>\n",
       "      <td>2016-01-03</td>\n",
       "      <td>1413</td>\n",
       "      <td>2</td>\n",
       "      <td>Sunday</td>\n",
       "      <td>2016-01-31</td>\n",
       "      <td>0</td>\n",
       "      <td>M</td>\n",
       "      <td>B</td>\n",
       "      <td>Jaj2NuUJneD@gmail.com</td>\n",
       "      <td>44</td>\n",
       "      <td>12</td>\n",
       "      <td>gmail.com</td>\n",
       "    </tr>\n",
       "  </tbody>\n",
       "</table>\n",
       "</div>"
      ],
      "text/plain": [
       "   Sent_Date  Customer_ID  SubjectLine_ID   Weekday Responded_Date  \\\n",
       "0 2016-01-28         1413               2  Thursday     2016-01-31   \n",
       "1 2016-01-03         1413               2    Sunday     2016-01-31   \n",
       "\n",
       "   Valid_Response Gender Type          Email_Address  Age  Tenure Email_Domain  \n",
       "0               0      M    B  Jaj2NuUJneD@gmail.com   44      12    gmail.com  \n",
       "1               0      M    B  Jaj2NuUJneD@gmail.com   44      12    gmail.com  "
      ]
     },
     "execution_count": 9,
     "metadata": {},
     "output_type": "execute_result"
    }
   ],
   "source": [
    "merged_df = pd.merge(merged_df, ub, on=['Customer_ID'])\n",
    "\n",
    "merged_df.head(2)"
   ]
  },
  {
   "cell_type": "code",
   "execution_count": 10,
   "metadata": {
    "collapsed": false
   },
   "outputs": [
    {
     "name": "stdout",
     "output_type": "stream",
     "text": [
      "  Type  Avg.Open Rate\n",
      "0    B          5.041\n",
      "1    C         17.951\n"
     ]
    }
   ],
   "source": [
    "open_rate_by_type = merged_df[['Type','Valid_Response']].groupby(['Type'],as_index = False).sum()\n",
    "open_rate_by_type['Avg.Open Rate(%)'] = (open_rate_by_type['Valid_Response']/len(merged_df))*100\n",
    "open_rate_by_type = open_rate_by_type.drop('Valid_Response', axis =1)\n",
    "\n",
    "print(open_rate_by_type)\n"
   ]
  },
  {
   "cell_type": "markdown",
   "metadata": {},
   "source": [
    "As we see, Consumers respond more than three times to our e-mails than our Business customers.That is an interesting information! Given that Consumers are about 80% of our total customers, this fact seems legit."
   ]
  },
  {
   "cell_type": "markdown",
   "metadata": {},
   "source": [
    "Q9: Try to build a model which can predict the Open Rate based on the Customer’s attributes and the SubjetLine_ID received. \n",
    "Describe and evaluate the model. \n",
    "What is the Estimated Probability of a Customer with the following attributes to Open the SubjectLine_ID=3."
   ]
  },
  {
   "cell_type": "markdown",
   "metadata": {},
   "source": [
    "Create a new dataframe with the features of interest for our model. Assign the target value to a numpy array. (y). Split the dataset into trainset and testset. Apply a Random Forest Algorithm and check the classification matrix and the accuracy score."
   ]
  },
  {
   "cell_type": "code",
   "execution_count": 27,
   "metadata": {
    "collapsed": false
   },
   "outputs": [],
   "source": [
    "to_model = merged_df[['Gender','Type','Email_Domain','Age','Tenure','Valid_Response','SubjectLine_ID']]\n",
    "#Encode the strings (without dummies)\n",
    "to_model = to_model.replace({'Gender':{'M':1,'F':2},\n",
    "                            'Type':{'B':1,'C':2},\n",
    "                            'Email_Domain':{'gmail.com':1,'hotmail.com':2,'aol.com':3,'yahoo.com':4,'msn.com':5,'comcast.net':6}}) \n",
    "\n",
    "\n",
    "Y =to_model['Valid_Response']\n",
    "to_model = to_model.drop('Valid_Response',axis = 1)"
   ]
  },
  {
   "cell_type": "markdown",
   "metadata": {},
   "source": [
    "Import train_test_split and cross_val_score from the sci-kit learn module. Also import Random Forest Classifier and the metrics functions we will use. "
   ]
  },
  {
   "cell_type": "code",
   "execution_count": 25,
   "metadata": {
    "collapsed": true
   },
   "outputs": [],
   "source": [
    "from sklearn.model_selection import train_test_split,cross_val_score\n",
    "from sklearn.ensemble import RandomForestClassifier\n",
    "from sklearn.metrics import accuracy_score,confusion_matrix"
   ]
  },
  {
   "cell_type": "code",
   "execution_count": 28,
   "metadata": {
    "collapsed": false
   },
   "outputs": [],
   "source": [
    "X_train,X_test,y_train,y_test = train_test_split(to_model,Y,test_size=0.3,random_state = 22)\n",
    "\n",
    "RF = RandomForestClassifier(random_state = 22,max_features = None, min_samples_split = 10)\n",
    "RF = RF.fit(X_train,y_train)\n",
    "conf_RF = cross_val_score(RF,X_train,y_train,cv=10)\n",
    "pred_RF = RF.predict(X_test)\n",
    "score_RF = accuracy_score(y_test,pred_RF)"
   ]
  },
  {
   "cell_type": "markdown",
   "metadata": {},
   "source": [
    "Now let's print the results and the feature importance for our model as well."
   ]
  },
  {
   "cell_type": "code",
   "execution_count": 29,
   "metadata": {
    "collapsed": false
   },
   "outputs": [
    {
     "name": "stdout",
     "output_type": "stream",
     "text": [
      "0.763139936307\n"
     ]
    }
   ],
   "source": [
    "print (score_RF)"
   ]
  },
  {
   "cell_type": "code",
   "execution_count": 34,
   "metadata": {
    "collapsed": false
   },
   "outputs": [
    {
     "name": "stdout",
     "output_type": "stream",
     "text": [
      "[[227493   2992]\n",
      " [ 67814    637]]\n"
     ]
    }
   ],
   "source": [
    "print (confusion_matrix(y_test,pred_RF))"
   ]
  },
  {
   "cell_type": "markdown",
   "metadata": {},
   "source": [
    "Typically our model is 76.31% accurate. But, a look to the confusion matrix tells us that while our model is doing well classifying unresponded mails, it doesn't do so when classifying responded. "
   ]
  },
  {
   "cell_type": "code",
   "execution_count": 32,
   "metadata": {
    "collapsed": false
   },
   "outputs": [
    {
     "data": {
      "image/png": "[encoded data removed]",
      "text/plain": [
       "<matplotlib.figure.Figure at 0x1d947274518>"
      ]
     },
     "metadata": {},
     "output_type": "display_data"
    }
   ],
   "source": [
    "importances = RF.feature_importances_\n",
    "indices = np.argsort(importances)[::-1]\n",
    "\n",
    "plt.figure()\n",
    "plt.title(\"Feature importances\")\n",
    "plt.bar(range(X_train.shape[1]), importances[indices],\n",
    "       color=\"r\",align=\"center\")\n",
    "plt.xticks(range(X_train.shape[1]), X_train.columns)\n",
    "plt.xlim([-1, X_train.shape[1]])\n",
    "plt.tight_layout\n",
    "plt.show()"
   ]
  },
  {
   "cell_type": "markdown",
   "metadata": {},
   "source": [
    "See that Gender and Type  where the features our algorithm considered to be more important. The feature importance is distributed as shown by the graph above."
   ]
  },
  {
   "cell_type": "code",
   "execution_count": 33,
   "metadata": {
    "collapsed": false
   },
   "outputs": [
    {
     "name": "stdout",
     "output_type": "stream",
     "text": [
      "[0]\n"
     ]
    },
    {
     "name": "stderr",
     "output_type": "stream",
     "text": [
      "C:\\Users\\Riko\\Anaconda3\\lib\\site-packages\\sklearn\\utils\\validation.py:395: DeprecationWarning: Passing 1d arrays as data is deprecated in 0.17 and will raise ValueError in 0.19. Reshape your data either using X.reshape(-1, 1) if your data has a single feature or X.reshape(1, -1) if it contains a single sample.\n",
      "  DeprecationWarning)\n"
     ]
    }
   ],
   "source": [
    "# Test customer, encoded attributes:\n",
    "customer = [2,1,3,50,12,3]\n",
    "\n",
    "print(RF.predict(customer))"
   ]
  },
  {
   "cell_type": "markdown",
   "metadata": {},
   "source": [
    "Our model suggests that this particular customer won't respond to the e-mail (probability = 76.31%)."
   ]
  },
  {
   "cell_type": "markdown",
   "metadata": {},
   "source": [
    "Q10: Represent graphically the Open Rate by taking into consideration the Age, Type and Gender"
   ]
  },
  {
   "cell_type": "markdown",
   "metadata": {},
   "source": [
    "Two boxplots of Avg.Open Rate vs Type and vs Gender."
   ]
  },
  {
   "cell_type": "code",
   "execution_count": 17,
   "metadata": {
    "collapsed": false
   },
   "outputs": [
    {
     "data": {
      "text/plain": [
       "<matplotlib.axes._subplots.AxesSubplot at 0x1d938360780>"
      ]
     },
     "execution_count": 17,
     "metadata": {},
     "output_type": "execute_result"
    },
    {
     "data": {
      "image/png": "[encoded data removed]",
      "text/plain": [
       "<matplotlib.figure.Figure at 0x1d93831ac50>"
      ]
     },
     "metadata": {},
     "output_type": "display_data"
    }
   ],
   "source": [
    "open_rate = merged_df[['Type','Gender','Valid_Response',]].groupby(['Type','Gender'],as_index = False).sum()\n",
    "open_rate['Average Open Rate (%)'] = (open_rate['Valid_Response']/len(merged_df))*100\n",
    "open_rate = open_rate.drop('Valid_Response', axis =1)\n",
    "\n",
    "\n",
    "sns.boxplot(open_rate.Gender,open_rate['Average Open Rate (%)'])"
   ]
  },
  {
   "cell_type": "markdown",
   "metadata": {},
   "source": [
    "The median value for the female customers is lower than the median for male customers. It seems that men tend to respond a little more than women."
   ]
  },
  {
   "cell_type": "code",
   "execution_count": 18,
   "metadata": {
    "collapsed": false
   },
   "outputs": [
    {
     "data": {
      "text/plain": [
       "<matplotlib.axes._subplots.AxesSubplot at 0x1d936b926d8>"
      ]
     },
     "execution_count": 18,
     "metadata": {},
     "output_type": "execute_result"
    },
    {
     "data": {
      "image/png": "[encoded data removed]",
      "text/plain": [
       "<matplotlib.figure.Figure at 0x1d9383818d0>"
      ]
     },
     "metadata": {},
     "output_type": "display_data"
    }
   ],
   "source": [
    "sns.boxplot(open_rate.Type,open_rate['Average Open Rate (%)'])"
   ]
  },
  {
   "cell_type": "markdown",
   "metadata": {},
   "source": [
    "Business customers respond way lower than consumers. "
   ]
  },
  {
   "cell_type": "code",
   "execution_count": 22,
   "metadata": {
    "collapsed": false
   },
   "outputs": [
    {
     "data": {
      "text/plain": [
       "<matplotlib.axes._subplots.AxesSubplot at 0x1d936aeba58>"
      ]
     },
     "execution_count": 22,
     "metadata": {},
     "output_type": "execute_result"
    },
    {
     "data": {
      "image/png": "[encoded data removed]",
      "text/plain": [
       "<matplotlib.figure.Figure at 0x1d936a74978>"
      ]
     },
     "metadata": {},
     "output_type": "display_data"
    }
   ],
   "source": [
    "age_open_rate = merged_df[['Age','Valid_Response',]].groupby(['Age'],as_index = False).sum()\n",
    "age_open_rate['Average Open Rate (%)'] = (age_open_rate['Valid_Response']/len(merged_df))*100\n",
    "age_open_rate = age_open_rate.drop('Valid_Response', axis =1)\n",
    "\n",
    "sns.barplot(age_open_rate.Age,age_open_rate['Average Open Rate (%)'])"
   ]
  },
  {
   "cell_type": "markdown",
   "metadata": {},
   "source": [
    "It's clear that the open rate is higher for the ages that are the most common ones to our user base. Ages 26 to 36 tend to respond a little above 1%, while the highest open rate is for customers aged 30 years old with about 1.38% opening rate."
   ]
  }
 ],
 "metadata": {
  "anaconda-cloud": {},
  "kernelspec": {
   "display_name": "Python [Root]",
   "language": "python",
   "name": "Python [Root]"
  },
  "language_info": {
   "codemirror_mode": {
    "name": "ipython",
    "version": 3
   },
   "file_extension": ".py",
   "mimetype": "text/x-python",
   "name": "python",
   "nbconvert_exporter": "python",
   "pygments_lexer": "ipython3",
   "version": "3.5.2"
  }
 },
 "nbformat": 4,
 "nbformat_minor": 0
}
