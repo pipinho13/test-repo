{
 "cells": [
  {
   "cell_type": "markdown",
   "metadata": {},
   "source": [
    "# Sales Lead Project"
   ]
  },
  {
   "cell_type": "markdown",
   "metadata": {},
   "source": [
    "## Description\n",
    "The project is to score leads for a vendor that sells to municipal governments.  We have a dataset with every city & town in the US with demographic information from the Census Bureau (ACS 2012) with demographic information covering age, income, educational attainment, ethnicity, etc., along with flags indicating whether that \"Place\" (city or town) is currently or ever was a customer of the company.\n",
    "\n",
    "The goal is to use this data to build a model to score sales leads to guide sales & marketing efforts.\n",
    "\n",
    "Dataset is available [here](https://s3.amazonaws.com/shared.xuku.com/4A0F5019074F4B2A3F5E/place_stats.csv.zip).\n",
    "Description of fields is [here](https://gist.github.com/neilberkman/87beba095cd3b412797a4167d552e5dd).\n",
    "\n",
    "We define as **dependent variable**:\n",
    "* `was_ever_customer`: 1 if this Place was ever an active customer of the product, else 0  \n",
    "\n",
    "since we're looking for new customers who will purchase the product."
   ]
  },
  {
   "cell_type": "markdown",
   "metadata": {},
   "source": [
    "## Load and Describe the Data"
   ]
  },
  {
   "cell_type": "code",
   "execution_count": 262,
   "metadata": {
    "collapsed": true
   },
   "outputs": [],
   "source": [
    "import pandas as pd\n",
    "import numpy as np"
   ]
  },
  {
   "cell_type": "code",
   "execution_count": 263,
   "metadata": {},
   "outputs": [],
   "source": [
    "# We use encoding \"latin-1\" because we get an error for some non UTF8 Characters in name field\n",
    "df=pd.read_csv(\"place_stats.csv\", sep=\",\", encoding=\"latin-1\")\n"
   ]
  },
  {
   "cell_type": "code",
   "execution_count": 264,
   "metadata": {
    "scrolled": true
   },
   "outputs": [
    {
     "data": {
      "text/html": [
       "<div>\n",
       "<style>\n",
       "    .dataframe thead tr:only-child th {\n",
       "        text-align: right;\n",
       "    }\n",
       "\n",
       "    .dataframe thead th {\n",
       "        text-align: left;\n",
       "    }\n",
       "\n",
       "    .dataframe tbody tr th {\n",
       "        vertical-align: top;\n",
       "    }\n",
       "</style>\n",
       "<table border=\"1\" class=\"dataframe\">\n",
       "  <thead>\n",
       "    <tr style=\"text-align: right;\">\n",
       "      <th></th>\n",
       "      <th>census_id</th>\n",
       "      <th>name</th>\n",
       "      <th>county</th>\n",
       "      <th>state</th>\n",
       "      <th>type</th>\n",
       "      <th>age</th>\n",
       "      <th>age_18_to_19_female</th>\n",
       "      <th>age_18_to_19_male</th>\n",
       "      <th>age_20_female</th>\n",
       "      <th>age_20_male</th>\n",
       "      <th>...</th>\n",
       "      <th>pct_doctorate</th>\n",
       "      <th>pct_poverty</th>\n",
       "      <th>pct_employed</th>\n",
       "      <th>pct_unemployed</th>\n",
       "      <th>pct_armed_forces</th>\n",
       "      <th>pct_civilian_labor_force</th>\n",
       "      <th>pct_asian_alone</th>\n",
       "      <th>pct_black_alone</th>\n",
       "      <th>pct_hispanic_origin</th>\n",
       "      <th>pct_white_alone</th>\n",
       "    </tr>\n",
       "  </thead>\n",
       "  <tbody>\n",
       "    <tr>\n",
       "      <th>0</th>\n",
       "      <td>100124</td>\n",
       "      <td>Abbeville</td>\n",
       "      <td>NaN</td>\n",
       "      <td>AL</td>\n",
       "      <td>city</td>\n",
       "      <td>46.6</td>\n",
       "      <td>35</td>\n",
       "      <td>11</td>\n",
       "      <td>0</td>\n",
       "      <td>7</td>\n",
       "      <td>...</td>\n",
       "      <td>0.002</td>\n",
       "      <td>0.205</td>\n",
       "      <td>0.314</td>\n",
       "      <td>0.071</td>\n",
       "      <td>0.000</td>\n",
       "      <td>0.385</td>\n",
       "      <td>0.102</td>\n",
       "      <td>0.434</td>\n",
       "      <td>0.035</td>\n",
       "      <td>0.446</td>\n",
       "    </tr>\n",
       "    <tr>\n",
       "      <th>1</th>\n",
       "      <td>100460</td>\n",
       "      <td>Adamsville</td>\n",
       "      <td>NaN</td>\n",
       "      <td>AL</td>\n",
       "      <td>city</td>\n",
       "      <td>36.2</td>\n",
       "      <td>67</td>\n",
       "      <td>84</td>\n",
       "      <td>0</td>\n",
       "      <td>89</td>\n",
       "      <td>...</td>\n",
       "      <td>0.000</td>\n",
       "      <td>0.189</td>\n",
       "      <td>0.473</td>\n",
       "      <td>0.060</td>\n",
       "      <td>0.000</td>\n",
       "      <td>0.533</td>\n",
       "      <td>0.010</td>\n",
       "      <td>0.403</td>\n",
       "      <td>0.105</td>\n",
       "      <td>0.487</td>\n",
       "    </tr>\n",
       "    <tr>\n",
       "      <th>2</th>\n",
       "      <td>100484</td>\n",
       "      <td>Addison</td>\n",
       "      <td>NaN</td>\n",
       "      <td>AL</td>\n",
       "      <td>town</td>\n",
       "      <td>42.4</td>\n",
       "      <td>20</td>\n",
       "      <td>0</td>\n",
       "      <td>0</td>\n",
       "      <td>0</td>\n",
       "      <td>...</td>\n",
       "      <td>0.000</td>\n",
       "      <td>0.243</td>\n",
       "      <td>0.356</td>\n",
       "      <td>0.117</td>\n",
       "      <td>0.000</td>\n",
       "      <td>0.473</td>\n",
       "      <td>0.000</td>\n",
       "      <td>0.000</td>\n",
       "      <td>0.000</td>\n",
       "      <td>0.984</td>\n",
       "    </tr>\n",
       "    <tr>\n",
       "      <th>3</th>\n",
       "      <td>100676</td>\n",
       "      <td>Akron</td>\n",
       "      <td>NaN</td>\n",
       "      <td>AL</td>\n",
       "      <td>town</td>\n",
       "      <td>50.8</td>\n",
       "      <td>10</td>\n",
       "      <td>0</td>\n",
       "      <td>0</td>\n",
       "      <td>3</td>\n",
       "      <td>...</td>\n",
       "      <td>0.000</td>\n",
       "      <td>0.209</td>\n",
       "      <td>0.285</td>\n",
       "      <td>0.051</td>\n",
       "      <td>0.000</td>\n",
       "      <td>0.336</td>\n",
       "      <td>0.000</td>\n",
       "      <td>0.791</td>\n",
       "      <td>0.000</td>\n",
       "      <td>0.209</td>\n",
       "    </tr>\n",
       "    <tr>\n",
       "      <th>4</th>\n",
       "      <td>100820</td>\n",
       "      <td>Alabaster</td>\n",
       "      <td>NaN</td>\n",
       "      <td>AL</td>\n",
       "      <td>city</td>\n",
       "      <td>36.1</td>\n",
       "      <td>270</td>\n",
       "      <td>401</td>\n",
       "      <td>148</td>\n",
       "      <td>112</td>\n",
       "      <td>...</td>\n",
       "      <td>0.006</td>\n",
       "      <td>0.080</td>\n",
       "      <td>0.517</td>\n",
       "      <td>0.033</td>\n",
       "      <td>0.001</td>\n",
       "      <td>0.550</td>\n",
       "      <td>0.007</td>\n",
       "      <td>0.150</td>\n",
       "      <td>0.101</td>\n",
       "      <td>0.759</td>\n",
       "    </tr>\n",
       "  </tbody>\n",
       "</table>\n",
       "<p>5 rows × 49 columns</p>\n",
       "</div>"
      ],
      "text/plain": [
       "   census_id        name county state  type   age  age_18_to_19_female  \\\n",
       "0     100124   Abbeville    NaN    AL  city  46.6                   35   \n",
       "1     100460  Adamsville    NaN    AL  city  36.2                   67   \n",
       "2     100484     Addison    NaN    AL  town  42.4                   20   \n",
       "3     100676       Akron    NaN    AL  town  50.8                   10   \n",
       "4     100820   Alabaster    NaN    AL  city  36.1                  270   \n",
       "\n",
       "   age_18_to_19_male  age_20_female  age_20_male       ...         \\\n",
       "0                 11              0            7       ...          \n",
       "1                 84              0           89       ...          \n",
       "2                  0              0            0       ...          \n",
       "3                  0              0            3       ...          \n",
       "4                401            148          112       ...          \n",
       "\n",
       "   pct_doctorate  pct_poverty  pct_employed  pct_unemployed  pct_armed_forces  \\\n",
       "0          0.002        0.205         0.314           0.071             0.000   \n",
       "1          0.000        0.189         0.473           0.060             0.000   \n",
       "2          0.000        0.243         0.356           0.117             0.000   \n",
       "3          0.000        0.209         0.285           0.051             0.000   \n",
       "4          0.006        0.080         0.517           0.033             0.001   \n",
       "\n",
       "   pct_civilian_labor_force  pct_asian_alone  pct_black_alone  \\\n",
       "0                     0.385            0.102            0.434   \n",
       "1                     0.533            0.010            0.403   \n",
       "2                     0.473            0.000            0.000   \n",
       "3                     0.336            0.000            0.791   \n",
       "4                     0.550            0.007            0.150   \n",
       "\n",
       "   pct_hispanic_origin  pct_white_alone  \n",
       "0                0.035            0.446  \n",
       "1                0.105            0.487  \n",
       "2                0.000            0.984  \n",
       "3                0.000            0.209  \n",
       "4                0.101            0.759  \n",
       "\n",
       "[5 rows x 49 columns]"
      ]
     },
     "execution_count": 264,
     "metadata": {},
     "output_type": "execute_result"
    }
   ],
   "source": [
    "# Get the first rows of the data frame\n",
    "df.head()"
   ]
  },
  {
   "cell_type": "code",
   "execution_count": 265,
   "metadata": {
    "scrolled": true
   },
   "outputs": [
    {
     "data": {
      "text/html": [
       "<div>\n",
       "<style>\n",
       "    .dataframe thead tr:only-child th {\n",
       "        text-align: right;\n",
       "    }\n",
       "\n",
       "    .dataframe thead th {\n",
       "        text-align: left;\n",
       "    }\n",
       "\n",
       "    .dataframe tbody tr th {\n",
       "        vertical-align: top;\n",
       "    }\n",
       "</style>\n",
       "<table border=\"1\" class=\"dataframe\">\n",
       "  <thead>\n",
       "    <tr style=\"text-align: right;\">\n",
       "      <th></th>\n",
       "      <th>census_id</th>\n",
       "      <th>age</th>\n",
       "      <th>age_18_to_19_female</th>\n",
       "      <th>age_18_to_19_male</th>\n",
       "      <th>age_20_female</th>\n",
       "      <th>age_20_male</th>\n",
       "      <th>age_21_female</th>\n",
       "      <th>age_21_male</th>\n",
       "      <th>education_bachelors</th>\n",
       "      <th>education_doctorate</th>\n",
       "      <th>...</th>\n",
       "      <th>pct_doctorate</th>\n",
       "      <th>pct_poverty</th>\n",
       "      <th>pct_employed</th>\n",
       "      <th>pct_unemployed</th>\n",
       "      <th>pct_armed_forces</th>\n",
       "      <th>pct_civilian_labor_force</th>\n",
       "      <th>pct_asian_alone</th>\n",
       "      <th>pct_black_alone</th>\n",
       "      <th>pct_hispanic_origin</th>\n",
       "      <th>pct_white_alone</th>\n",
       "    </tr>\n",
       "  </thead>\n",
       "  <tbody>\n",
       "    <tr>\n",
       "      <th>count</th>\n",
       "      <td>1.967100e+04</td>\n",
       "      <td>19671.000000</td>\n",
       "      <td>19671.000000</td>\n",
       "      <td>19671.000000</td>\n",
       "      <td>19671.000000</td>\n",
       "      <td>19671.000000</td>\n",
       "      <td>19671.000000</td>\n",
       "      <td>19671.000000</td>\n",
       "      <td>1.967100e+04</td>\n",
       "      <td>19671.000000</td>\n",
       "      <td>...</td>\n",
       "      <td>19671.000000</td>\n",
       "      <td>19671.000000</td>\n",
       "      <td>19671.000000</td>\n",
       "      <td>19671.000000</td>\n",
       "      <td>19671.000000</td>\n",
       "      <td>19671.000000</td>\n",
       "      <td>19671.000000</td>\n",
       "      <td>19671.000000</td>\n",
       "      <td>19671.000000</td>\n",
       "      <td>19671.000000</td>\n",
       "    </tr>\n",
       "    <tr>\n",
       "      <th>mean</th>\n",
       "      <td>3.062673e+06</td>\n",
       "      <td>39.918103</td>\n",
       "      <td>151.865487</td>\n",
       "      <td>154.316659</td>\n",
       "      <td>81.327640</td>\n",
       "      <td>82.120024</td>\n",
       "      <td>78.751004</td>\n",
       "      <td>80.479081</td>\n",
       "      <td>1.170512e+03</td>\n",
       "      <td>80.765187</td>\n",
       "      <td>...</td>\n",
       "      <td>0.004431</td>\n",
       "      <td>0.162569</td>\n",
       "      <td>0.438554</td>\n",
       "      <td>0.043166</td>\n",
       "      <td>0.001484</td>\n",
       "      <td>0.481718</td>\n",
       "      <td>0.012669</td>\n",
       "      <td>0.076516</td>\n",
       "      <td>0.087288</td>\n",
       "      <td>0.852625</td>\n",
       "    </tr>\n",
       "    <tr>\n",
       "      <th>std</th>\n",
       "      <td>1.527684e+06</td>\n",
       "      <td>7.857833</td>\n",
       "      <td>1159.492665</td>\n",
       "      <td>1168.332981</td>\n",
       "      <td>647.961372</td>\n",
       "      <td>657.450741</td>\n",
       "      <td>641.809946</td>\n",
       "      <td>638.401154</td>\n",
       "      <td>1.067657e+04</td>\n",
       "      <td>770.310404</td>\n",
       "      <td>...</td>\n",
       "      <td>0.009607</td>\n",
       "      <td>0.114606</td>\n",
       "      <td>0.091822</td>\n",
       "      <td>0.029499</td>\n",
       "      <td>0.009029</td>\n",
       "      <td>0.087705</td>\n",
       "      <td>0.036151</td>\n",
       "      <td>0.167044</td>\n",
       "      <td>0.174032</td>\n",
       "      <td>0.197101</td>\n",
       "    </tr>\n",
       "    <tr>\n",
       "      <th>min</th>\n",
       "      <td>1.001240e+05</td>\n",
       "      <td>8.000000</td>\n",
       "      <td>0.000000</td>\n",
       "      <td>0.000000</td>\n",
       "      <td>0.000000</td>\n",
       "      <td>0.000000</td>\n",
       "      <td>0.000000</td>\n",
       "      <td>0.000000</td>\n",
       "      <td>0.000000e+00</td>\n",
       "      <td>0.000000</td>\n",
       "      <td>...</td>\n",
       "      <td>0.000000</td>\n",
       "      <td>0.000000</td>\n",
       "      <td>0.000000</td>\n",
       "      <td>0.000000</td>\n",
       "      <td>0.000000</td>\n",
       "      <td>0.000000</td>\n",
       "      <td>0.000000</td>\n",
       "      <td>0.000000</td>\n",
       "      <td>0.000000</td>\n",
       "      <td>0.000000</td>\n",
       "    </tr>\n",
       "    <tr>\n",
       "      <th>25%</th>\n",
       "      <td>1.868769e+06</td>\n",
       "      <td>34.700000</td>\n",
       "      <td>2.000000</td>\n",
       "      <td>3.000000</td>\n",
       "      <td>0.000000</td>\n",
       "      <td>0.000000</td>\n",
       "      <td>0.000000</td>\n",
       "      <td>0.000000</td>\n",
       "      <td>2.000000e+01</td>\n",
       "      <td>0.000000</td>\n",
       "      <td>...</td>\n",
       "      <td>0.000000</td>\n",
       "      <td>0.080000</td>\n",
       "      <td>0.385000</td>\n",
       "      <td>0.024000</td>\n",
       "      <td>0.000000</td>\n",
       "      <td>0.431000</td>\n",
       "      <td>0.000000</td>\n",
       "      <td>0.000000</td>\n",
       "      <td>0.004000</td>\n",
       "      <td>0.812000</td>\n",
       "    </tr>\n",
       "    <tr>\n",
       "      <th>50%</th>\n",
       "      <td>2.952076e+06</td>\n",
       "      <td>39.300000</td>\n",
       "      <td>12.000000</td>\n",
       "      <td>14.000000</td>\n",
       "      <td>4.000000</td>\n",
       "      <td>5.000000</td>\n",
       "      <td>4.000000</td>\n",
       "      <td>5.000000</td>\n",
       "      <td>8.300000e+01</td>\n",
       "      <td>0.000000</td>\n",
       "      <td>...</td>\n",
       "      <td>0.000000</td>\n",
       "      <td>0.141000</td>\n",
       "      <td>0.444000</td>\n",
       "      <td>0.039000</td>\n",
       "      <td>0.000000</td>\n",
       "      <td>0.487000</td>\n",
       "      <td>0.000000</td>\n",
       "      <td>0.007000</td>\n",
       "      <td>0.025000</td>\n",
       "      <td>0.934000</td>\n",
       "    </tr>\n",
       "    <tr>\n",
       "      <th>75%</th>\n",
       "      <td>4.216992e+06</td>\n",
       "      <td>44.400000</td>\n",
       "      <td>54.000000</td>\n",
       "      <td>60.000000</td>\n",
       "      <td>27.000000</td>\n",
       "      <td>28.000000</td>\n",
       "      <td>26.000000</td>\n",
       "      <td>28.000000</td>\n",
       "      <td>4.150000e+02</td>\n",
       "      <td>17.000000</td>\n",
       "      <td>...</td>\n",
       "      <td>0.005000</td>\n",
       "      <td>0.219000</td>\n",
       "      <td>0.497000</td>\n",
       "      <td>0.057000</td>\n",
       "      <td>0.000000</td>\n",
       "      <td>0.537000</td>\n",
       "      <td>0.011000</td>\n",
       "      <td>0.054000</td>\n",
       "      <td>0.077000</td>\n",
       "      <td>0.977000</td>\n",
       "    </tr>\n",
       "    <tr>\n",
       "      <th>max</th>\n",
       "      <td>7.288121e+06</td>\n",
       "      <td>85.300000</td>\n",
       "      <td>108366.000000</td>\n",
       "      <td>110086.000000</td>\n",
       "      <td>61782.000000</td>\n",
       "      <td>63680.000000</td>\n",
       "      <td>60389.000000</td>\n",
       "      <td>59743.000000</td>\n",
       "      <td>1.117962e+06</td>\n",
       "      <td>74267.000000</td>\n",
       "      <td>...</td>\n",
       "      <td>0.302000</td>\n",
       "      <td>0.927000</td>\n",
       "      <td>1.000000</td>\n",
       "      <td>0.440000</td>\n",
       "      <td>0.390000</td>\n",
       "      <td>1.000000</td>\n",
       "      <td>0.652000</td>\n",
       "      <td>1.000000</td>\n",
       "      <td>1.000000</td>\n",
       "      <td>1.000000</td>\n",
       "    </tr>\n",
       "  </tbody>\n",
       "</table>\n",
       "<p>8 rows × 45 columns</p>\n",
       "</div>"
      ],
      "text/plain": [
       "          census_id           age  age_18_to_19_female  age_18_to_19_male  \\\n",
       "count  1.967100e+04  19671.000000         19671.000000       19671.000000   \n",
       "mean   3.062673e+06     39.918103           151.865487         154.316659   \n",
       "std    1.527684e+06      7.857833          1159.492665        1168.332981   \n",
       "min    1.001240e+05      8.000000             0.000000           0.000000   \n",
       "25%    1.868769e+06     34.700000             2.000000           3.000000   \n",
       "50%    2.952076e+06     39.300000            12.000000          14.000000   \n",
       "75%    4.216992e+06     44.400000            54.000000          60.000000   \n",
       "max    7.288121e+06     85.300000        108366.000000      110086.000000   \n",
       "\n",
       "       age_20_female   age_20_male  age_21_female   age_21_male  \\\n",
       "count   19671.000000  19671.000000   19671.000000  19671.000000   \n",
       "mean       81.327640     82.120024      78.751004     80.479081   \n",
       "std       647.961372    657.450741     641.809946    638.401154   \n",
       "min         0.000000      0.000000       0.000000      0.000000   \n",
       "25%         0.000000      0.000000       0.000000      0.000000   \n",
       "50%         4.000000      5.000000       4.000000      5.000000   \n",
       "75%        27.000000     28.000000      26.000000     28.000000   \n",
       "max     61782.000000  63680.000000   60389.000000  59743.000000   \n",
       "\n",
       "       education_bachelors  education_doctorate       ...         \\\n",
       "count         1.967100e+04         19671.000000       ...          \n",
       "mean          1.170512e+03            80.765187       ...          \n",
       "std           1.067657e+04           770.310404       ...          \n",
       "min           0.000000e+00             0.000000       ...          \n",
       "25%           2.000000e+01             0.000000       ...          \n",
       "50%           8.300000e+01             0.000000       ...          \n",
       "75%           4.150000e+02            17.000000       ...          \n",
       "max           1.117962e+06         74267.000000       ...          \n",
       "\n",
       "       pct_doctorate   pct_poverty  pct_employed  pct_unemployed  \\\n",
       "count   19671.000000  19671.000000  19671.000000    19671.000000   \n",
       "mean        0.004431      0.162569      0.438554        0.043166   \n",
       "std         0.009607      0.114606      0.091822        0.029499   \n",
       "min         0.000000      0.000000      0.000000        0.000000   \n",
       "25%         0.000000      0.080000      0.385000        0.024000   \n",
       "50%         0.000000      0.141000      0.444000        0.039000   \n",
       "75%         0.005000      0.219000      0.497000        0.057000   \n",
       "max         0.302000      0.927000      1.000000        0.440000   \n",
       "\n",
       "       pct_armed_forces  pct_civilian_labor_force  pct_asian_alone  \\\n",
       "count      19671.000000              19671.000000     19671.000000   \n",
       "mean           0.001484                  0.481718         0.012669   \n",
       "std            0.009029                  0.087705         0.036151   \n",
       "min            0.000000                  0.000000         0.000000   \n",
       "25%            0.000000                  0.431000         0.000000   \n",
       "50%            0.000000                  0.487000         0.000000   \n",
       "75%            0.000000                  0.537000         0.011000   \n",
       "max            0.390000                  1.000000         0.652000   \n",
       "\n",
       "       pct_black_alone  pct_hispanic_origin  pct_white_alone  \n",
       "count     19671.000000         19671.000000     19671.000000  \n",
       "mean          0.076516             0.087288         0.852625  \n",
       "std           0.167044             0.174032         0.197101  \n",
       "min           0.000000             0.000000         0.000000  \n",
       "25%           0.000000             0.004000         0.812000  \n",
       "50%           0.007000             0.025000         0.934000  \n",
       "75%           0.054000             0.077000         0.977000  \n",
       "max           1.000000             1.000000         1.000000  \n",
       "\n",
       "[8 rows x 45 columns]"
      ]
     },
     "execution_count": 265,
     "metadata": {},
     "output_type": "execute_result"
    }
   ],
   "source": [
    "# Get a summary description of the dataset\n",
    "df.describe()"
   ]
  },
  {
   "cell_type": "code",
   "execution_count": 266,
   "metadata": {},
   "outputs": [
    {
     "data": {
      "text/plain": [
       "Index(['census_id', 'name', 'county', 'state', 'type', 'age',\n",
       "       'age_18_to_19_female', 'age_18_to_19_male', 'age_20_female',\n",
       "       'age_20_male', 'age_21_female', 'age_21_male', 'education_bachelors',\n",
       "       'education_doctorate', 'education_high_school', 'education_masters',\n",
       "       'employment_armed_forces', 'employment_civilian_labor_force',\n",
       "       'employment_employed', 'employment_labor_force',\n",
       "       'employment_unemployed', 'income', 'income_per_capita',\n",
       "       'median_home_value', 'median_house_construction_year', 'population',\n",
       "       'population_asian_alone', 'population_black_alone',\n",
       "       'population_hispanic_origin', 'population_white_alone', 'poverty',\n",
       "       'missing_data', 'active_customer', 'was_ever_customer', 'age_18_to_21',\n",
       "       'pct_18_to_21', 'pct_high_school', 'pct_bachelors', 'pct_masters',\n",
       "       'pct_doctorate', 'pct_poverty', 'pct_employed', 'pct_unemployed',\n",
       "       'pct_armed_forces', 'pct_civilian_labor_force', 'pct_asian_alone',\n",
       "       'pct_black_alone', 'pct_hispanic_origin', 'pct_white_alone'],\n",
       "      dtype='object')"
      ]
     },
     "execution_count": 266,
     "metadata": {},
     "output_type": "execute_result"
    }
   ],
   "source": [
    "# Get the column names of the dataset\n",
    "df.columns"
   ]
  },
  {
   "cell_type": "code",
   "execution_count": 267,
   "metadata": {},
   "outputs": [
    {
     "name": "stdout",
     "output_type": "stream",
     "text": [
      "The dataset consists of 19671 rows and 49 columns\n"
     ]
    }
   ],
   "source": [
    "print(\"The dataset consists of {} rows and {} columns\".format(df.shape[0], df.shape[1]))"
   ]
  },
  {
   "cell_type": "markdown",
   "metadata": {},
   "source": [
    "For convenience we represent the description of the available fields of the dataset:\n",
    "\n",
    "The fields are \n",
    "\n",
    "* `census_id`: 7 character code comprised of 2 character FIPS state code + 5 character FIPS place code\n",
    "* `name`: Name of the Place\n",
    "* `county`: County of the Place, if provided (only present when needed to disambiguate 2 Places with the same name within a given state)\n",
    "* `state`: US postal code of state containing the Place\n",
    "* `type`: Type of the place (valid values provided above: city, town, etc.)\n",
    "* `age`: Median age.\n",
    "* `age_18_to_19_female`: The number of female persons ages 18 to 19 years old.\n",
    "* `age_18_to_19_male`: The number of male persons ages 18 to 19 years old.\n",
    "* `age_20_female`: The number of female persons age 20 years old\n",
    "* `age_20_male`: The number of male persons age 20 years old\n",
    "* `age_21_female`: The number of female persons age 21 years old\n",
    "* `age_21_male`: The number of male persons age 21 years old\n",
    "* `education_bachelors`: The number of persons age 25 and over who hold a Bachelor's degree.\n",
    "* `education_doctorate`: The number of persons age 25 and over who hold a Doctoral degree.\n",
    "* `education_high_school`: The number of persons age 25 and over who have a regular high school diploma.\n",
    "* `education_masters`: The number of persons age 25 and over who hold a Master's degree.\n",
    "* `employment_armed_forces`: Number of persons, age 16 or older, in the Armed Forces.\n",
    "* `employment_civilian_labor_force`: Number of persons, age 16 or older, in the civilian labor force.\n",
    "* `employment_employed`: Number of employed, age 16 or older, in the civilian labor force.\n",
    "* `employment_labor_force`: Number of persons, age 16 or older, in the labor force.\n",
    "* `employment_unemployed`: Number of unemployed, age 16 or older, in the civilian labor force.\n",
    "* `income`: Median household income in the past 12 months (in 2013 inflation-adjusted dollars).\n",
    "* `income_per_capita`: Per capita income in the past 12 months (in 2013 inflation-adjusted dollars).\n",
    "* `median_home_value`: Median value (dollars) for Owner-Occupied housing units.\n",
    "* `median_house_construction_year`: Median year housing units were built.\n",
    "* `population`: Total population.\n",
    "* `population_asian_alone`: Population (Asian Alone).\n",
    "* `population_black_alone`: Population (Black or African American Alone).\n",
    "* `population_hispanic_origin`: Population (Hispanic Origin).\n",
    "* `population_white_alone`: Population (White Alone).\n",
    "* `poverty`: Number of persons whose income in the past 12 months is below the poverty level.\n",
    "* `missing_data`: 1 if any of the previous fields was supplied as a nil value from ACS.  These values have been translated to -1 in this dataset.\n",
    "* `active_customer`: 1 if this Place is currently an active customer of the product\n",
    "* `was_ever_customer`: 1 if this Place was ever an active customer of the product\n",
    "* `age_18_to_21`: Total population ages 18 to 21 (college age, approximately) derived by summing the appropriate fields above.\n",
    "* `pct_18_to_21`: `age_18_to_21 / population` (proxy for college-age, high values may indicate a \"college town\")\n",
    "* `pct_high_school`: `education_high_school / population`\n",
    "* `pct_bachelors`: `education_bachelors / population`\n",
    "* `pct_masters`: `education_masters / population`\n",
    "* `pct_doctorate`: `education_doctorate / population`\n",
    "* `pct_poverty`: `poverty / population`\n",
    "* `pct_employed`: `employment_employed / population`\n",
    "* `pct_unemployed`: `employment_unemployed / population`\n",
    "* `pct_armed_forces`: `employment_armed_forces / population`\n",
    "* `pct_civilian_labor_force`: `employment_civilian_labor_force / population`\n",
    "* `pct_asian_alone`: `population_asian_alone / population`\n",
    "* `pct_black_alone`: `population_black_alone / population`\n",
    "* `pct_hispanic_origin`: `population_hispanic_origin / population`\n",
    "* `pct_white_alone`: `population_white_alone / population`"
   ]
  },
  {
   "cell_type": "markdown",
   "metadata": {},
   "source": [
    "## Removing the Irrelevant Variables"
   ]
  },
  {
   "cell_type": "markdown",
   "metadata": {},
   "source": [
    "For modelling perspective some variables cannot be used or cannot give us any extra information. Let's have a look at them "
   ]
  },
  {
   "cell_type": "markdown",
   "metadata": {},
   "source": [
    "`census_id`: This is the id of the census and will assign a probability to be a customer\n",
    "\n",
    "`name`: Clearly this variable should be removed because we cannot set it as valiabe in the model  \n",
    "\n",
    "`county`: The 99.82% of the field 'county' is missing, so there is no reason to try to impose values for the missing fields \n",
    "\n",
    "`active_customer`: Since the analysis will be done by considering as dependent variable the `was_ever_customer`, the `active_customer` should be removed.  \n",
    "\n",
    "`missing_data`: This field has zero variance which since all values are 0, i.e. it is constant which means that does not give us any information and for that reason we removed it from the model.\n",
    "\n",
    "Also we are going to remove the following fields because we do not care about the absolute but about the relative values. Since we have had already the **pct** values we do not need them anymore\n",
    "`age_18_to_21`\n",
    "\n",
    "`education_high_school`\n",
    "\n",
    "`education_bachelors`\n",
    "\n",
    "`education_masters`\n",
    "\n",
    "`education_doctorate`\n",
    "\n",
    "`poverty`\n",
    "\n",
    "`employment_employed`\n",
    "\n",
    "`employment_unemployed`\n",
    "\n",
    "`employment_armed_forces`\n",
    "\n",
    "`employment_civilian_labor_force`\n",
    "\n",
    "`population_asian_alone`\n",
    "\n",
    "`population_black_alone`\n",
    "\n",
    "`population_hispanic_origin`\n",
    "\n",
    "`population_white_alone`\n",
    "\n",
    "The python code below shows how we can calculate the Zero Variance fields and the Null Values\n"
   ]
  },
  {
   "cell_type": "code",
   "execution_count": 268,
   "metadata": {},
   "outputs": [
    {
     "data": {
      "text/plain": [
       "\"The 99.82% of the field 'county' is missing\""
      ]
     },
     "execution_count": 268,
     "metadata": {},
     "output_type": "execute_result"
    }
   ],
   "source": [
    "\"The {:.2%} of the field 'county' is missing\".format(df[\"county\"].isnull().sum()/len(df[\"county\"]))"
   ]
  },
  {
   "cell_type": "markdown",
   "metadata": {},
   "source": [
    "Remove the fields of **Zero Variance**"
   ]
  },
  {
   "cell_type": "code",
   "execution_count": 269,
   "metadata": {},
   "outputs": [],
   "source": [
    "zero_variance=pd.DataFrame(df.var()==0)"
   ]
  },
  {
   "cell_type": "code",
   "execution_count": 270,
   "metadata": {},
   "outputs": [
    {
     "data": {
      "text/plain": [
       "['missing_data']"
      ]
     },
     "execution_count": 270,
     "metadata": {},
     "output_type": "execute_result"
    }
   ],
   "source": [
    "list(zero_variance.loc[zero_variance[0]].index)"
   ]
  },
  {
   "cell_type": "markdown",
   "metadata": {},
   "source": [
    "## Transform Some Variables"
   ]
  },
  {
   "cell_type": "markdown",
   "metadata": {},
   "source": [
    "The field `type` has 7 unique values but the number of cases for some them is quite rare. For that reason we would merge some of those. As we can see from the table below the dataset containts only 4 observations of type **municipality** and 78 of type **urbana**. Also from the table we can see the Mean and the Standard Deviation of the total population of those types. So we can create two types with the following values:\n",
    "\n",
    "* `Type_A`: {city, municipality, urbana}  \n",
    "* `Type_B`: {borough, town, village,comunidad}\n",
    "\n",
    "The new column is labelled as `NewType`"
   ]
  },
  {
   "cell_type": "code",
   "execution_count": 271,
   "metadata": {},
   "outputs": [
    {
     "data": {
      "text/html": [
       "<div>\n",
       "<style>\n",
       "    .dataframe thead tr:only-child th {\n",
       "        text-align: right;\n",
       "    }\n",
       "\n",
       "    .dataframe thead th {\n",
       "        text-align: left;\n",
       "    }\n",
       "\n",
       "    .dataframe tbody tr th {\n",
       "        vertical-align: top;\n",
       "    }\n",
       "</style>\n",
       "<table border=\"1\" class=\"dataframe\">\n",
       "  <thead>\n",
       "    <tr>\n",
       "      <th></th>\n",
       "      <th>type</th>\n",
       "      <th colspan=\"2\" halign=\"left\">population</th>\n",
       "    </tr>\n",
       "    <tr>\n",
       "      <th></th>\n",
       "      <th>count</th>\n",
       "      <th>mean</th>\n",
       "      <th>std</th>\n",
       "    </tr>\n",
       "    <tr>\n",
       "      <th>type</th>\n",
       "      <th></th>\n",
       "      <th></th>\n",
       "      <th></th>\n",
       "    </tr>\n",
       "  </thead>\n",
       "  <tbody>\n",
       "    <tr>\n",
       "      <th>borough</th>\n",
       "      <td>1213</td>\n",
       "      <td>3558.0</td>\n",
       "      <td>4793.0</td>\n",
       "    </tr>\n",
       "    <tr>\n",
       "      <th>city</th>\n",
       "      <td>10130</td>\n",
       "      <td>16639.0</td>\n",
       "      <td>110166.0</td>\n",
       "    </tr>\n",
       "    <tr>\n",
       "      <th>comunidad</th>\n",
       "      <td>173</td>\n",
       "      <td>2317.0</td>\n",
       "      <td>2820.0</td>\n",
       "    </tr>\n",
       "    <tr>\n",
       "      <th>municipality</th>\n",
       "      <td>4</td>\n",
       "      <td>93038.0</td>\n",
       "      <td>132386.0</td>\n",
       "    </tr>\n",
       "    <tr>\n",
       "      <th>town</th>\n",
       "      <td>4318</td>\n",
       "      <td>1911.0</td>\n",
       "      <td>6317.0</td>\n",
       "    </tr>\n",
       "    <tr>\n",
       "      <th>urbana</th>\n",
       "      <td>78</td>\n",
       "      <td>22380.0</td>\n",
       "      <td>52765.0</td>\n",
       "    </tr>\n",
       "    <tr>\n",
       "      <th>village</th>\n",
       "      <td>3755</td>\n",
       "      <td>2341.0</td>\n",
       "      <td>5839.0</td>\n",
       "    </tr>\n",
       "  </tbody>\n",
       "</table>\n",
       "</div>"
      ],
      "text/plain": [
       "               type population          \n",
       "              count       mean       std\n",
       "type                                    \n",
       "borough        1213     3558.0    4793.0\n",
       "city          10130    16639.0  110166.0\n",
       "comunidad       173     2317.0    2820.0\n",
       "municipality      4    93038.0  132386.0\n",
       "town           4318     1911.0    6317.0\n",
       "urbana           78    22380.0   52765.0\n",
       "village        3755     2341.0    5839.0"
      ]
     },
     "execution_count": 271,
     "metadata": {},
     "output_type": "execute_result"
    }
   ],
   "source": [
    "df.groupby('type').agg({'type':'count',  'population':['mean','std']}).round()"
   ]
  },
  {
   "cell_type": "code",
   "execution_count": 272,
   "metadata": {
    "collapsed": true
   },
   "outputs": [],
   "source": [
    "d={'city':'Type_A', 'municipality':'Type_A', 'urbana':'Type_A',\n",
    "   'borough':'Type_B', 'town':'Type_B', 'village':'Type_B','comunidad':'Type_B'}"
   ]
  },
  {
   "cell_type": "code",
   "execution_count": 273,
   "metadata": {},
   "outputs": [],
   "source": [
    "df['NewType']=df['type'].map(d)"
   ]
  },
  {
   "cell_type": "code",
   "execution_count": 274,
   "metadata": {},
   "outputs": [
    {
     "data": {
      "text/html": [
       "<div>\n",
       "<style>\n",
       "    .dataframe thead tr:only-child th {\n",
       "        text-align: right;\n",
       "    }\n",
       "\n",
       "    .dataframe thead th {\n",
       "        text-align: left;\n",
       "    }\n",
       "\n",
       "    .dataframe tbody tr th {\n",
       "        vertical-align: top;\n",
       "    }\n",
       "</style>\n",
       "<table border=\"1\" class=\"dataframe\">\n",
       "  <thead>\n",
       "    <tr>\n",
       "      <th></th>\n",
       "      <th>NewType</th>\n",
       "      <th colspan=\"2\" halign=\"left\">population</th>\n",
       "    </tr>\n",
       "    <tr>\n",
       "      <th></th>\n",
       "      <th>count</th>\n",
       "      <th>mean</th>\n",
       "      <th>std</th>\n",
       "    </tr>\n",
       "    <tr>\n",
       "      <th>NewType</th>\n",
       "      <th></th>\n",
       "      <th></th>\n",
       "      <th></th>\n",
       "    </tr>\n",
       "  </thead>\n",
       "  <tbody>\n",
       "    <tr>\n",
       "      <th>Type_A</th>\n",
       "      <td>10212</td>\n",
       "      <td>16713.0</td>\n",
       "      <td>109854.0</td>\n",
       "    </tr>\n",
       "    <tr>\n",
       "      <th>Type_B</th>\n",
       "      <td>9459</td>\n",
       "      <td>2300.0</td>\n",
       "      <td>5925.0</td>\n",
       "    </tr>\n",
       "  </tbody>\n",
       "</table>\n",
       "</div>"
      ],
      "text/plain": [
       "        NewType population          \n",
       "          count       mean       std\n",
       "NewType                             \n",
       "Type_A    10212    16713.0  109854.0\n",
       "Type_B     9459     2300.0    5925.0"
      ]
     },
     "execution_count": 274,
     "metadata": {},
     "output_type": "execute_result"
    }
   ],
   "source": [
    "df.groupby('NewType').agg({'NewType':'count',  'population':['mean','std']}).round()"
   ]
  },
  {
   "cell_type": "markdown",
   "metadata": {},
   "source": [
    "The field `state` has many 51 unique values. Clearly we cannot keep it as is in the model. On thing that we can do is to transform it to regions. We noticed that amongst US States there was the Puerto Rico where we labelled it as SE. "
   ]
  },
  {
   "cell_type": "code",
   "execution_count": 275,
   "metadata": {},
   "outputs": [
    {
     "data": {
      "text/plain": [
       "51"
      ]
     },
     "execution_count": 275,
     "metadata": {},
     "output_type": "execute_result"
    }
   ],
   "source": [
    "len(set(df['state']))"
   ]
  },
  {
   "cell_type": "code",
   "execution_count": 276,
   "metadata": {},
   "outputs": [
    {
     "data": {
      "text/html": [
       "<div>\n",
       "<style>\n",
       "    .dataframe thead tr:only-child th {\n",
       "        text-align: right;\n",
       "    }\n",
       "\n",
       "    .dataframe thead th {\n",
       "        text-align: left;\n",
       "    }\n",
       "\n",
       "    .dataframe tbody tr th {\n",
       "        vertical-align: top;\n",
       "    }\n",
       "</style>\n",
       "<table border=\"1\" class=\"dataframe\">\n",
       "  <thead>\n",
       "    <tr style=\"text-align: right;\">\n",
       "      <th></th>\n",
       "      <th>state</th>\n",
       "    </tr>\n",
       "    <tr>\n",
       "      <th>state</th>\n",
       "      <th></th>\n",
       "    </tr>\n",
       "  </thead>\n",
       "  <tbody>\n",
       "    <tr>\n",
       "      <th>AK</th>\n",
       "      <td>147</td>\n",
       "    </tr>\n",
       "    <tr>\n",
       "      <th>AL</th>\n",
       "      <td>461</td>\n",
       "    </tr>\n",
       "    <tr>\n",
       "      <th>AR</th>\n",
       "      <td>500</td>\n",
       "    </tr>\n",
       "    <tr>\n",
       "      <th>AZ</th>\n",
       "      <td>90</td>\n",
       "    </tr>\n",
       "    <tr>\n",
       "      <th>CA</th>\n",
       "      <td>481</td>\n",
       "    </tr>\n",
       "    <tr>\n",
       "      <th>CO</th>\n",
       "      <td>268</td>\n",
       "    </tr>\n",
       "    <tr>\n",
       "      <th>CT</th>\n",
       "      <td>29</td>\n",
       "    </tr>\n",
       "    <tr>\n",
       "      <th>DC</th>\n",
       "      <td>1</td>\n",
       "    </tr>\n",
       "    <tr>\n",
       "      <th>DE</th>\n",
       "      <td>57</td>\n",
       "    </tr>\n",
       "    <tr>\n",
       "      <th>FL</th>\n",
       "      <td>407</td>\n",
       "    </tr>\n",
       "    <tr>\n",
       "      <th>GA</th>\n",
       "      <td>527</td>\n",
       "    </tr>\n",
       "    <tr>\n",
       "      <th>IA</th>\n",
       "      <td>945</td>\n",
       "    </tr>\n",
       "    <tr>\n",
       "      <th>ID</th>\n",
       "      <td>199</td>\n",
       "    </tr>\n",
       "    <tr>\n",
       "      <th>IL</th>\n",
       "      <td>1294</td>\n",
       "    </tr>\n",
       "    <tr>\n",
       "      <th>IN</th>\n",
       "      <td>566</td>\n",
       "    </tr>\n",
       "    <tr>\n",
       "      <th>KS</th>\n",
       "      <td>623</td>\n",
       "    </tr>\n",
       "    <tr>\n",
       "      <th>KY</th>\n",
       "      <td>411</td>\n",
       "    </tr>\n",
       "    <tr>\n",
       "      <th>LA</th>\n",
       "      <td>304</td>\n",
       "    </tr>\n",
       "    <tr>\n",
       "      <th>MA</th>\n",
       "      <td>53</td>\n",
       "    </tr>\n",
       "    <tr>\n",
       "      <th>MD</th>\n",
       "      <td>157</td>\n",
       "    </tr>\n",
       "    <tr>\n",
       "      <th>ME</th>\n",
       "      <td>22</td>\n",
       "    </tr>\n",
       "    <tr>\n",
       "      <th>MI</th>\n",
       "      <td>533</td>\n",
       "    </tr>\n",
       "    <tr>\n",
       "      <th>MN</th>\n",
       "      <td>852</td>\n",
       "    </tr>\n",
       "    <tr>\n",
       "      <th>MO</th>\n",
       "      <td>940</td>\n",
       "    </tr>\n",
       "    <tr>\n",
       "      <th>MS</th>\n",
       "      <td>298</td>\n",
       "    </tr>\n",
       "    <tr>\n",
       "      <th>MT</th>\n",
       "      <td>127</td>\n",
       "    </tr>\n",
       "    <tr>\n",
       "      <th>NC</th>\n",
       "      <td>551</td>\n",
       "    </tr>\n",
       "    <tr>\n",
       "      <th>ND</th>\n",
       "      <td>349</td>\n",
       "    </tr>\n",
       "    <tr>\n",
       "      <th>NE</th>\n",
       "      <td>526</td>\n",
       "    </tr>\n",
       "    <tr>\n",
       "      <th>NH</th>\n",
       "      <td>13</td>\n",
       "    </tr>\n",
       "    <tr>\n",
       "      <th>NJ</th>\n",
       "      <td>320</td>\n",
       "    </tr>\n",
       "    <tr>\n",
       "      <th>NM</th>\n",
       "      <td>102</td>\n",
       "    </tr>\n",
       "    <tr>\n",
       "      <th>NV</th>\n",
       "      <td>19</td>\n",
       "    </tr>\n",
       "    <tr>\n",
       "      <th>NY</th>\n",
       "      <td>616</td>\n",
       "    </tr>\n",
       "    <tr>\n",
       "      <th>OH</th>\n",
       "      <td>937</td>\n",
       "    </tr>\n",
       "    <tr>\n",
       "      <th>OK</th>\n",
       "      <td>588</td>\n",
       "    </tr>\n",
       "    <tr>\n",
       "      <th>OR</th>\n",
       "      <td>241</td>\n",
       "    </tr>\n",
       "    <tr>\n",
       "      <th>PA</th>\n",
       "      <td>1011</td>\n",
       "    </tr>\n",
       "    <tr>\n",
       "      <th>PR</th>\n",
       "      <td>251</td>\n",
       "    </tr>\n",
       "    <tr>\n",
       "      <th>RI</th>\n",
       "      <td>8</td>\n",
       "    </tr>\n",
       "    <tr>\n",
       "      <th>SC</th>\n",
       "      <td>269</td>\n",
       "    </tr>\n",
       "    <tr>\n",
       "      <th>SD</th>\n",
       "      <td>303</td>\n",
       "    </tr>\n",
       "    <tr>\n",
       "      <th>TN</th>\n",
       "      <td>342</td>\n",
       "    </tr>\n",
       "    <tr>\n",
       "      <th>TX</th>\n",
       "      <td>1210</td>\n",
       "    </tr>\n",
       "    <tr>\n",
       "      <th>UT</th>\n",
       "      <td>244</td>\n",
       "    </tr>\n",
       "    <tr>\n",
       "      <th>VA</th>\n",
       "      <td>229</td>\n",
       "    </tr>\n",
       "    <tr>\n",
       "      <th>VT</th>\n",
       "      <td>45</td>\n",
       "    </tr>\n",
       "    <tr>\n",
       "      <th>WA</th>\n",
       "      <td>281</td>\n",
       "    </tr>\n",
       "    <tr>\n",
       "      <th>WI</th>\n",
       "      <td>596</td>\n",
       "    </tr>\n",
       "    <tr>\n",
       "      <th>WV</th>\n",
       "      <td>230</td>\n",
       "    </tr>\n",
       "    <tr>\n",
       "      <th>WY</th>\n",
       "      <td>98</td>\n",
       "    </tr>\n",
       "  </tbody>\n",
       "</table>\n",
       "</div>"
      ],
      "text/plain": [
       "       state\n",
       "state       \n",
       "AK       147\n",
       "AL       461\n",
       "AR       500\n",
       "AZ        90\n",
       "CA       481\n",
       "CO       268\n",
       "CT        29\n",
       "DC         1\n",
       "DE        57\n",
       "FL       407\n",
       "GA       527\n",
       "IA       945\n",
       "ID       199\n",
       "IL      1294\n",
       "IN       566\n",
       "KS       623\n",
       "KY       411\n",
       "LA       304\n",
       "MA        53\n",
       "MD       157\n",
       "ME        22\n",
       "MI       533\n",
       "MN       852\n",
       "MO       940\n",
       "MS       298\n",
       "MT       127\n",
       "NC       551\n",
       "ND       349\n",
       "NE       526\n",
       "NH        13\n",
       "NJ       320\n",
       "NM       102\n",
       "NV        19\n",
       "NY       616\n",
       "OH       937\n",
       "OK       588\n",
       "OR       241\n",
       "PA      1011\n",
       "PR       251\n",
       "RI         8\n",
       "SC       269\n",
       "SD       303\n",
       "TN       342\n",
       "TX      1210\n",
       "UT       244\n",
       "VA       229\n",
       "VT        45\n",
       "WA       281\n",
       "WI       596\n",
       "WV       230\n",
       "WY        98"
      ]
     },
     "execution_count": 276,
     "metadata": {},
     "output_type": "execute_result"
    }
   ],
   "source": [
    "df.groupby('state').agg({'state':'count'})"
   ]
  },
  {
   "cell_type": "code",
   "execution_count": 277,
   "metadata": {
    "collapsed": true
   },
   "outputs": [],
   "source": [
    "d= {'AK':'W',\n",
    "'AL':'SE',\n",
    "'AR':'SE',\n",
    "'AZ':'SW',\n",
    "'CA':'W',\n",
    "'CO':'W',\n",
    "'CT':'NE',\n",
    "'DC':'NE',\n",
    "'DE':'NE',\n",
    "'FL':'SE',\n",
    "'GA':'SE',\n",
    "'HI':'W',\n",
    "'IA':'MW',\n",
    "'ID':'W',\n",
    "'IL':'MW',\n",
    "'IN':'MW',\n",
    "'KS':'MW',\n",
    "'KY':'SE',\n",
    "'LA':'SE',\n",
    "'MA':'NE',\n",
    "'MD':'NE',\n",
    "'ME':'NE',\n",
    "'MI':'MW',\n",
    "'MN':'MW',\n",
    "'MO':'MW',\n",
    "'MS':'SE',\n",
    "'MT':'W',\n",
    "'NC':'SE',\n",
    "'ND':'MW',\n",
    "'NE':'MW',\n",
    "'NH':'NE',\n",
    "'NJ':'NE',\n",
    "'NM':'SW',\n",
    "'NV':'W',\n",
    "'NY':'NE',\n",
    "'OH':'MW',\n",
    "'OK':'SW',\n",
    "'OR':'W',\n",
    "'PA':'NE',\n",
    "'RI':'NE',\n",
    "'SC':'SE',\n",
    "'SD':'MW',\n",
    "'TN':'SE',\n",
    "'TX':'SW',\n",
    "'UT':'W',\n",
    "'VA':'SE',\n",
    "'VT':'NE',\n",
    "'WA':'W',\n",
    "'WI':'MW',\n",
    "'WV':'SE',\n",
    "'WY':'W',\n",
    "'PR':'SE'   \n",
    "}"
   ]
  },
  {
   "cell_type": "code",
   "execution_count": 278,
   "metadata": {},
   "outputs": [],
   "source": [
    "df['region']=df['state'].map(d)"
   ]
  },
  {
   "cell_type": "code",
   "execution_count": 279,
   "metadata": {},
   "outputs": [
    {
     "data": {
      "text/html": [
       "<div>\n",
       "<style>\n",
       "    .dataframe thead tr:only-child th {\n",
       "        text-align: right;\n",
       "    }\n",
       "\n",
       "    .dataframe thead th {\n",
       "        text-align: left;\n",
       "    }\n",
       "\n",
       "    .dataframe tbody tr th {\n",
       "        vertical-align: top;\n",
       "    }\n",
       "</style>\n",
       "<table border=\"1\" class=\"dataframe\">\n",
       "  <thead>\n",
       "    <tr style=\"text-align: right;\">\n",
       "      <th></th>\n",
       "      <th>region</th>\n",
       "    </tr>\n",
       "  </thead>\n",
       "  <tbody>\n",
       "    <tr>\n",
       "      <th>MW</th>\n",
       "      <td>8464</td>\n",
       "    </tr>\n",
       "    <tr>\n",
       "      <th>SE</th>\n",
       "      <td>4780</td>\n",
       "    </tr>\n",
       "    <tr>\n",
       "      <th>NE</th>\n",
       "      <td>2332</td>\n",
       "    </tr>\n",
       "    <tr>\n",
       "      <th>W</th>\n",
       "      <td>2105</td>\n",
       "    </tr>\n",
       "    <tr>\n",
       "      <th>SW</th>\n",
       "      <td>1990</td>\n",
       "    </tr>\n",
       "  </tbody>\n",
       "</table>\n",
       "</div>"
      ],
      "text/plain": [
       "    region\n",
       "MW    8464\n",
       "SE    4780\n",
       "NE    2332\n",
       "W     2105\n",
       "SW    1990"
      ]
     },
     "execution_count": 279,
     "metadata": {},
     "output_type": "execute_result"
    }
   ],
   "source": [
    "pd.DataFrame(df.region.value_counts())"
   ]
  },
  {
   "cell_type": "code",
   "execution_count": 280,
   "metadata": {},
   "outputs": [
    {
     "data": {
      "text/plain": [
       "0"
      ]
     },
     "execution_count": 280,
     "metadata": {},
     "output_type": "execute_result"
    }
   ],
   "source": [
    "sum(df.region.isnull())"
   ]
  },
  {
   "cell_type": "markdown",
   "metadata": {},
   "source": [
    "The following fields should be transformed to relevant values, i.e. by dividing them by the `population`\n",
    "\n",
    "So the fileds:\n",
    "\n",
    "* `age_18_to_19_female`\n",
    "* `age_18_to_19_male`\n",
    "* `age_20_female`\n",
    "* `age_20_male`\n",
    "* `age_21_female`\n",
    "* `age_21_male`\n",
    "\n",
    "will be transformed to:\n",
    "\n",
    "* `pct_age_18_to_19_female`\n",
    "* `pct_age_18_to_19_male`\n",
    "* `pct_age_20_female`\n",
    "* `pct_age_20_male`\n",
    "* `pct_age_21_female`\n",
    "* `pct_age_21_male`"
   ]
  },
  {
   "cell_type": "code",
   "execution_count": 281,
   "metadata": {
    "collapsed": true
   },
   "outputs": [],
   "source": [
    "df['pct_age_18_to_19_female']=df['age_18_to_19_female']/df['population']\n",
    "df['pct_age_18_to_19_male']=df['age_18_to_19_male']/df['population']\n",
    "df['pct_age_20_female']=df['age_20_female']/df['population']\n",
    "df['pct_age_20_male']=df['age_20_male']/df['population']\n",
    "df['pct_age_21_female']=df['age_21_female']/df['population']\n",
    "df['pct_age_21_male']=df['age_21_male']/df['population']"
   ]
  },
  {
   "cell_type": "markdown",
   "metadata": {},
   "source": [
    "### Columns which will be removed\n",
    "The columns that will be removed finally are the:"
   ]
  },
  {
   "cell_type": "code",
   "execution_count": 282,
   "metadata": {
    "collapsed": true
   },
   "outputs": [],
   "source": [
    "removed_col=['name', 'county','state','type',\n",
    "             'age_18_to_19_female','age_18_to_19_male',\n",
    "             'age_20_female','age_20_male','age_21_female', \n",
    "             'age_21_male','education_bachelors','education_doctorate', 'education_high_school','education_masters',\n",
    "             'employment_armed_forces', 'employment_civilian_labor_force', 'employment_employed', \n",
    "             'employment_labor_force', 'employment_unemployed', 'population_asian_alone', 'population_black_alone',\n",
    "             'population_hispanic_origin', 'population_white_alone', 'poverty', 'missing_data', 'active_customer','age_18_to_21'\n",
    "            ]"
   ]
  },
  {
   "cell_type": "code",
   "execution_count": 283,
   "metadata": {
    "collapsed": true
   },
   "outputs": [],
   "source": [
    "reduced_df=df.copy()"
   ]
  },
  {
   "cell_type": "code",
   "execution_count": 284,
   "metadata": {
    "collapsed": true
   },
   "outputs": [],
   "source": [
    "reduced_df.drop(removed_col, axis=1, inplace=True)"
   ]
  },
  {
   "cell_type": "code",
   "execution_count": 285,
   "metadata": {},
   "outputs": [
    {
     "data": {
      "text/plain": [
       "(19671, 30)"
      ]
     },
     "execution_count": 285,
     "metadata": {},
     "output_type": "execute_result"
    }
   ],
   "source": [
    "reduced_df.shape"
   ]
  },
  {
   "cell_type": "code",
   "execution_count": 286,
   "metadata": {},
   "outputs": [
    {
     "data": {
      "text/plain": [
       "(19671, 57)"
      ]
     },
     "execution_count": 286,
     "metadata": {},
     "output_type": "execute_result"
    }
   ],
   "source": [
    "df.shape"
   ]
  },
  {
   "cell_type": "code",
   "execution_count": 287,
   "metadata": {},
   "outputs": [
    {
     "data": {
      "text/html": [
       "<div>\n",
       "<style>\n",
       "    .dataframe thead tr:only-child th {\n",
       "        text-align: right;\n",
       "    }\n",
       "\n",
       "    .dataframe thead th {\n",
       "        text-align: left;\n",
       "    }\n",
       "\n",
       "    .dataframe tbody tr th {\n",
       "        vertical-align: top;\n",
       "    }\n",
       "</style>\n",
       "<table border=\"1\" class=\"dataframe\">\n",
       "  <thead>\n",
       "    <tr style=\"text-align: right;\">\n",
       "      <th></th>\n",
       "      <th>census_id</th>\n",
       "      <th>age</th>\n",
       "      <th>income</th>\n",
       "      <th>income_per_capita</th>\n",
       "      <th>median_home_value</th>\n",
       "      <th>median_house_construction_year</th>\n",
       "      <th>population</th>\n",
       "      <th>was_ever_customer</th>\n",
       "      <th>pct_18_to_21</th>\n",
       "      <th>pct_high_school</th>\n",
       "      <th>...</th>\n",
       "      <th>pct_hispanic_origin</th>\n",
       "      <th>pct_white_alone</th>\n",
       "      <th>NewType</th>\n",
       "      <th>region</th>\n",
       "      <th>pct_age_18_to_19_female</th>\n",
       "      <th>pct_age_18_to_19_male</th>\n",
       "      <th>pct_age_20_female</th>\n",
       "      <th>pct_age_20_male</th>\n",
       "      <th>pct_age_21_female</th>\n",
       "      <th>pct_age_21_male</th>\n",
       "    </tr>\n",
       "  </thead>\n",
       "  <tbody>\n",
       "    <tr>\n",
       "      <th>0</th>\n",
       "      <td>100124</td>\n",
       "      <td>46.6</td>\n",
       "      <td>26538</td>\n",
       "      <td>17310</td>\n",
       "      <td>87800</td>\n",
       "      <td>1972</td>\n",
       "      <td>2699</td>\n",
       "      <td>0</td>\n",
       "      <td>0.049</td>\n",
       "      <td>0.144</td>\n",
       "      <td>...</td>\n",
       "      <td>0.035</td>\n",
       "      <td>0.446</td>\n",
       "      <td>Type_A</td>\n",
       "      <td>SE</td>\n",
       "      <td>0.012968</td>\n",
       "      <td>0.004076</td>\n",
       "      <td>0.000000</td>\n",
       "      <td>0.002594</td>\n",
       "      <td>0.000000</td>\n",
       "      <td>0.029270</td>\n",
       "    </tr>\n",
       "    <tr>\n",
       "      <th>1</th>\n",
       "      <td>100460</td>\n",
       "      <td>36.2</td>\n",
       "      <td>43766</td>\n",
       "      <td>21197</td>\n",
       "      <td>97300</td>\n",
       "      <td>1973</td>\n",
       "      <td>4537</td>\n",
       "      <td>0</td>\n",
       "      <td>0.083</td>\n",
       "      <td>0.235</td>\n",
       "      <td>...</td>\n",
       "      <td>0.105</td>\n",
       "      <td>0.487</td>\n",
       "      <td>Type_A</td>\n",
       "      <td>SE</td>\n",
       "      <td>0.014767</td>\n",
       "      <td>0.018514</td>\n",
       "      <td>0.000000</td>\n",
       "      <td>0.019616</td>\n",
       "      <td>0.006833</td>\n",
       "      <td>0.023143</td>\n",
       "    </tr>\n",
       "    <tr>\n",
       "      <th>2</th>\n",
       "      <td>100484</td>\n",
       "      <td>42.4</td>\n",
       "      <td>39750</td>\n",
       "      <td>17279</td>\n",
       "      <td>110600</td>\n",
       "      <td>1972</td>\n",
       "      <td>826</td>\n",
       "      <td>0</td>\n",
       "      <td>0.024</td>\n",
       "      <td>0.207</td>\n",
       "      <td>...</td>\n",
       "      <td>0.000</td>\n",
       "      <td>0.984</td>\n",
       "      <td>Type_B</td>\n",
       "      <td>SE</td>\n",
       "      <td>0.024213</td>\n",
       "      <td>0.000000</td>\n",
       "      <td>0.000000</td>\n",
       "      <td>0.000000</td>\n",
       "      <td>0.000000</td>\n",
       "      <td>0.000000</td>\n",
       "    </tr>\n",
       "    <tr>\n",
       "      <th>3</th>\n",
       "      <td>100676</td>\n",
       "      <td>50.8</td>\n",
       "      <td>24485</td>\n",
       "      <td>13843</td>\n",
       "      <td>61700</td>\n",
       "      <td>1973</td>\n",
       "      <td>369</td>\n",
       "      <td>0</td>\n",
       "      <td>0.035</td>\n",
       "      <td>0.214</td>\n",
       "      <td>...</td>\n",
       "      <td>0.000</td>\n",
       "      <td>0.209</td>\n",
       "      <td>Type_B</td>\n",
       "      <td>SE</td>\n",
       "      <td>0.027100</td>\n",
       "      <td>0.000000</td>\n",
       "      <td>0.000000</td>\n",
       "      <td>0.008130</td>\n",
       "      <td>0.000000</td>\n",
       "      <td>0.000000</td>\n",
       "    </tr>\n",
       "    <tr>\n",
       "      <th>4</th>\n",
       "      <td>100820</td>\n",
       "      <td>36.1</td>\n",
       "      <td>71250</td>\n",
       "      <td>28272</td>\n",
       "      <td>164000</td>\n",
       "      <td>1992</td>\n",
       "      <td>30372</td>\n",
       "      <td>0</td>\n",
       "      <td>0.039</td>\n",
       "      <td>0.139</td>\n",
       "      <td>...</td>\n",
       "      <td>0.101</td>\n",
       "      <td>0.759</td>\n",
       "      <td>Type_A</td>\n",
       "      <td>SE</td>\n",
       "      <td>0.008890</td>\n",
       "      <td>0.013203</td>\n",
       "      <td>0.004873</td>\n",
       "      <td>0.003688</td>\n",
       "      <td>0.003819</td>\n",
       "      <td>0.004972</td>\n",
       "    </tr>\n",
       "  </tbody>\n",
       "</table>\n",
       "<p>5 rows × 30 columns</p>\n",
       "</div>"
      ],
      "text/plain": [
       "   census_id   age  income  income_per_capita  median_home_value  \\\n",
       "0     100124  46.6   26538              17310              87800   \n",
       "1     100460  36.2   43766              21197              97300   \n",
       "2     100484  42.4   39750              17279             110600   \n",
       "3     100676  50.8   24485              13843              61700   \n",
       "4     100820  36.1   71250              28272             164000   \n",
       "\n",
       "   median_house_construction_year  population  was_ever_customer  \\\n",
       "0                            1972        2699                  0   \n",
       "1                            1973        4537                  0   \n",
       "2                            1972         826                  0   \n",
       "3                            1973         369                  0   \n",
       "4                            1992       30372                  0   \n",
       "\n",
       "   pct_18_to_21  pct_high_school       ...         pct_hispanic_origin  \\\n",
       "0         0.049            0.144       ...                       0.035   \n",
       "1         0.083            0.235       ...                       0.105   \n",
       "2         0.024            0.207       ...                       0.000   \n",
       "3         0.035            0.214       ...                       0.000   \n",
       "4         0.039            0.139       ...                       0.101   \n",
       "\n",
       "   pct_white_alone  NewType  region  pct_age_18_to_19_female  \\\n",
       "0            0.446   Type_A      SE                 0.012968   \n",
       "1            0.487   Type_A      SE                 0.014767   \n",
       "2            0.984   Type_B      SE                 0.024213   \n",
       "3            0.209   Type_B      SE                 0.027100   \n",
       "4            0.759   Type_A      SE                 0.008890   \n",
       "\n",
       "   pct_age_18_to_19_male  pct_age_20_female  pct_age_20_male  \\\n",
       "0               0.004076           0.000000         0.002594   \n",
       "1               0.018514           0.000000         0.019616   \n",
       "2               0.000000           0.000000         0.000000   \n",
       "3               0.000000           0.000000         0.008130   \n",
       "4               0.013203           0.004873         0.003688   \n",
       "\n",
       "   pct_age_21_female  pct_age_21_male  \n",
       "0           0.000000         0.029270  \n",
       "1           0.006833         0.023143  \n",
       "2           0.000000         0.000000  \n",
       "3           0.000000         0.000000  \n",
       "4           0.003819         0.004972  \n",
       "\n",
       "[5 rows x 30 columns]"
      ]
     },
     "execution_count": 287,
     "metadata": {},
     "output_type": "execute_result"
    }
   ],
   "source": [
    "reduced_df.head()"
   ]
  },
  {
   "cell_type": "code",
   "execution_count": 288,
   "metadata": {},
   "outputs": [
    {
     "data": {
      "text/html": [
       "<div>\n",
       "<style>\n",
       "    .dataframe thead tr:only-child th {\n",
       "        text-align: right;\n",
       "    }\n",
       "\n",
       "    .dataframe thead th {\n",
       "        text-align: left;\n",
       "    }\n",
       "\n",
       "    .dataframe tbody tr th {\n",
       "        vertical-align: top;\n",
       "    }\n",
       "</style>\n",
       "<table border=\"1\" class=\"dataframe\">\n",
       "  <thead>\n",
       "    <tr style=\"text-align: right;\">\n",
       "      <th></th>\n",
       "      <th>census_id</th>\n",
       "      <th>name</th>\n",
       "      <th>county</th>\n",
       "      <th>state</th>\n",
       "      <th>type</th>\n",
       "      <th>age</th>\n",
       "      <th>age_18_to_19_female</th>\n",
       "      <th>age_18_to_19_male</th>\n",
       "      <th>age_20_female</th>\n",
       "      <th>age_20_male</th>\n",
       "      <th>...</th>\n",
       "      <th>pct_hispanic_origin</th>\n",
       "      <th>pct_white_alone</th>\n",
       "      <th>NewType</th>\n",
       "      <th>region</th>\n",
       "      <th>pct_age_18_to_19_female</th>\n",
       "      <th>pct_age_18_to_19_male</th>\n",
       "      <th>pct_age_20_female</th>\n",
       "      <th>pct_age_20_male</th>\n",
       "      <th>pct_age_21_female</th>\n",
       "      <th>pct_age_21_male</th>\n",
       "    </tr>\n",
       "  </thead>\n",
       "  <tbody>\n",
       "    <tr>\n",
       "      <th>0</th>\n",
       "      <td>100124</td>\n",
       "      <td>Abbeville</td>\n",
       "      <td>NaN</td>\n",
       "      <td>AL</td>\n",
       "      <td>city</td>\n",
       "      <td>46.6</td>\n",
       "      <td>35</td>\n",
       "      <td>11</td>\n",
       "      <td>0</td>\n",
       "      <td>7</td>\n",
       "      <td>...</td>\n",
       "      <td>0.035</td>\n",
       "      <td>0.446</td>\n",
       "      <td>Type_A</td>\n",
       "      <td>SE</td>\n",
       "      <td>0.012968</td>\n",
       "      <td>0.004076</td>\n",
       "      <td>0.000000</td>\n",
       "      <td>0.002594</td>\n",
       "      <td>0.000000</td>\n",
       "      <td>0.029270</td>\n",
       "    </tr>\n",
       "    <tr>\n",
       "      <th>1</th>\n",
       "      <td>100460</td>\n",
       "      <td>Adamsville</td>\n",
       "      <td>NaN</td>\n",
       "      <td>AL</td>\n",
       "      <td>city</td>\n",
       "      <td>36.2</td>\n",
       "      <td>67</td>\n",
       "      <td>84</td>\n",
       "      <td>0</td>\n",
       "      <td>89</td>\n",
       "      <td>...</td>\n",
       "      <td>0.105</td>\n",
       "      <td>0.487</td>\n",
       "      <td>Type_A</td>\n",
       "      <td>SE</td>\n",
       "      <td>0.014767</td>\n",
       "      <td>0.018514</td>\n",
       "      <td>0.000000</td>\n",
       "      <td>0.019616</td>\n",
       "      <td>0.006833</td>\n",
       "      <td>0.023143</td>\n",
       "    </tr>\n",
       "    <tr>\n",
       "      <th>2</th>\n",
       "      <td>100484</td>\n",
       "      <td>Addison</td>\n",
       "      <td>NaN</td>\n",
       "      <td>AL</td>\n",
       "      <td>town</td>\n",
       "      <td>42.4</td>\n",
       "      <td>20</td>\n",
       "      <td>0</td>\n",
       "      <td>0</td>\n",
       "      <td>0</td>\n",
       "      <td>...</td>\n",
       "      <td>0.000</td>\n",
       "      <td>0.984</td>\n",
       "      <td>Type_B</td>\n",
       "      <td>SE</td>\n",
       "      <td>0.024213</td>\n",
       "      <td>0.000000</td>\n",
       "      <td>0.000000</td>\n",
       "      <td>0.000000</td>\n",
       "      <td>0.000000</td>\n",
       "      <td>0.000000</td>\n",
       "    </tr>\n",
       "    <tr>\n",
       "      <th>3</th>\n",
       "      <td>100676</td>\n",
       "      <td>Akron</td>\n",
       "      <td>NaN</td>\n",
       "      <td>AL</td>\n",
       "      <td>town</td>\n",
       "      <td>50.8</td>\n",
       "      <td>10</td>\n",
       "      <td>0</td>\n",
       "      <td>0</td>\n",
       "      <td>3</td>\n",
       "      <td>...</td>\n",
       "      <td>0.000</td>\n",
       "      <td>0.209</td>\n",
       "      <td>Type_B</td>\n",
       "      <td>SE</td>\n",
       "      <td>0.027100</td>\n",
       "      <td>0.000000</td>\n",
       "      <td>0.000000</td>\n",
       "      <td>0.008130</td>\n",
       "      <td>0.000000</td>\n",
       "      <td>0.000000</td>\n",
       "    </tr>\n",
       "    <tr>\n",
       "      <th>4</th>\n",
       "      <td>100820</td>\n",
       "      <td>Alabaster</td>\n",
       "      <td>NaN</td>\n",
       "      <td>AL</td>\n",
       "      <td>city</td>\n",
       "      <td>36.1</td>\n",
       "      <td>270</td>\n",
       "      <td>401</td>\n",
       "      <td>148</td>\n",
       "      <td>112</td>\n",
       "      <td>...</td>\n",
       "      <td>0.101</td>\n",
       "      <td>0.759</td>\n",
       "      <td>Type_A</td>\n",
       "      <td>SE</td>\n",
       "      <td>0.008890</td>\n",
       "      <td>0.013203</td>\n",
       "      <td>0.004873</td>\n",
       "      <td>0.003688</td>\n",
       "      <td>0.003819</td>\n",
       "      <td>0.004972</td>\n",
       "    </tr>\n",
       "  </tbody>\n",
       "</table>\n",
       "<p>5 rows × 57 columns</p>\n",
       "</div>"
      ],
      "text/plain": [
       "   census_id        name county state  type   age  age_18_to_19_female  \\\n",
       "0     100124   Abbeville    NaN    AL  city  46.6                   35   \n",
       "1     100460  Adamsville    NaN    AL  city  36.2                   67   \n",
       "2     100484     Addison    NaN    AL  town  42.4                   20   \n",
       "3     100676       Akron    NaN    AL  town  50.8                   10   \n",
       "4     100820   Alabaster    NaN    AL  city  36.1                  270   \n",
       "\n",
       "   age_18_to_19_male  age_20_female  age_20_male       ...         \\\n",
       "0                 11              0            7       ...          \n",
       "1                 84              0           89       ...          \n",
       "2                  0              0            0       ...          \n",
       "3                  0              0            3       ...          \n",
       "4                401            148          112       ...          \n",
       "\n",
       "   pct_hispanic_origin  pct_white_alone  NewType  region  \\\n",
       "0                0.035            0.446   Type_A      SE   \n",
       "1                0.105            0.487   Type_A      SE   \n",
       "2                0.000            0.984   Type_B      SE   \n",
       "3                0.000            0.209   Type_B      SE   \n",
       "4                0.101            0.759   Type_A      SE   \n",
       "\n",
       "   pct_age_18_to_19_female  pct_age_18_to_19_male  pct_age_20_female  \\\n",
       "0                 0.012968               0.004076           0.000000   \n",
       "1                 0.014767               0.018514           0.000000   \n",
       "2                 0.024213               0.000000           0.000000   \n",
       "3                 0.027100               0.000000           0.000000   \n",
       "4                 0.008890               0.013203           0.004873   \n",
       "\n",
       "   pct_age_20_male  pct_age_21_female  pct_age_21_male  \n",
       "0         0.002594           0.000000         0.029270  \n",
       "1         0.019616           0.006833         0.023143  \n",
       "2         0.000000           0.000000         0.000000  \n",
       "3         0.008130           0.000000         0.000000  \n",
       "4         0.003688           0.003819         0.004972  \n",
       "\n",
       "[5 rows x 57 columns]"
      ]
     },
     "execution_count": 288,
     "metadata": {},
     "output_type": "execute_result"
    }
   ],
   "source": [
    "df.head()"
   ]
  },
  {
   "cell_type": "markdown",
   "metadata": {},
   "source": [
    "Looking more carefully at the data we will see that the number of \"age_18_to_19_female\", \"age_18_to_19_male\" etc is very low and for that reason we could merge those columns by taking the sum, in order to get the:\n",
    "\n",
    "* `pct_age_18_to_21_female`\n",
    "* `pct_age_18_to_21_male`"
   ]
  },
  {
   "cell_type": "code",
   "execution_count": 289,
   "metadata": {},
   "outputs": [],
   "source": [
    "reduced_df['pct_age_18_to_21_female']=reduced_df['pct_age_18_to_19_female']+reduced_df['pct_age_20_female']+reduced_df['pct_age_21_female']\n",
    "reduced_df['pct_age_18_to_21_male']=reduced_df['pct_age_18_to_19_male']+reduced_df['pct_age_20_male']+reduced_df['pct_age_21_male']"
   ]
  },
  {
   "cell_type": "code",
   "execution_count": 290,
   "metadata": {
    "collapsed": true
   },
   "outputs": [],
   "source": [
    "\n",
    "remove_2=['pct_age_18_to_19_female',\n",
    "'pct_age_18_to_19_male',\n",
    "'pct_age_20_female',\n",
    "'pct_age_20_male',\n",
    "'pct_age_21_female',\n",
    "'pct_age_21_male']"
   ]
  },
  {
   "cell_type": "code",
   "execution_count": 291,
   "metadata": {},
   "outputs": [],
   "source": [
    "reduced_df.drop(remove_2, axis=1, inplace=True)"
   ]
  },
  {
   "cell_type": "code",
   "execution_count": 292,
   "metadata": {},
   "outputs": [
    {
     "data": {
      "text/html": [
       "<div>\n",
       "<style>\n",
       "    .dataframe thead tr:only-child th {\n",
       "        text-align: right;\n",
       "    }\n",
       "\n",
       "    .dataframe thead th {\n",
       "        text-align: left;\n",
       "    }\n",
       "\n",
       "    .dataframe tbody tr th {\n",
       "        vertical-align: top;\n",
       "    }\n",
       "</style>\n",
       "<table border=\"1\" class=\"dataframe\">\n",
       "  <thead>\n",
       "    <tr style=\"text-align: right;\">\n",
       "      <th></th>\n",
       "      <th>census_id</th>\n",
       "      <th>age</th>\n",
       "      <th>income</th>\n",
       "      <th>income_per_capita</th>\n",
       "      <th>median_home_value</th>\n",
       "      <th>median_house_construction_year</th>\n",
       "      <th>population</th>\n",
       "      <th>was_ever_customer</th>\n",
       "      <th>pct_18_to_21</th>\n",
       "      <th>pct_high_school</th>\n",
       "      <th>...</th>\n",
       "      <th>pct_armed_forces</th>\n",
       "      <th>pct_civilian_labor_force</th>\n",
       "      <th>pct_asian_alone</th>\n",
       "      <th>pct_black_alone</th>\n",
       "      <th>pct_hispanic_origin</th>\n",
       "      <th>pct_white_alone</th>\n",
       "      <th>NewType</th>\n",
       "      <th>region</th>\n",
       "      <th>pct_age_18_to_21_female</th>\n",
       "      <th>pct_age_18_to_21_male</th>\n",
       "    </tr>\n",
       "  </thead>\n",
       "  <tbody>\n",
       "    <tr>\n",
       "      <th>0</th>\n",
       "      <td>100124</td>\n",
       "      <td>46.6</td>\n",
       "      <td>26538</td>\n",
       "      <td>17310</td>\n",
       "      <td>87800</td>\n",
       "      <td>1972</td>\n",
       "      <td>2699</td>\n",
       "      <td>0</td>\n",
       "      <td>0.049</td>\n",
       "      <td>0.144</td>\n",
       "      <td>...</td>\n",
       "      <td>0.000</td>\n",
       "      <td>0.385</td>\n",
       "      <td>0.102</td>\n",
       "      <td>0.434</td>\n",
       "      <td>0.035</td>\n",
       "      <td>0.446</td>\n",
       "      <td>Type_A</td>\n",
       "      <td>SE</td>\n",
       "      <td>0.012968</td>\n",
       "      <td>0.035939</td>\n",
       "    </tr>\n",
       "    <tr>\n",
       "      <th>1</th>\n",
       "      <td>100460</td>\n",
       "      <td>36.2</td>\n",
       "      <td>43766</td>\n",
       "      <td>21197</td>\n",
       "      <td>97300</td>\n",
       "      <td>1973</td>\n",
       "      <td>4537</td>\n",
       "      <td>0</td>\n",
       "      <td>0.083</td>\n",
       "      <td>0.235</td>\n",
       "      <td>...</td>\n",
       "      <td>0.000</td>\n",
       "      <td>0.533</td>\n",
       "      <td>0.010</td>\n",
       "      <td>0.403</td>\n",
       "      <td>0.105</td>\n",
       "      <td>0.487</td>\n",
       "      <td>Type_A</td>\n",
       "      <td>SE</td>\n",
       "      <td>0.021600</td>\n",
       "      <td>0.061274</td>\n",
       "    </tr>\n",
       "    <tr>\n",
       "      <th>2</th>\n",
       "      <td>100484</td>\n",
       "      <td>42.4</td>\n",
       "      <td>39750</td>\n",
       "      <td>17279</td>\n",
       "      <td>110600</td>\n",
       "      <td>1972</td>\n",
       "      <td>826</td>\n",
       "      <td>0</td>\n",
       "      <td>0.024</td>\n",
       "      <td>0.207</td>\n",
       "      <td>...</td>\n",
       "      <td>0.000</td>\n",
       "      <td>0.473</td>\n",
       "      <td>0.000</td>\n",
       "      <td>0.000</td>\n",
       "      <td>0.000</td>\n",
       "      <td>0.984</td>\n",
       "      <td>Type_B</td>\n",
       "      <td>SE</td>\n",
       "      <td>0.024213</td>\n",
       "      <td>0.000000</td>\n",
       "    </tr>\n",
       "    <tr>\n",
       "      <th>3</th>\n",
       "      <td>100676</td>\n",
       "      <td>50.8</td>\n",
       "      <td>24485</td>\n",
       "      <td>13843</td>\n",
       "      <td>61700</td>\n",
       "      <td>1973</td>\n",
       "      <td>369</td>\n",
       "      <td>0</td>\n",
       "      <td>0.035</td>\n",
       "      <td>0.214</td>\n",
       "      <td>...</td>\n",
       "      <td>0.000</td>\n",
       "      <td>0.336</td>\n",
       "      <td>0.000</td>\n",
       "      <td>0.791</td>\n",
       "      <td>0.000</td>\n",
       "      <td>0.209</td>\n",
       "      <td>Type_B</td>\n",
       "      <td>SE</td>\n",
       "      <td>0.027100</td>\n",
       "      <td>0.008130</td>\n",
       "    </tr>\n",
       "    <tr>\n",
       "      <th>4</th>\n",
       "      <td>100820</td>\n",
       "      <td>36.1</td>\n",
       "      <td>71250</td>\n",
       "      <td>28272</td>\n",
       "      <td>164000</td>\n",
       "      <td>1992</td>\n",
       "      <td>30372</td>\n",
       "      <td>0</td>\n",
       "      <td>0.039</td>\n",
       "      <td>0.139</td>\n",
       "      <td>...</td>\n",
       "      <td>0.001</td>\n",
       "      <td>0.550</td>\n",
       "      <td>0.007</td>\n",
       "      <td>0.150</td>\n",
       "      <td>0.101</td>\n",
       "      <td>0.759</td>\n",
       "      <td>Type_A</td>\n",
       "      <td>SE</td>\n",
       "      <td>0.017582</td>\n",
       "      <td>0.021862</td>\n",
       "    </tr>\n",
       "  </tbody>\n",
       "</table>\n",
       "<p>5 rows × 26 columns</p>\n",
       "</div>"
      ],
      "text/plain": [
       "   census_id   age  income  income_per_capita  median_home_value  \\\n",
       "0     100124  46.6   26538              17310              87800   \n",
       "1     100460  36.2   43766              21197              97300   \n",
       "2     100484  42.4   39750              17279             110600   \n",
       "3     100676  50.8   24485              13843              61700   \n",
       "4     100820  36.1   71250              28272             164000   \n",
       "\n",
       "   median_house_construction_year  population  was_ever_customer  \\\n",
       "0                            1972        2699                  0   \n",
       "1                            1973        4537                  0   \n",
       "2                            1972         826                  0   \n",
       "3                            1973         369                  0   \n",
       "4                            1992       30372                  0   \n",
       "\n",
       "   pct_18_to_21  pct_high_school          ...            pct_armed_forces  \\\n",
       "0         0.049            0.144          ...                       0.000   \n",
       "1         0.083            0.235          ...                       0.000   \n",
       "2         0.024            0.207          ...                       0.000   \n",
       "3         0.035            0.214          ...                       0.000   \n",
       "4         0.039            0.139          ...                       0.001   \n",
       "\n",
       "   pct_civilian_labor_force  pct_asian_alone  pct_black_alone  \\\n",
       "0                     0.385            0.102            0.434   \n",
       "1                     0.533            0.010            0.403   \n",
       "2                     0.473            0.000            0.000   \n",
       "3                     0.336            0.000            0.791   \n",
       "4                     0.550            0.007            0.150   \n",
       "\n",
       "   pct_hispanic_origin  pct_white_alone  NewType  region  \\\n",
       "0                0.035            0.446   Type_A      SE   \n",
       "1                0.105            0.487   Type_A      SE   \n",
       "2                0.000            0.984   Type_B      SE   \n",
       "3                0.000            0.209   Type_B      SE   \n",
       "4                0.101            0.759   Type_A      SE   \n",
       "\n",
       "   pct_age_18_to_21_female  pct_age_18_to_21_male  \n",
       "0                 0.012968               0.035939  \n",
       "1                 0.021600               0.061274  \n",
       "2                 0.024213               0.000000  \n",
       "3                 0.027100               0.008130  \n",
       "4                 0.017582               0.021862  \n",
       "\n",
       "[5 rows x 26 columns]"
      ]
     },
     "execution_count": 292,
     "metadata": {},
     "output_type": "execute_result"
    }
   ],
   "source": [
    "reduced_df.head()"
   ]
  },
  {
   "cell_type": "markdown",
   "metadata": {},
   "source": [
    "# Exploratory Analysis"
   ]
  },
  {
   "cell_type": "code",
   "execution_count": 293,
   "metadata": {
    "collapsed": true
   },
   "outputs": [],
   "source": [
    "#stats\n",
    "from scipy import stats\n",
    "#plotting\n",
    "import matplotlib as mpl\n",
    "import matplotlib.pyplot as plt\n",
    "import seaborn as sns"
   ]
  },
  {
   "cell_type": "code",
   "execution_count": 294,
   "metadata": {
    "collapsed": true
   },
   "outputs": [],
   "source": [
    "%matplotlib inline"
   ]
  },
  {
   "cell_type": "markdown",
   "metadata": {},
   "source": [
    "## Collinearity\n",
    "At this point we will try to find the correlated variables"
   ]
  },
  {
   "cell_type": "code",
   "execution_count": 295,
   "metadata": {},
   "outputs": [
    {
     "data": {
      "text/plain": [
       "<matplotlib.axes._subplots.AxesSubplot at 0x3e483e48>"
      ]
     },
     "execution_count": 295,
     "metadata": {},
     "output_type": "execute_result"
    },
    {
     "data": {
      "image/png": "[encoded data removed]",
      "text/plain": [
       "<matplotlib.figure.Figure at 0x3e483b38>"
      ]
     },
     "metadata": {},
     "output_type": "display_data"
    }
   ],
   "source": [
    "corr=reduced_df.corr()\n",
    "sns.heatmap(corr)"
   ]
  },
  {
   "cell_type": "markdown",
   "metadata": {},
   "source": [
    "From the correlation heatmap we can see that the high correlated columns are the `pct_age_18_to_21_female` and `pct_age_18_to_21_female` with the `pct_18_to_21`. So for the reason we can remove also the `pct_18_to_21` since we already have this info in the model (the sum of the other two columns)"
   ]
  },
  {
   "cell_type": "code",
   "execution_count": 296,
   "metadata": {},
   "outputs": [],
   "source": [
    "reduced_df.drop(['pct_18_to_21'], axis=1, inplace=True)"
   ]
  },
  {
   "cell_type": "code",
   "execution_count": 297,
   "metadata": {},
   "outputs": [
    {
     "data": {
      "text/plain": [
       "<seaborn.axisgrid.PairGrid at 0x3dd994a8>"
      ]
     },
     "execution_count": 297,
     "metadata": {},
     "output_type": "execute_result"
    },
    {
     "data": {
      "image/png": "[encoded data removed]",
      "text/plain": [
       "<matplotlib.figure.Figure at 0x3dd99ba8>"
      ]
     },
     "metadata": {},
     "output_type": "display_data"
    }
   ],
   "source": [
    "sns.pairplot(data=reduced_df[['age','income', 'population','pct_white_alone', 'was_ever_customer']], hue='was_ever_customer', size=3)"
   ]
  },
  {
   "cell_type": "code",
   "execution_count": 298,
   "metadata": {},
   "outputs": [
    {
     "data": {
      "text/plain": [
       "<matplotlib.axes._subplots.AxesSubplot at 0x47e22be0>"
      ]
     },
     "execution_count": 298,
     "metadata": {},
     "output_type": "execute_result"
    },
    {
     "data": {
      "image/png": "[encoded data removed]",
      "text/plain": [
       "<matplotlib.figure.Figure at 0x4369d908>"
      ]
     },
     "metadata": {},
     "output_type": "display_data"
    }
   ],
   "source": [
    "# As we can see in 'W' Region the chance of a census to become a client is much higher!!!\n",
    "\n",
    "reduced_df.groupby('region').mean().was_ever_customer.plot(kind='bar')"
   ]
  },
  {
   "cell_type": "code",
   "execution_count": 299,
   "metadata": {},
   "outputs": [
    {
     "data": {
      "text/plain": [
       "<matplotlib.axes._subplots.AxesSubplot at 0x47a68a58>"
      ]
     },
     "execution_count": 299,
     "metadata": {},
     "output_type": "execute_result"
    },
    {
     "data": {
      "image/png": "[encoded data removed]",
      "text/plain": [
       "<matplotlib.figure.Figure at 0x49a290b8>"
      ]
     },
     "metadata": {},
     "output_type": "display_data"
    }
   ],
   "source": [
    "# Also census from bigger cities are more likely to become customers\n",
    "reduced_df.groupby('NewType').mean().was_ever_customer.plot(kind='bar')"
   ]
  },
  {
   "cell_type": "markdown",
   "metadata": {},
   "source": [
    "## Creating the Dummy Variables\n",
    "At this point we will create the dummy variables for the column `region` and `NewType`"
   ]
  },
  {
   "cell_type": "code",
   "execution_count": 300,
   "metadata": {
    "collapsed": true
   },
   "outputs": [],
   "source": [
    "region_df=pd.get_dummies(reduced_df.region, prefix='region')\n",
    "newtype_df=pd.get_dummies(reduced_df.NewType, prefix='New')"
   ]
  },
  {
   "cell_type": "code",
   "execution_count": 301,
   "metadata": {},
   "outputs": [
    {
     "data": {
      "text/html": [
       "<div>\n",
       "<style>\n",
       "    .dataframe thead tr:only-child th {\n",
       "        text-align: right;\n",
       "    }\n",
       "\n",
       "    .dataframe thead th {\n",
       "        text-align: left;\n",
       "    }\n",
       "\n",
       "    .dataframe tbody tr th {\n",
       "        vertical-align: top;\n",
       "    }\n",
       "</style>\n",
       "<table border=\"1\" class=\"dataframe\">\n",
       "  <thead>\n",
       "    <tr style=\"text-align: right;\">\n",
       "      <th></th>\n",
       "      <th>region_MW</th>\n",
       "      <th>region_NE</th>\n",
       "      <th>region_SE</th>\n",
       "      <th>region_SW</th>\n",
       "      <th>region_W</th>\n",
       "    </tr>\n",
       "  </thead>\n",
       "  <tbody>\n",
       "    <tr>\n",
       "      <th>0</th>\n",
       "      <td>0</td>\n",
       "      <td>0</td>\n",
       "      <td>1</td>\n",
       "      <td>0</td>\n",
       "      <td>0</td>\n",
       "    </tr>\n",
       "    <tr>\n",
       "      <th>1</th>\n",
       "      <td>0</td>\n",
       "      <td>0</td>\n",
       "      <td>1</td>\n",
       "      <td>0</td>\n",
       "      <td>0</td>\n",
       "    </tr>\n",
       "    <tr>\n",
       "      <th>2</th>\n",
       "      <td>0</td>\n",
       "      <td>0</td>\n",
       "      <td>1</td>\n",
       "      <td>0</td>\n",
       "      <td>0</td>\n",
       "    </tr>\n",
       "    <tr>\n",
       "      <th>3</th>\n",
       "      <td>0</td>\n",
       "      <td>0</td>\n",
       "      <td>1</td>\n",
       "      <td>0</td>\n",
       "      <td>0</td>\n",
       "    </tr>\n",
       "    <tr>\n",
       "      <th>4</th>\n",
       "      <td>0</td>\n",
       "      <td>0</td>\n",
       "      <td>1</td>\n",
       "      <td>0</td>\n",
       "      <td>0</td>\n",
       "    </tr>\n",
       "  </tbody>\n",
       "</table>\n",
       "</div>"
      ],
      "text/plain": [
       "   region_MW  region_NE  region_SE  region_SW  region_W\n",
       "0          0          0          1          0         0\n",
       "1          0          0          1          0         0\n",
       "2          0          0          1          0         0\n",
       "3          0          0          1          0         0\n",
       "4          0          0          1          0         0"
      ]
     },
     "execution_count": 301,
     "metadata": {},
     "output_type": "execute_result"
    }
   ],
   "source": [
    "region_df.head()"
   ]
  },
  {
   "cell_type": "code",
   "execution_count": 302,
   "metadata": {},
   "outputs": [
    {
     "data": {
      "text/html": [
       "<div>\n",
       "<style>\n",
       "    .dataframe thead tr:only-child th {\n",
       "        text-align: right;\n",
       "    }\n",
       "\n",
       "    .dataframe thead th {\n",
       "        text-align: left;\n",
       "    }\n",
       "\n",
       "    .dataframe tbody tr th {\n",
       "        vertical-align: top;\n",
       "    }\n",
       "</style>\n",
       "<table border=\"1\" class=\"dataframe\">\n",
       "  <thead>\n",
       "    <tr style=\"text-align: right;\">\n",
       "      <th></th>\n",
       "      <th>New_Type_A</th>\n",
       "      <th>New_Type_B</th>\n",
       "    </tr>\n",
       "  </thead>\n",
       "  <tbody>\n",
       "    <tr>\n",
       "      <th>0</th>\n",
       "      <td>1</td>\n",
       "      <td>0</td>\n",
       "    </tr>\n",
       "    <tr>\n",
       "      <th>1</th>\n",
       "      <td>1</td>\n",
       "      <td>0</td>\n",
       "    </tr>\n",
       "    <tr>\n",
       "      <th>2</th>\n",
       "      <td>0</td>\n",
       "      <td>1</td>\n",
       "    </tr>\n",
       "    <tr>\n",
       "      <th>3</th>\n",
       "      <td>0</td>\n",
       "      <td>1</td>\n",
       "    </tr>\n",
       "    <tr>\n",
       "      <th>4</th>\n",
       "      <td>1</td>\n",
       "      <td>0</td>\n",
       "    </tr>\n",
       "  </tbody>\n",
       "</table>\n",
       "</div>"
      ],
      "text/plain": [
       "   New_Type_A  New_Type_B\n",
       "0           1           0\n",
       "1           1           0\n",
       "2           0           1\n",
       "3           0           1\n",
       "4           1           0"
      ]
     },
     "execution_count": 302,
     "metadata": {},
     "output_type": "execute_result"
    }
   ],
   "source": [
    "newtype_df.head()"
   ]
  },
  {
   "cell_type": "code",
   "execution_count": 303,
   "metadata": {},
   "outputs": [],
   "source": [
    "reduced_df=reduced_df.join([newtype_df,region_df])"
   ]
  },
  {
   "cell_type": "code",
   "execution_count": 304,
   "metadata": {},
   "outputs": [],
   "source": [
    "# now we will need to drop the categorical variables since we created the dummies also we need to remove the reference levels\n",
    "reduced_df.drop(['region','NewType', 'New_Type_B', 'region_NE'], axis=1, inplace=True)"
   ]
  },
  {
   "cell_type": "markdown",
   "metadata": {},
   "source": [
    "## Which Machine Learning Model to Choose"
   ]
  },
  {
   "cell_type": "markdown",
   "metadata": {},
   "source": [
    "Let's have a look at the Probability of a Census_ID to become a customer"
   ]
  },
  {
   "cell_type": "code",
   "execution_count": 309,
   "metadata": {},
   "outputs": [
    {
     "data": {
      "text/plain": [
       "'The Probability of a Census_ID to become a customer is 0.68% which is an extremely low value for data modelling'"
      ]
     },
     "execution_count": 309,
     "metadata": {},
     "output_type": "execute_result"
    }
   ],
   "source": [
    "'The Probability of a Census_ID to become a customer is {0:.2%} which is an extremely low value for data modelling'.format(reduced_df.was_ever_customer.mean())"
   ]
  },
  {
   "cell_type": "markdown",
   "metadata": {},
   "source": [
    "For that reason we cannot treat it as **classification** problem but on contrary as a **regression** model where we will try to assign a probability of a census to become a customer. The Machine Learning Model that we will apply is the **Logistic Regression** and it will be able to assign a probability for every new Census ID provided that we know the values of the independent variables"
   ]
  },
  {
   "cell_type": "code",
   "execution_count": 260,
   "metadata": {},
   "outputs": [
    {
     "data": {
      "text/plain": [
       "0    0\n",
       "1    0\n",
       "2    0\n",
       "3    0\n",
       "4    0\n",
       "Name: was_ever_customer, dtype: int64"
      ]
     },
     "execution_count": 260,
     "metadata": {},
     "output_type": "execute_result"
    }
   ],
   "source": [
    "reduced_df.was_ever_customer"
   ]
  },
  {
   "cell_type": "code",
   "execution_count": 261,
   "metadata": {},
   "outputs": [
    {
     "data": {
      "text/html": [
       "<div>\n",
       "<style>\n",
       "    .dataframe thead tr:only-child th {\n",
       "        text-align: right;\n",
       "    }\n",
       "\n",
       "    .dataframe thead th {\n",
       "        text-align: left;\n",
       "    }\n",
       "\n",
       "    .dataframe tbody tr th {\n",
       "        vertical-align: top;\n",
       "    }\n",
       "</style>\n",
       "<table border=\"1\" class=\"dataframe\">\n",
       "  <thead>\n",
       "    <tr style=\"text-align: right;\">\n",
       "      <th></th>\n",
       "      <th>census_id</th>\n",
       "      <th>age</th>\n",
       "      <th>income</th>\n",
       "      <th>income_per_capita</th>\n",
       "      <th>median_home_value</th>\n",
       "      <th>median_house_construction_year</th>\n",
       "      <th>population</th>\n",
       "      <th>was_ever_customer</th>\n",
       "      <th>pct_high_school</th>\n",
       "      <th>pct_bachelors</th>\n",
       "      <th>...</th>\n",
       "      <th>pct_black_alone</th>\n",
       "      <th>pct_hispanic_origin</th>\n",
       "      <th>pct_white_alone</th>\n",
       "      <th>pct_age_18_to_21_female</th>\n",
       "      <th>pct_age_18_to_21_male</th>\n",
       "      <th>New_Type_A</th>\n",
       "      <th>region_MW</th>\n",
       "      <th>region_SE</th>\n",
       "      <th>region_SW</th>\n",
       "      <th>region_W</th>\n",
       "    </tr>\n",
       "  </thead>\n",
       "  <tbody>\n",
       "    <tr>\n",
       "      <th>0</th>\n",
       "      <td>100124</td>\n",
       "      <td>46.6</td>\n",
       "      <td>26538</td>\n",
       "      <td>17310</td>\n",
       "      <td>87800</td>\n",
       "      <td>1972</td>\n",
       "      <td>2699</td>\n",
       "      <td>0</td>\n",
       "      <td>0.144</td>\n",
       "      <td>0.082</td>\n",
       "      <td>...</td>\n",
       "      <td>0.434</td>\n",
       "      <td>0.035</td>\n",
       "      <td>0.446</td>\n",
       "      <td>0.012968</td>\n",
       "      <td>0.035939</td>\n",
       "      <td>1</td>\n",
       "      <td>0</td>\n",
       "      <td>1</td>\n",
       "      <td>0</td>\n",
       "      <td>0</td>\n",
       "    </tr>\n",
       "    <tr>\n",
       "      <th>1</th>\n",
       "      <td>100460</td>\n",
       "      <td>36.2</td>\n",
       "      <td>43766</td>\n",
       "      <td>21197</td>\n",
       "      <td>97300</td>\n",
       "      <td>1973</td>\n",
       "      <td>4537</td>\n",
       "      <td>0</td>\n",
       "      <td>0.235</td>\n",
       "      <td>0.056</td>\n",
       "      <td>...</td>\n",
       "      <td>0.403</td>\n",
       "      <td>0.105</td>\n",
       "      <td>0.487</td>\n",
       "      <td>0.021600</td>\n",
       "      <td>0.061274</td>\n",
       "      <td>1</td>\n",
       "      <td>0</td>\n",
       "      <td>1</td>\n",
       "      <td>0</td>\n",
       "      <td>0</td>\n",
       "    </tr>\n",
       "    <tr>\n",
       "      <th>2</th>\n",
       "      <td>100484</td>\n",
       "      <td>42.4</td>\n",
       "      <td>39750</td>\n",
       "      <td>17279</td>\n",
       "      <td>110600</td>\n",
       "      <td>1972</td>\n",
       "      <td>826</td>\n",
       "      <td>0</td>\n",
       "      <td>0.207</td>\n",
       "      <td>0.047</td>\n",
       "      <td>...</td>\n",
       "      <td>0.000</td>\n",
       "      <td>0.000</td>\n",
       "      <td>0.984</td>\n",
       "      <td>0.024213</td>\n",
       "      <td>0.000000</td>\n",
       "      <td>0</td>\n",
       "      <td>0</td>\n",
       "      <td>1</td>\n",
       "      <td>0</td>\n",
       "      <td>0</td>\n",
       "    </tr>\n",
       "    <tr>\n",
       "      <th>3</th>\n",
       "      <td>100676</td>\n",
       "      <td>50.8</td>\n",
       "      <td>24485</td>\n",
       "      <td>13843</td>\n",
       "      <td>61700</td>\n",
       "      <td>1973</td>\n",
       "      <td>369</td>\n",
       "      <td>0</td>\n",
       "      <td>0.214</td>\n",
       "      <td>0.000</td>\n",
       "      <td>...</td>\n",
       "      <td>0.791</td>\n",
       "      <td>0.000</td>\n",
       "      <td>0.209</td>\n",
       "      <td>0.027100</td>\n",
       "      <td>0.008130</td>\n",
       "      <td>0</td>\n",
       "      <td>0</td>\n",
       "      <td>1</td>\n",
       "      <td>0</td>\n",
       "      <td>0</td>\n",
       "    </tr>\n",
       "    <tr>\n",
       "      <th>4</th>\n",
       "      <td>100820</td>\n",
       "      <td>36.1</td>\n",
       "      <td>71250</td>\n",
       "      <td>28272</td>\n",
       "      <td>164000</td>\n",
       "      <td>1992</td>\n",
       "      <td>30372</td>\n",
       "      <td>0</td>\n",
       "      <td>0.139</td>\n",
       "      <td>0.160</td>\n",
       "      <td>...</td>\n",
       "      <td>0.150</td>\n",
       "      <td>0.101</td>\n",
       "      <td>0.759</td>\n",
       "      <td>0.017582</td>\n",
       "      <td>0.021862</td>\n",
       "      <td>1</td>\n",
       "      <td>0</td>\n",
       "      <td>1</td>\n",
       "      <td>0</td>\n",
       "      <td>0</td>\n",
       "    </tr>\n",
       "  </tbody>\n",
       "</table>\n",
       "<p>5 rows × 28 columns</p>\n",
       "</div>"
      ],
      "text/plain": [
       "   census_id   age  income  income_per_capita  median_home_value  \\\n",
       "0     100124  46.6   26538              17310              87800   \n",
       "1     100460  36.2   43766              21197              97300   \n",
       "2     100484  42.4   39750              17279             110600   \n",
       "3     100676  50.8   24485              13843              61700   \n",
       "4     100820  36.1   71250              28272             164000   \n",
       "\n",
       "   median_house_construction_year  population  was_ever_customer  \\\n",
       "0                            1972        2699                  0   \n",
       "1                            1973        4537                  0   \n",
       "2                            1972         826                  0   \n",
       "3                            1973         369                  0   \n",
       "4                            1992       30372                  0   \n",
       "\n",
       "   pct_high_school  pct_bachelors    ...     pct_black_alone  \\\n",
       "0            0.144          0.082    ...               0.434   \n",
       "1            0.235          0.056    ...               0.403   \n",
       "2            0.207          0.047    ...               0.000   \n",
       "3            0.214          0.000    ...               0.791   \n",
       "4            0.139          0.160    ...               0.150   \n",
       "\n",
       "   pct_hispanic_origin  pct_white_alone  pct_age_18_to_21_female  \\\n",
       "0                0.035            0.446                 0.012968   \n",
       "1                0.105            0.487                 0.021600   \n",
       "2                0.000            0.984                 0.024213   \n",
       "3                0.000            0.209                 0.027100   \n",
       "4                0.101            0.759                 0.017582   \n",
       "\n",
       "   pct_age_18_to_21_male  New_Type_A  region_MW  region_SE  region_SW  \\\n",
       "0               0.035939           1          0          1          0   \n",
       "1               0.061274           1          0          1          0   \n",
       "2               0.000000           0          0          1          0   \n",
       "3               0.008130           0          0          1          0   \n",
       "4               0.021862           1          0          1          0   \n",
       "\n",
       "   region_W  \n",
       "0         0  \n",
       "1         0  \n",
       "2         0  \n",
       "3         0  \n",
       "4         0  \n",
       "\n",
       "[5 rows x 28 columns]"
      ]
     },
     "execution_count": 261,
     "metadata": {},
     "output_type": "execute_result"
    }
   ],
   "source": [
    "reduced_df.head()"
   ]
  },
  {
   "cell_type": "markdown",
   "metadata": {},
   "source": [
    "# Build the Logistic Regression Model"
   ]
  },
  {
   "cell_type": "code",
   "execution_count": 311,
   "metadata": {},
   "outputs": [],
   "source": [
    "\n",
    "from sklearn import linear_model"
   ]
  },
  {
   "cell_type": "markdown",
   "metadata": {},
   "source": [
    "### Split the dataset into Train and Test dataset (75% vs 25%)¶"
   ]
  },
  {
   "cell_type": "code",
   "execution_count": 312,
   "metadata": {
    "collapsed": true
   },
   "outputs": [],
   "source": [
    "train_df = reduced_df.sample(frac = .75, random_state = 0)\n",
    "test_df = reduced_df.drop(train_df.index)"
   ]
  },
  {
   "cell_type": "code",
   "execution_count": 316,
   "metadata": {},
   "outputs": [],
   "source": [
    "train_X=train_df.drop(['census_id','was_ever_customer'], axis=1)\n",
    "train_y=train_df.was_ever_customer\n",
    "\n",
    "test_X=test_df.drop(['census_id','was_ever_customer'], axis=1)\n",
    "test_y=test_df.was_ever_customer"
   ]
  },
  {
   "cell_type": "markdown",
   "metadata": {},
   "source": [
    "## Print the Intercept and the Coefficients of the model"
   ]
  },
  {
   "cell_type": "code",
   "execution_count": 318,
   "metadata": {},
   "outputs": [
    {
     "name": "stdout",
     "output_type": "stream",
     "text": [
      "[ -2.65427355e-06]\n",
      "[[ -8.30895295e-04   6.07654053e-06  -3.07754176e-05   5.70848440e-06\n",
      "   -2.91317726e-03   4.75820685e-07  -1.32143581e-05   7.52607610e-06\n",
      "    3.54046427e-06   1.39065403e-06  -2.96907996e-06   5.05615370e-06\n",
      "    4.85416909e-07   6.00943169e-07   5.53795057e-06   1.16897250e-05\n",
      "    6.98636202e-06   6.48873399e-06  -2.55815182e-05   2.07612180e-06\n",
      "    1.81523082e-06   7.49559537e-05  -2.10883717e-05   6.04888231e-06\n",
      "    1.31992090e-06   6.27096491e-05]]\n"
     ]
    }
   ],
   "source": [
    "model = linear_model.LogisticRegression().\\\n",
    "    fit(train_X, train_y)\n",
    "\n",
    "print (model.intercept_)\n",
    "print (model.coef_)"
   ]
  },
  {
   "cell_type": "markdown",
   "metadata": {},
   "source": [
    "## Get the misclassification error for the training and testing dataset"
   ]
  },
  {
   "cell_type": "code",
   "execution_count": 321,
   "metadata": {},
   "outputs": [
    {
     "name": "stdout",
     "output_type": "stream",
     "text": [
      "training misclassification = 0.00650715108791\n",
      "testing  misclassification = 0.00772671817812\n"
     ]
    }
   ],
   "source": [
    "\n",
    "print ('training misclassification =', 1 - model.score(train_X, train_y))\n",
    "print ('testing  misclassification =', 1 - model.score(test_X, test_y))"
   ]
  },
  {
   "cell_type": "markdown",
   "metadata": {},
   "source": [
    "## Get the Odds Ratio"
   ]
  },
  {
   "cell_type": "code",
   "execution_count": 345,
   "metadata": {},
   "outputs": [
    {
     "data": {
      "text/plain": [
       "[('age', 0.99916944980272837),\n",
       " ('income', 1.0000060765589922),\n",
       " ('income_per_capita', 0.99996922505598029),\n",
       " ('median_home_value', 1.0000057085006935),\n",
       " ('median_house_construction_year', 0.99709106192628039),\n",
       " ('population', 1.0000004758207983),\n",
       " ('pct_high_school', 0.99998678572922262),\n",
       " ('pct_bachelors', 1.0000075261044241),\n",
       " ('pct_masters', 1.0000035404705354),\n",
       " ('pct_doctorate', 1.0000013906549954),\n",
       " ('pct_poverty', 0.99999703092444681),\n",
       " ('pct_employed', 1.0000050561664855),\n",
       " ('pct_unemployed', 1.0000004854170272),\n",
       " ('pct_armed_forces', 1.0000006009433493),\n",
       " ('pct_civilian_labor_force', 1.0000055379659072),\n",
       " ('pct_asian_alone', 1.0000116897932767),\n",
       " ('pct_black_alone', 1.0000069863864236),\n",
       " ('pct_hispanic_origin', 1.0000064887550422),\n",
       " ('pct_white_alone', 0.99997441880898841),\n",
       " ('pct_age_18_to_21_female', 1.0000020761239548),\n",
       " ('pct_age_18_to_21_male', 1.0000018152324643),\n",
       " ('New_Type_A', 1.0000749587629651),\n",
       " ('region_MW', 0.999978911850676),\n",
       " ('region_SE', 1.0000060489006011),\n",
       " ('region_SW', 1.0000013199217699),\n",
       " ('region_W', 1.0000627116154364)]"
      ]
     },
     "execution_count": 345,
     "metadata": {},
     "output_type": "execute_result"
    }
   ],
   "source": [
    "\n",
    "list(zip(list(train_X), np.exp(model.coef_[0]) ))"
   ]
  },
  {
   "cell_type": "markdown",
   "metadata": {},
   "source": [
    "\n",
    "## Other Metrics for Evaluating the Model\n",
    "## Confusion Matrix"
   ]
  },
  {
   "cell_type": "code",
   "execution_count": 346,
   "metadata": {
    "collapsed": true
   },
   "outputs": [],
   "source": [
    "from sklearn.metrics import confusion_matrix\n",
    "\n",
    "y_pred=model.predict(test_X)\n",
    "y_pred_prob=model.predict_proba(test_X)\n",
    "cnf_matrix =confusion_matrix(test_y, y_pred)"
   ]
  },
  {
   "cell_type": "code",
   "execution_count": 347,
   "metadata": {
    "collapsed": true
   },
   "outputs": [],
   "source": [
    "import itertools\n",
    "def plot_confusion_matrix(cm, classes,\n",
    "                          normalize=False,\n",
    "                          title='Confusion matrix',\n",
    "                          cmap=plt.cm.Blues):\n",
    "    \"\"\"\n",
    "    This function prints and plots the confusion matrix.\n",
    "    Normalization can be applied by setting `normalize=True`.\n",
    "    \"\"\"\n",
    "    plt.imshow(cm, interpolation='nearest', cmap=cmap)\n",
    "    plt.title(title)\n",
    "    plt.colorbar()\n",
    "    tick_marks = np.arange(len(classes))\n",
    "    plt.xticks(tick_marks, classes, rotation=45)\n",
    "    plt.yticks(tick_marks, classes)\n",
    "\n",
    "    if normalize:\n",
    "        cm = cm.astype('float') / cm.sum(axis=1)[:, np.newaxis]\n",
    "        cm=cm.round(2)\n",
    "        print(\"Normalized confusion matrix\")\n",
    "    else:\n",
    "        print('Confusion matrix, without normalization')\n",
    "\n",
    "    print(cm)\n",
    "\n",
    "    thresh = cm.max() / 2.\n",
    "    for i, j in itertools.product(range(cm.shape[0]), range(cm.shape[1])):\n",
    "        plt.text(j, i, cm[i, j],\n",
    "                 horizontalalignment=\"center\",\n",
    "                 color=\"white\" if cm[i, j] > thresh else \"black\")\n",
    "\n",
    "    plt.tight_layout()\n",
    "    plt.ylabel('True label')\n",
    "    plt.xlabel('Predicted label')"
   ]
  },
  {
   "cell_type": "code",
   "execution_count": 348,
   "metadata": {},
   "outputs": [
    {
     "name": "stdout",
     "output_type": "stream",
     "text": [
      "Confusion matrix, without normalization\n",
      "[[4880    0]\n",
      " [  38    0]]\n"
     ]
    },
    {
     "data": {
      "image/png": "[encoded data removed]",
      "text/plain": [
       "<matplotlib.figure.Figure at 0x4c7954a8>"
      ]
     },
     "metadata": {},
     "output_type": "display_data"
    }
   ],
   "source": [
    "\n",
    "# Plot non-normalized confusion matrix\n",
    "plt.figure()\n",
    "plot_confusion_matrix(cnf_matrix, classes=['0', '1'],\n",
    "                      title='Confusion matrix, without normalization')"
   ]
  },
  {
   "cell_type": "markdown",
   "metadata": {},
   "source": [
    "## ROC Curve and AUC"
   ]
  },
  {
   "cell_type": "code",
   "execution_count": 349,
   "metadata": {
    "collapsed": true
   },
   "outputs": [],
   "source": [
    "from sklearn import metrics"
   ]
  },
  {
   "cell_type": "code",
   "execution_count": 350,
   "metadata": {},
   "outputs": [
    {
     "data": {
      "image/png": "[encoded data removed]",
      "text/plain": [
       "<matplotlib.figure.Figure at 0x49a10828>"
      ]
     },
     "metadata": {},
     "output_type": "display_data"
    }
   ],
   "source": [
    "\n",
    "fpr, tpr, thresholds = metrics.roc_curve(test_y, y_pred)\n",
    "plt.figure()\n",
    "plt.plot(fpr, tpr, label = 'ROC curve (area = %0.2f)' % metrics.auc(fpr, tpr))\n",
    "plt.plot([0, 1], [0, 1], 'k--')\n",
    "plt.xlim([0, 1.01])\n",
    "plt.ylim([0, 1.01])\n",
    "plt.xlabel('FPR/Fall-out')\n",
    "plt.ylabel('TPR/Sensitivity')\n",
    "plt.title(\"ROC\")\n",
    "plt.legend(loc = 'lower right')\n",
    "plt.show()"
   ]
  },
  {
   "cell_type": "markdown",
   "metadata": {},
   "source": [
    "## Precision Recall and F1-Score"
   ]
  },
  {
   "cell_type": "code",
   "execution_count": 352,
   "metadata": {},
   "outputs": [
    {
     "name": "stdout",
     "output_type": "stream",
     "text": [
      "             precision    recall  f1-score   support\n",
      "\n",
      "          0       0.99      1.00      1.00      4880\n",
      "          1       0.00      0.00      0.00        38\n",
      "\n",
      "avg / total       0.98      0.99      0.99      4918\n",
      "\n"
     ]
    },
    {
     "name": "stderr",
     "output_type": "stream",
     "text": [
      "C:\\Users\\gpipis\\AppData\\Local\\Continuum\\Anaconda3\\lib\\site-packages\\sklearn\\metrics\\classification.py:1113: UndefinedMetricWarning: Precision and F-score are ill-defined and being set to 0.0 in labels with no predicted samples.\n",
      "  'precision', 'predicted', average, warn_for)\n"
     ]
    }
   ],
   "source": [
    "\n",
    "print(metrics.classification_report(test_y, y_pred))"
   ]
  },
  {
   "cell_type": "markdown",
   "metadata": {},
   "source": [
    "## Log Loss"
   ]
  },
  {
   "cell_type": "code",
   "execution_count": 353,
   "metadata": {},
   "outputs": [
    {
     "data": {
      "text/plain": [
       "0.037930612511325908"
      ]
     },
     "execution_count": 353,
     "metadata": {},
     "output_type": "execute_result"
    }
   ],
   "source": [
    "\n",
    "metrics.log_loss(test_y, y_pred_prob[:,1])"
   ]
  },
  {
   "cell_type": "markdown",
   "metadata": {},
   "source": [
    "## Cohen Kappa"
   ]
  },
  {
   "cell_type": "code",
   "execution_count": 354,
   "metadata": {},
   "outputs": [
    {
     "data": {
      "text/plain": [
       "0.0"
      ]
     },
     "execution_count": 354,
     "metadata": {},
     "output_type": "execute_result"
    }
   ],
   "source": [
    "metrics.cohen_kappa_score(test_y, y_pred)"
   ]
  },
  {
   "cell_type": "markdown",
   "metadata": {},
   "source": [
    "# Comments"
   ]
  },
  {
   "cell_type": "markdown",
   "metadata": {},
   "source": [
    "Theoretically the accuracy of the model is great since it is higher than 99% but the problem is that the model predicts that all census are less likely to become customers. This is something that we expected. On contrary our scope is to define a probability of every census id in order to rank them. So the final output will be an assign probability for every census id "
   ]
  },
  {
   "cell_type": "code",
   "execution_count": 355,
   "metadata": {
    "collapsed": true
   },
   "outputs": [],
   "source": [
    "train_df = reduced_df\n",
    "train_X=train_df.drop(['census_id','was_ever_customer'], axis=1)\n",
    "train_y=train_df.was_ever_customer\n"
   ]
  },
  {
   "cell_type": "code",
   "execution_count": 356,
   "metadata": {
    "collapsed": true
   },
   "outputs": [],
   "source": [
    "model = linear_model.LogisticRegression().\\\n",
    "    fit(train_X, train_y)"
   ]
  },
  {
   "cell_type": "code",
   "execution_count": 357,
   "metadata": {
    "collapsed": true
   },
   "outputs": [],
   "source": [
    "y_pred_prob=model.predict_proba(train_X)"
   ]
  },
  {
   "cell_type": "code",
   "execution_count": 363,
   "metadata": {},
   "outputs": [],
   "source": [
    "Score=pd.DataFrame(y_pred_prob[:,1])"
   ]
  },
  {
   "cell_type": "code",
   "execution_count": 367,
   "metadata": {},
   "outputs": [],
   "source": [
    "Score.columns=['Score']"
   ]
  },
  {
   "cell_type": "code",
   "execution_count": 368,
   "metadata": {},
   "outputs": [
    {
     "data": {
      "text/html": [
       "<div>\n",
       "<style>\n",
       "    .dataframe thead tr:only-child th {\n",
       "        text-align: right;\n",
       "    }\n",
       "\n",
       "    .dataframe thead th {\n",
       "        text-align: left;\n",
       "    }\n",
       "\n",
       "    .dataframe tbody tr th {\n",
       "        vertical-align: top;\n",
       "    }\n",
       "</style>\n",
       "<table border=\"1\" class=\"dataframe\">\n",
       "  <thead>\n",
       "    <tr style=\"text-align: right;\">\n",
       "      <th></th>\n",
       "      <th>Score</th>\n",
       "    </tr>\n",
       "  </thead>\n",
       "  <tbody>\n",
       "    <tr>\n",
       "      <th>0</th>\n",
       "      <td>0.003545</td>\n",
       "    </tr>\n",
       "    <tr>\n",
       "      <th>1</th>\n",
       "      <td>0.003737</td>\n",
       "    </tr>\n",
       "    <tr>\n",
       "      <th>2</th>\n",
       "      <td>0.004387</td>\n",
       "    </tr>\n",
       "    <tr>\n",
       "      <th>3</th>\n",
       "      <td>0.003277</td>\n",
       "    </tr>\n",
       "    <tr>\n",
       "      <th>4</th>\n",
       "      <td>0.004885</td>\n",
       "    </tr>\n",
       "  </tbody>\n",
       "</table>\n",
       "</div>"
      ],
      "text/plain": [
       "      Score\n",
       "0  0.003545\n",
       "1  0.003737\n",
       "2  0.004387\n",
       "3  0.003277\n",
       "4  0.004885"
      ]
     },
     "execution_count": 368,
     "metadata": {},
     "output_type": "execute_result"
    }
   ],
   "source": [
    "Score.head()"
   ]
  },
  {
   "cell_type": "code",
   "execution_count": 380,
   "metadata": {},
   "outputs": [],
   "source": [
    "output=pd.concat([reduced_df['census_id'],Score], axis=1, join='inner')"
   ]
  },
  {
   "cell_type": "code",
   "execution_count": 373,
   "metadata": {},
   "outputs": [
    {
     "data": {
      "text/plain": [
       "(19671, 28)"
      ]
     },
     "execution_count": 373,
     "metadata": {},
     "output_type": "execute_result"
    }
   ],
   "source": [
    "pd."
   ]
  },
  {
   "cell_type": "code",
   "execution_count": 374,
   "metadata": {},
   "outputs": [
    {
     "data": {
      "text/plain": [
       "(19671, 1)"
      ]
     },
     "execution_count": 374,
     "metadata": {},
     "output_type": "execute_result"
    }
   ],
   "source": [
    "Score.shape"
   ]
  },
  {
   "cell_type": "code",
   "execution_count": 382,
   "metadata": {
    "collapsed": true
   },
   "outputs": [],
   "source": [
    "output.to_csv( 'output.csv', index=False)"
   ]
  },
  {
   "cell_type": "code",
   "execution_count": null,
   "metadata": {
    "collapsed": true
   },
   "outputs": [],
   "source": []
  }
 ],
 "metadata": {
  "kernelspec": {
   "display_name": "Python 3",
   "language": "python",
   "name": "python3"
  },
  "language_info": {
   "codemirror_mode": {
    "name": "ipython",
    "version": 3
   },
   "file_extension": ".py",
   "mimetype": "text/x-python",
   "name": "python",
   "nbconvert_exporter": "python",
   "pygments_lexer": "ipython3",
   "version": "3.6.1"
  }
 },
 "nbformat": 4,
 "nbformat_minor": 2
}
