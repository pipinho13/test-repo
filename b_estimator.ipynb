{
 "cells": [
  {
   "cell_type": "markdown",
   "metadata": {
    "deletable": true,
    "editable": true
   },
   "source": [
    "<h1>2b. Machine Learning using tf.estimator </h1>\n",
    "\n",
    "In this notebook, we will create a machine learning model using tf.estimator and evaluate its performance.  The dataset is rather small (7700 samples), so we can do it all in-memory.  We will also simply pass the raw data in as-is. "
   ]
  },
  {
   "cell_type": "code",
   "execution_count": 1,
   "metadata": {
    "collapsed": false,
    "deletable": true,
    "editable": true
   },
   "outputs": [
    {
     "name": "stdout",
     "output_type": "stream",
     "text": [
      "1.8.0\n"
     ]
    },
    {
     "name": "stderr",
     "output_type": "stream",
     "text": [
      "/usr/local/envs/py2env/lib/python2.7/site-packages/h5py/__init__.py:36: FutureWarning: Conversion of the second argument of issubdtype from `float` to `np.floating` is deprecated. In future, it will be treated as `np.float64 == np.dtype(float).type`.\n",
      "  from ._conv import register_converters as _register_converters\n"
     ]
    }
   ],
   "source": [
    "import datalab.bigquery as bq\n",
    "import tensorflow as tf\n",
    "import pandas as pd\n",
    "import numpy as np\n",
    "import shutil\n",
    "\n",
    "print(tf.__version__)"
   ]
  },
  {
   "cell_type": "markdown",
   "metadata": {
    "deletable": true,
    "editable": true
   },
   "source": [
    "Read data created in the previous chapter."
   ]
  },
  {
   "cell_type": "code",
   "execution_count": 2,
   "metadata": {
    "collapsed": true,
    "deletable": true,
    "editable": true
   },
   "outputs": [],
   "source": [
    "# In CSV, label is the first column, after the features, followed by the key\n",
    "CSV_COLUMNS = ['fare_amount', 'pickuplon','pickuplat','dropofflon','dropofflat','passengers', 'key']\n",
    "FEATURES = CSV_COLUMNS[1:len(CSV_COLUMNS) - 1]\n",
    "LABEL = CSV_COLUMNS[0]\n",
    "\n",
    "df_train = pd.read_csv('./taxi-train.csv', header = None, names = CSV_COLUMNS)\n",
    "df_valid = pd.read_csv('./taxi-valid.csv', header = None, names = CSV_COLUMNS)"
   ]
  },
  {
   "cell_type": "markdown",
   "metadata": {
    "deletable": true,
    "editable": true
   },
   "source": [
    "<h2> Input functions to read from Pandas Dataframe </h2>"
   ]
  },
  {
   "cell_type": "code",
   "execution_count": 3,
   "metadata": {
    "collapsed": false,
    "deletable": true,
    "editable": true
   },
   "outputs": [],
   "source": [
    "def make_input_fn(df, num_epochs):\n",
    "  return tf.estimator.inputs.pandas_input_fn(\n",
    "    x = df,\n",
    "    y = df[LABEL],\n",
    "    batch_size = 128,\n",
    "    num_epochs = num_epochs,\n",
    "    shuffle = True,\n",
    "    queue_capacity = 1000,\n",
    "    num_threads = 1\n",
    "  )"
   ]
  },
  {
   "cell_type": "markdown",
   "metadata": {
    "deletable": true,
    "editable": true
   },
   "source": [
    "Our input function for predictions is the same except we don't provide a label"
   ]
  },
  {
   "cell_type": "code",
   "execution_count": 4,
   "metadata": {
    "collapsed": true,
    "deletable": true,
    "editable": true
   },
   "outputs": [],
   "source": [
    "def make_prediction_input_fn(df, num_epochs):\n",
    "  return tf.estimator.inputs.pandas_input_fn(\n",
    "    x = df,\n",
    "    y = None,\n",
    "    batch_size = 128,\n",
    "    num_epochs = num_epochs,\n",
    "    shuffle = True,\n",
    "    queue_capacity = 1000,\n",
    "    num_threads = 1\n",
    "  )"
   ]
  },
  {
   "cell_type": "markdown",
   "metadata": {
    "deletable": true,
    "editable": true
   },
   "source": [
    "### Create feature columns for estimator"
   ]
  },
  {
   "cell_type": "code",
   "execution_count": 5,
   "metadata": {
    "collapsed": true,
    "deletable": true,
    "editable": true
   },
   "outputs": [],
   "source": [
    "def make_feature_cols():\n",
    "  input_columns = [tf.feature_column.numeric_column(k) for k in FEATURES]\n",
    "  return input_columns"
   ]
  },
  {
   "cell_type": "markdown",
   "metadata": {
    "deletable": true,
    "editable": true
   },
   "source": [
    "<h3> Linear Regression with tf.Estimator framework </h3>"
   ]
  },
  {
   "cell_type": "code",
   "execution_count": 7,
   "metadata": {
    "collapsed": false,
    "deletable": true,
    "editable": true
   },
   "outputs": [
    {
     "name": "stdout",
     "output_type": "stream",
     "text": [
      "INFO:tensorflow:Using default config.\n",
      "INFO:tensorflow:Using config: {'_save_checkpoints_secs': 600, '_session_config': None, '_keep_checkpoint_max': 5, '_task_type': 'worker', '_train_distribute': None, '_is_chief': True, '_cluster_spec': <tensorflow.python.training.server_lib.ClusterSpec object at 0x7f144f5ed0d0>, '_evaluation_master': '', '_save_checkpoints_steps': None, '_keep_checkpoint_every_n_hours': 10000, '_service': None, '_num_ps_replicas': 0, '_tf_random_seed': None, '_master': '', '_num_worker_replicas': 1, '_task_id': 0, '_log_step_count_steps': 100, '_model_dir': 'taxi_trained', '_global_id_in_cluster': 0, '_save_summary_steps': 100}\n",
      "INFO:tensorflow:Calling model_fn.\n",
      "INFO:tensorflow:Done calling model_fn.\n",
      "INFO:tensorflow:Create CheckpointSaverHook.\n",
      "INFO:tensorflow:Graph was finalized.\n",
      "INFO:tensorflow:Running local_init_op.\n",
      "INFO:tensorflow:Done running local_init_op.\n",
      "INFO:tensorflow:Saving checkpoints for 1 into taxi_trained/model.ckpt.\n",
      "INFO:tensorflow:loss = 26297.291, step = 1\n",
      "INFO:tensorflow:global_step/sec: 228.545\n",
      "INFO:tensorflow:loss = 9214.428, step = 101 (0.443 sec)\n",
      "INFO:tensorflow:global_step/sec: 306.951\n",
      "INFO:tensorflow:loss = 9320.067, step = 201 (0.325 sec)\n",
      "INFO:tensorflow:global_step/sec: 295.033\n",
      "INFO:tensorflow:loss = 16693.908, step = 301 (0.338 sec)\n",
      "INFO:tensorflow:global_step/sec: 219.032\n",
      "INFO:tensorflow:loss = 13544.426, step = 401 (0.458 sec)\n",
      "INFO:tensorflow:global_step/sec: 275.02\n",
      "INFO:tensorflow:loss = 11954.922, step = 501 (0.362 sec)\n",
      "INFO:tensorflow:global_step/sec: 266.983\n",
      "INFO:tensorflow:loss = 10636.956, step = 601 (0.374 sec)\n",
      "INFO:tensorflow:Saving checkpoints for 608 into taxi_trained/model.ckpt.\n",
      "INFO:tensorflow:Loss for final step: 224.68369.\n"
     ]
    },
    {
     "data": {
      "text/plain": [
       "<tensorflow.python.estimator.canned.linear.LinearRegressor at 0x7f144c4c8f50>"
      ]
     },
     "execution_count": 7,
     "metadata": {},
     "output_type": "execute_result"
    }
   ],
   "source": [
    "tf.logging.set_verbosity(tf.logging.INFO)\n",
    "\n",
    "OUTDIR = 'taxi_trained'\n",
    "shutil.rmtree(OUTDIR, ignore_errors = True) # start fresh each time\n",
    "\n",
    "model = tf.estimator.LinearRegressor(\n",
    "      feature_columns = make_feature_cols(), model_dir = OUTDIR)\n",
    "\n",
    "model.train(input_fn = make_input_fn(df_train, num_epochs = 10))"
   ]
  },
  {
   "cell_type": "markdown",
   "metadata": {
    "deletable": true,
    "editable": true
   },
   "source": [
    "Evaluate on the validation data (we should defer using the test data to after we have selected a final model)."
   ]
  },
  {
   "cell_type": "code",
   "execution_count": 8,
   "metadata": {
    "collapsed": false,
    "deletable": true,
    "editable": true
   },
   "outputs": [
    {
     "name": "stdout",
     "output_type": "stream",
     "text": [
      "INFO:tensorflow:Calling model_fn.\n",
      "INFO:tensorflow:Done calling model_fn.\n",
      "INFO:tensorflow:Starting evaluation at 2018-07-01-13:31:01\n",
      "INFO:tensorflow:Graph was finalized.\n",
      "INFO:tensorflow:Restoring parameters from taxi_trained/model.ckpt-608\n",
      "INFO:tensorflow:Running local_init_op.\n",
      "INFO:tensorflow:Done running local_init_op.\n",
      "INFO:tensorflow:Finished evaluation at 2018-07-01-13:31:01\n",
      "INFO:tensorflow:Saving dict for global step 608: average_loss = 109.20088, global_step = 608, loss = 12987.1045\n",
      "RMSE on validation dataset = 10.4499225616\n"
     ]
    }
   ],
   "source": [
    "def print_rmse(model, name, df):\n",
    "  metrics = model.evaluate(input_fn = make_input_fn(df, 1))\n",
    "  print('RMSE on {} dataset = {}'.format(name, np.sqrt(metrics['average_loss'])))\n",
    "print_rmse(model, 'validation', df_valid)"
   ]
  },
  {
   "cell_type": "markdown",
   "metadata": {
    "deletable": true,
    "editable": true
   },
   "source": [
    "This is nowhere near our benchmark (RMSE of $6 or so on this data), but it serves to demonstrate what TensorFlow code looks like.  Let's use this model for prediction."
   ]
  },
  {
   "cell_type": "code",
   "execution_count": 9,
   "metadata": {
    "collapsed": false,
    "deletable": true,
    "editable": true
   },
   "outputs": [
    {
     "name": "stdout",
     "output_type": "stream",
     "text": [
      "INFO:tensorflow:Calling model_fn.\n",
      "INFO:tensorflow:Done calling model_fn.\n",
      "INFO:tensorflow:Graph was finalized.\n",
      "INFO:tensorflow:Restoring parameters from taxi_trained/model.ckpt-608\n",
      "INFO:tensorflow:Running local_init_op.\n",
      "INFO:tensorflow:Done running local_init_op.\n",
      "{'predictions': array([12.479328], dtype=float32)}\n",
      "{'predictions': array([12.234742], dtype=float32)}\n",
      "{'predictions': array([12.294908], dtype=float32)}\n",
      "{'predictions': array([12.538774], dtype=float32)}\n",
      "{'predictions': array([12.234323], dtype=float32)}\n"
     ]
    }
   ],
   "source": [
    "predictions = model.predict(input_fn = make_prediction_input_fn(df_valid, 1))\n",
    "for i in xrange(5):\n",
    "  print(predictions.next())"
   ]
  },
  {
   "cell_type": "markdown",
   "metadata": {
    "deletable": true,
    "editable": true
   },
   "source": [
    "This explains why the RMSE was so high -- the model essentially predicts the same amount for every trip.  Would a more complex model help? Let's try using a deep neural network.  The code to do this is quite straightforward as well."
   ]
  },
  {
   "cell_type": "markdown",
   "metadata": {
    "deletable": true,
    "editable": true
   },
   "source": [
    "<h3> Deep Neural Network regression </h3>"
   ]
  },
  {
   "cell_type": "code",
   "execution_count": 10,
   "metadata": {
    "collapsed": false,
    "deletable": true,
    "editable": true
   },
   "outputs": [
    {
     "name": "stdout",
     "output_type": "stream",
     "text": [
      "INFO:tensorflow:Using default config.\n",
      "INFO:tensorflow:Using config: {'_save_checkpoints_secs': 600, '_session_config': None, '_keep_checkpoint_max': 5, '_task_type': 'worker', '_train_distribute': None, '_is_chief': True, '_cluster_spec': <tensorflow.python.training.server_lib.ClusterSpec object at 0x7f144e2f8950>, '_evaluation_master': '', '_save_checkpoints_steps': None, '_keep_checkpoint_every_n_hours': 10000, '_service': None, '_num_ps_replicas': 0, '_tf_random_seed': None, '_master': '', '_num_worker_replicas': 1, '_task_id': 0, '_log_step_count_steps': 100, '_model_dir': 'taxi_trained', '_global_id_in_cluster': 0, '_save_summary_steps': 100}\n",
      "INFO:tensorflow:Calling model_fn.\n",
      "INFO:tensorflow:Done calling model_fn.\n",
      "INFO:tensorflow:Create CheckpointSaverHook.\n",
      "INFO:tensorflow:Graph was finalized.\n",
      "INFO:tensorflow:Running local_init_op.\n",
      "INFO:tensorflow:Done running local_init_op.\n",
      "INFO:tensorflow:Saving checkpoints for 1 into taxi_trained/model.ckpt.\n",
      "INFO:tensorflow:loss = 19401.688, step = 1\n",
      "INFO:tensorflow:global_step/sec: 181.315\n",
      "INFO:tensorflow:loss = 18825.441, step = 101 (0.556 sec)\n",
      "INFO:tensorflow:global_step/sec: 221.703\n",
      "INFO:tensorflow:loss = 23434.172, step = 201 (0.450 sec)\n",
      "INFO:tensorflow:global_step/sec: 236.038\n",
      "INFO:tensorflow:loss = 23853.438, step = 301 (0.424 sec)\n",
      "INFO:tensorflow:global_step/sec: 189.784\n",
      "INFO:tensorflow:loss = 24219.25, step = 401 (0.529 sec)\n",
      "INFO:tensorflow:global_step/sec: 213.464\n",
      "INFO:tensorflow:loss = 13172.734, step = 501 (0.474 sec)\n",
      "INFO:tensorflow:global_step/sec: 197.637\n",
      "INFO:tensorflow:loss = 17028.852, step = 601 (0.500 sec)\n",
      "INFO:tensorflow:global_step/sec: 218.857\n",
      "INFO:tensorflow:loss = 19956.13, step = 701 (0.456 sec)\n",
      "INFO:tensorflow:global_step/sec: 190.402\n",
      "INFO:tensorflow:loss = 16642.43, step = 801 (0.527 sec)\n",
      "INFO:tensorflow:global_step/sec: 224.163\n",
      "INFO:tensorflow:loss = 26873.26, step = 901 (0.445 sec)\n",
      "INFO:tensorflow:global_step/sec: 159.409\n",
      "INFO:tensorflow:loss = 21192.408, step = 1001 (0.626 sec)\n",
      "INFO:tensorflow:global_step/sec: 221.683\n",
      "INFO:tensorflow:loss = 15948.884, step = 1101 (0.452 sec)\n",
      "INFO:tensorflow:global_step/sec: 205.25\n",
      "INFO:tensorflow:loss = 23513.148, step = 1201 (0.487 sec)\n",
      "INFO:tensorflow:global_step/sec: 217.689\n",
      "INFO:tensorflow:loss = 20860.383, step = 1301 (0.459 sec)\n",
      "INFO:tensorflow:global_step/sec: 234.646\n",
      "INFO:tensorflow:loss = 20547.28, step = 1401 (0.427 sec)\n",
      "INFO:tensorflow:global_step/sec: 209.424\n",
      "INFO:tensorflow:loss = 21645.549, step = 1501 (0.478 sec)\n",
      "INFO:tensorflow:global_step/sec: 232.062\n",
      "INFO:tensorflow:loss = 12625.766, step = 1601 (0.434 sec)\n",
      "INFO:tensorflow:global_step/sec: 203.718\n",
      "INFO:tensorflow:loss = 16212.266, step = 1701 (0.488 sec)\n",
      "INFO:tensorflow:global_step/sec: 220.211\n",
      "INFO:tensorflow:loss = 12384.026, step = 1801 (0.454 sec)\n",
      "INFO:tensorflow:global_step/sec: 205.932\n",
      "INFO:tensorflow:loss = 13247.098, step = 1901 (0.485 sec)\n",
      "INFO:tensorflow:global_step/sec: 205.297\n",
      "INFO:tensorflow:loss = 20040.686, step = 2001 (0.488 sec)\n",
      "INFO:tensorflow:global_step/sec: 175.797\n",
      "INFO:tensorflow:loss = 14424.607, step = 2101 (0.569 sec)\n",
      "INFO:tensorflow:global_step/sec: 226.82\n",
      "INFO:tensorflow:loss = 16399.215, step = 2201 (0.440 sec)\n",
      "INFO:tensorflow:global_step/sec: 209.951\n",
      "INFO:tensorflow:loss = 24181.22, step = 2301 (0.477 sec)\n",
      "INFO:tensorflow:global_step/sec: 202.267\n",
      "INFO:tensorflow:loss = 11123.788, step = 2401 (0.495 sec)\n",
      "INFO:tensorflow:global_step/sec: 180.262\n",
      "INFO:tensorflow:loss = 16421.656, step = 2501 (0.555 sec)\n",
      "INFO:tensorflow:global_step/sec: 234.048\n",
      "INFO:tensorflow:loss = 20160.512, step = 2601 (0.427 sec)\n",
      "INFO:tensorflow:global_step/sec: 211.455\n",
      "INFO:tensorflow:loss = 21206.855, step = 2701 (0.473 sec)\n",
      "INFO:tensorflow:global_step/sec: 226.646\n",
      "INFO:tensorflow:loss = 14954.1875, step = 2801 (0.441 sec)\n",
      "INFO:tensorflow:global_step/sec: 172.649\n",
      "INFO:tensorflow:loss = 14819.068, step = 2901 (0.578 sec)\n",
      "INFO:tensorflow:global_step/sec: 209.758\n",
      "INFO:tensorflow:loss = 16749.37, step = 3001 (0.478 sec)\n",
      "INFO:tensorflow:global_step/sec: 250.466\n",
      "INFO:tensorflow:loss = 19643.7, step = 3101 (0.398 sec)\n",
      "INFO:tensorflow:global_step/sec: 270.661\n",
      "INFO:tensorflow:loss = 12286.533, step = 3201 (0.370 sec)\n",
      "INFO:tensorflow:global_step/sec: 265.525\n",
      "INFO:tensorflow:loss = 19056.945, step = 3301 (0.376 sec)\n",
      "INFO:tensorflow:global_step/sec: 224.259\n",
      "INFO:tensorflow:loss = 21917.879, step = 3401 (0.446 sec)\n",
      "INFO:tensorflow:global_step/sec: 267.855\n",
      "INFO:tensorflow:loss = 8159.956, step = 3501 (0.373 sec)\n",
      "INFO:tensorflow:global_step/sec: 259.988\n",
      "INFO:tensorflow:loss = 15356.062, step = 3601 (0.385 sec)\n",
      "INFO:tensorflow:global_step/sec: 279.171\n",
      "INFO:tensorflow:loss = 14086.538, step = 3701 (0.358 sec)\n",
      "INFO:tensorflow:global_step/sec: 244.371\n",
      "INFO:tensorflow:loss = 10285.119, step = 3801 (0.409 sec)\n",
      "INFO:tensorflow:global_step/sec: 240.482\n",
      "INFO:tensorflow:loss = 8711.303, step = 3901 (0.417 sec)\n",
      "INFO:tensorflow:global_step/sec: 264.411\n",
      "INFO:tensorflow:loss = 16437.688, step = 4001 (0.377 sec)\n",
      "INFO:tensorflow:global_step/sec: 248.284\n",
      "INFO:tensorflow:loss = 11401.413, step = 4101 (0.403 sec)\n",
      "INFO:tensorflow:global_step/sec: 261.592\n",
      "INFO:tensorflow:loss = 15276.095, step = 4201 (0.382 sec)\n",
      "INFO:tensorflow:global_step/sec: 279.576\n",
      "INFO:tensorflow:loss = 13551.02, step = 4301 (0.358 sec)\n",
      "INFO:tensorflow:global_step/sec: 229.434\n",
      "INFO:tensorflow:loss = 10096.951, step = 4401 (0.436 sec)\n",
      "INFO:tensorflow:global_step/sec: 276.258\n",
      "INFO:tensorflow:loss = 20584.844, step = 4501 (0.362 sec)\n",
      "INFO:tensorflow:global_step/sec: 267.093\n",
      "INFO:tensorflow:loss = 19516.488, step = 4601 (0.374 sec)\n",
      "INFO:tensorflow:global_step/sec: 256.001\n",
      "INFO:tensorflow:loss = 14226.616, step = 4701 (0.391 sec)\n",
      "INFO:tensorflow:global_step/sec: 287.332\n",
      "INFO:tensorflow:loss = 16756.197, step = 4801 (0.348 sec)\n",
      "INFO:tensorflow:global_step/sec: 249.341\n",
      "INFO:tensorflow:loss = 18068.152, step = 4901 (0.401 sec)\n",
      "INFO:tensorflow:global_step/sec: 269.386\n",
      "INFO:tensorflow:loss = 10777.485, step = 5001 (0.371 sec)\n",
      "INFO:tensorflow:global_step/sec: 275.716\n",
      "INFO:tensorflow:loss = 9848.832, step = 5101 (0.363 sec)\n",
      "INFO:tensorflow:global_step/sec: 245.898\n",
      "INFO:tensorflow:loss = 10664.014, step = 5201 (0.407 sec)\n",
      "INFO:tensorflow:global_step/sec: 260.139\n",
      "INFO:tensorflow:loss = 12902.417, step = 5301 (0.384 sec)\n",
      "INFO:tensorflow:global_step/sec: 268.842\n",
      "INFO:tensorflow:loss = 15127.379, step = 5401 (0.384 sec)\n",
      "INFO:tensorflow:global_step/sec: 216.572\n",
      "INFO:tensorflow:loss = 9008.621, step = 5501 (0.450 sec)\n",
      "INFO:tensorflow:global_step/sec: 258.536\n",
      "INFO:tensorflow:loss = 10221.887, step = 5601 (0.386 sec)\n",
      "INFO:tensorflow:global_step/sec: 250.865\n",
      "INFO:tensorflow:loss = 19634.852, step = 5701 (0.399 sec)\n",
      "INFO:tensorflow:global_step/sec: 265.458\n",
      "INFO:tensorflow:loss = 11479.582, step = 5801 (0.379 sec)\n",
      "INFO:tensorflow:global_step/sec: 268.286\n",
      "INFO:tensorflow:loss = 13543.713, step = 5901 (0.372 sec)\n",
      "INFO:tensorflow:global_step/sec: 262.703\n",
      "INFO:tensorflow:loss = 12611.215, step = 6001 (0.379 sec)\n",
      "INFO:tensorflow:Saving checkpoints for 6071 into taxi_trained/model.ckpt.\n",
      "INFO:tensorflow:Loss for final step: 5884.744.\n",
      "INFO:tensorflow:Calling model_fn.\n",
      "INFO:tensorflow:Done calling model_fn.\n",
      "INFO:tensorflow:Starting evaluation at 2018-07-01-13:31:57\n",
      "INFO:tensorflow:Graph was finalized.\n",
      "INFO:tensorflow:Restoring parameters from taxi_trained/model.ckpt-6071\n",
      "INFO:tensorflow:Running local_init_op.\n",
      "INFO:tensorflow:Done running local_init_op.\n",
      "INFO:tensorflow:Finished evaluation at 2018-07-01-13:31:58\n",
      "INFO:tensorflow:Saving dict for global step 6071: average_loss = 134.84532, global_step = 6071, loss = 16036.961\n",
      "RMSE on validation dataset = 11.6122922897\n"
     ]
    }
   ],
   "source": [
    "tf.logging.set_verbosity(tf.logging.INFO)\n",
    "shutil.rmtree(OUTDIR, ignore_errors = True) # start fresh each time\n",
    "model = tf.estimator.DNNRegressor(hidden_units = [32, 8, 2],\n",
    "      feature_columns = make_feature_cols(), model_dir = OUTDIR)\n",
    "model.train(input_fn = make_input_fn(df_train, num_epochs = 100));\n",
    "print_rmse(model, 'validation', df_valid)"
   ]
  },
  {
   "cell_type": "markdown",
   "metadata": {
    "deletable": true,
    "editable": true
   },
   "source": [
    "We are not beating our benchmark with either model ... what's up?  Well, we may be using TensorFlow for Machine Learning, but we are not yet using it well.  That's what the rest of this course is about!\n",
    "\n",
    "But, for the record, let's say we had to choose between the two models. We'd choose the one with the lower validation error. Finally, we'd measure the RMSE on the test data with this chosen model."
   ]
  },
  {
   "cell_type": "markdown",
   "metadata": {
    "deletable": true,
    "editable": true
   },
   "source": [
    "<h2> Benchmark dataset </h2>\n",
    "\n",
    "Let's do this on the benchmark dataset."
   ]
  },
  {
   "cell_type": "code",
   "execution_count": 12,
   "metadata": {
    "collapsed": false,
    "deletable": true,
    "editable": true
   },
   "outputs": [],
   "source": [
    "import datalab.bigquery as bq\n",
    "import numpy as np\n",
    "import pandas as pd\n",
    "\n",
    "\n",
    "def create_query(phase, EVERY_N):\n",
    "  \"\"\"\n",
    "  phase: 1 = train 2 = valid\n",
    "  \"\"\"\n",
    "  base_query = \"\"\"\n",
    "SELECT\n",
    "  (tolls_amount + fare_amount) AS fare_amount,\n",
    "  CONCAT(STRING(pickup_datetime), STRING(pickup_longitude), STRING(pickup_latitude), STRING(dropoff_latitude), STRING(dropoff_longitude)) AS key,\n",
    "  DAYOFWEEK(pickup_datetime)*1.0 AS dayofweek,\n",
    "  HOUR(pickup_datetime)*1.0 AS hourofday,\n",
    "  pickup_longitude AS pickuplon,\n",
    "  pickup_latitude AS pickuplat,\n",
    "  dropoff_longitude AS dropofflon,\n",
    "  dropoff_latitude AS dropofflat,\n",
    "  passenger_count*1.0 AS passengers,\n",
    "FROM\n",
    "  [nyc-tlc:yellow.trips]\n",
    "WHERE\n",
    "  trip_distance > 0\n",
    "  AND fare_amount >= 2.5\n",
    "  AND pickup_longitude > -78\n",
    "  AND pickup_longitude < -70\n",
    "  AND dropoff_longitude > -78\n",
    "  AND dropoff_longitude < -70\n",
    "  AND pickup_latitude > 37\n",
    "  AND pickup_latitude < 45\n",
    "  AND dropoff_latitude > 37\n",
    "  AND dropoff_latitude < 45\n",
    "  AND passenger_count > 0\n",
    "  \"\"\"\n",
    "\n",
    "  if EVERY_N == None:\n",
    "    if phase < 2:\n",
    "      # Training\n",
    "      query = \"{0} AND ABS(HASH(pickup_datetime)) % 4 < 2\".format(base_query)\n",
    "    else:\n",
    "      # Validation\n",
    "      query = \"{0} AND ABS(HASH(pickup_datetime)) % 4 == {1}\".format(base_query, phase)\n",
    "  else:\n",
    "    query = \"{0} AND ABS(HASH(pickup_datetime)) % {1} == {2}\".format(base_query, EVERY_N, phase)\n",
    "    \n",
    "  return query\n",
    "\n",
    "query = create_query(2, 100000)\n",
    "df = bq.Query(query).to_dataframe()"
   ]
  },
  {
   "cell_type": "code",
   "execution_count": 13,
   "metadata": {
    "collapsed": false,
    "deletable": true,
    "editable": true
   },
   "outputs": [
    {
     "name": "stdout",
     "output_type": "stream",
     "text": [
      "INFO:tensorflow:Calling model_fn.\n",
      "INFO:tensorflow:Done calling model_fn.\n",
      "INFO:tensorflow:Starting evaluation at 2018-07-01-13:33:49\n",
      "INFO:tensorflow:Graph was finalized.\n",
      "INFO:tensorflow:Restoring parameters from taxi_trained/model.ckpt-6071\n",
      "INFO:tensorflow:Running local_init_op.\n",
      "INFO:tensorflow:Done running local_init_op.\n",
      "INFO:tensorflow:Finished evaluation at 2018-07-01-13:33:50\n",
      "INFO:tensorflow:Saving dict for global step 6071: average_loss = 111.317, global_step = 6071, loss = 14148.677\n",
      "RMSE on benchmark dataset = 10.5506868362\n"
     ]
    }
   ],
   "source": [
    "print_rmse(model, 'benchmark', df)"
   ]
  },
  {
   "cell_type": "markdown",
   "metadata": {
    "deletable": true,
    "editable": true
   },
   "source": [
    "RMSE on benchmark dataset is <b>9.41</b> (your results will vary because of random seeds).\n",
    "\n",
    "This is not only way more than our original benchmark of 6.00, but it doesn't even beat our distance-based rule's RMSE of 8.02.\n",
    "\n",
    "Fear not -- you have learned how to write a TensorFlow model, but not to do all the things that you will have to do to your ML model performant. We will do this in the next chapters. In this chapter though, we will get our TensorFlow model ready for these improvements.\n",
    "\n",
    "In a software sense, the rest of the labs in this chapter will be about refactoring the code so that we can improve it."
   ]
  },
  {
   "cell_type": "markdown",
   "metadata": {
    "deletable": true,
    "editable": true
   },
   "source": [
    "## Challenge Exercise\n",
    "\n",
    "Create a neural network that is capable of finding the volume of a cylinder given the radius of its base (r) and its height (h). Assume that the radius and height of the cylinder are both in the range 0.5 to 2.0. Simulate the necessary training dataset.\n",
    "<p>\n",
    "Hint (highlight to see):\n",
    "<p style='color:white'>\n",
    "The input features will be r and h and the label will be $\\pi r^2 h$\n",
    "Create random values for r and h and compute V.\n",
    "Your dataset will consist of r, h and V.\n",
    "Then, use a DNN regressor.\n",
    "Make sure to generate enough data.\n",
    "</p>"
   ]
  },
  {
   "cell_type": "markdown",
   "metadata": {
    "deletable": true,
    "editable": true
   },
   "source": [
    "Copyright 2017 Google Inc. Licensed under the Apache License, Version 2.0 (the \"License\"); you may not use this file except in compliance with the License. You may obtain a copy of the License at http://www.apache.org/licenses/LICENSE-2.0 Unless required by applicable law or agreed to in writing, software distributed under the License is distributed on an \"AS IS\" BASIS, WITHOUT WARRANTIES OR CONDITIONS OF ANY KIND, either express or implied. See the License for the specific language governing permissions and limitations under the License"
   ]
  }
 ],
 "metadata": {
  "kernelspec": {
   "display_name": "Python 2",
   "language": "python",
   "name": "python2"
  },
  "language_info": {
   "codemirror_mode": {
    "name": "ipython",
    "version": 2
   },
   "file_extension": ".py",
   "mimetype": "text/x-python",
   "name": "python",
   "nbconvert_exporter": "python",
   "pygments_lexer": "ipython2",
   "version": "2.7.15"
  }
 },
 "nbformat": 4,
 "nbformat_minor": 0
}
